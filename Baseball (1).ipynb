{
 "cells": [
  {
   "cell_type": "code",
   "execution_count": 3,
   "metadata": {},
   "outputs": [],
   "source": [
    "import pandas as pd\n",
    "import numpy as np\n",
    "import matplotlib.pyplot as plt\n",
    "import seaborn as sns\n",
    "import warnings\n",
    "warnings.filterwarnings(\"ignore\")"
   ]
  },
  {
   "cell_type": "code",
   "execution_count": 4,
   "metadata": {},
   "outputs": [
    {
     "data": {
      "text/html": [
       "<div>\n",
       "<style scoped>\n",
       "    .dataframe tbody tr th:only-of-type {\n",
       "        vertical-align: middle;\n",
       "    }\n",
       "\n",
       "    .dataframe tbody tr th {\n",
       "        vertical-align: top;\n",
       "    }\n",
       "\n",
       "    .dataframe thead th {\n",
       "        text-align: right;\n",
       "    }\n",
       "</style>\n",
       "<table border=\"1\" class=\"dataframe\">\n",
       "  <thead>\n",
       "    <tr style=\"text-align: right;\">\n",
       "      <th></th>\n",
       "      <th>W</th>\n",
       "      <th>R</th>\n",
       "      <th>AB</th>\n",
       "      <th>H</th>\n",
       "      <th>2B</th>\n",
       "      <th>3B</th>\n",
       "      <th>HR</th>\n",
       "      <th>BB</th>\n",
       "      <th>SO</th>\n",
       "      <th>SB</th>\n",
       "      <th>RA</th>\n",
       "      <th>ER</th>\n",
       "      <th>ERA</th>\n",
       "      <th>CG</th>\n",
       "      <th>SHO</th>\n",
       "      <th>SV</th>\n",
       "      <th>E</th>\n",
       "    </tr>\n",
       "  </thead>\n",
       "  <tbody>\n",
       "    <tr>\n",
       "      <th>0</th>\n",
       "      <td>95</td>\n",
       "      <td>724</td>\n",
       "      <td>5575</td>\n",
       "      <td>1497</td>\n",
       "      <td>300</td>\n",
       "      <td>42</td>\n",
       "      <td>139</td>\n",
       "      <td>383</td>\n",
       "      <td>973</td>\n",
       "      <td>104</td>\n",
       "      <td>641</td>\n",
       "      <td>601</td>\n",
       "      <td>3.73</td>\n",
       "      <td>2</td>\n",
       "      <td>8</td>\n",
       "      <td>56</td>\n",
       "      <td>88</td>\n",
       "    </tr>\n",
       "    <tr>\n",
       "      <th>1</th>\n",
       "      <td>83</td>\n",
       "      <td>696</td>\n",
       "      <td>5467</td>\n",
       "      <td>1349</td>\n",
       "      <td>277</td>\n",
       "      <td>44</td>\n",
       "      <td>156</td>\n",
       "      <td>439</td>\n",
       "      <td>1264</td>\n",
       "      <td>70</td>\n",
       "      <td>700</td>\n",
       "      <td>653</td>\n",
       "      <td>4.07</td>\n",
       "      <td>2</td>\n",
       "      <td>12</td>\n",
       "      <td>45</td>\n",
       "      <td>86</td>\n",
       "    </tr>\n",
       "    <tr>\n",
       "      <th>2</th>\n",
       "      <td>81</td>\n",
       "      <td>669</td>\n",
       "      <td>5439</td>\n",
       "      <td>1395</td>\n",
       "      <td>303</td>\n",
       "      <td>29</td>\n",
       "      <td>141</td>\n",
       "      <td>533</td>\n",
       "      <td>1157</td>\n",
       "      <td>86</td>\n",
       "      <td>640</td>\n",
       "      <td>584</td>\n",
       "      <td>3.67</td>\n",
       "      <td>11</td>\n",
       "      <td>10</td>\n",
       "      <td>38</td>\n",
       "      <td>79</td>\n",
       "    </tr>\n",
       "    <tr>\n",
       "      <th>3</th>\n",
       "      <td>76</td>\n",
       "      <td>622</td>\n",
       "      <td>5533</td>\n",
       "      <td>1381</td>\n",
       "      <td>260</td>\n",
       "      <td>27</td>\n",
       "      <td>136</td>\n",
       "      <td>404</td>\n",
       "      <td>1231</td>\n",
       "      <td>68</td>\n",
       "      <td>701</td>\n",
       "      <td>643</td>\n",
       "      <td>3.98</td>\n",
       "      <td>7</td>\n",
       "      <td>9</td>\n",
       "      <td>37</td>\n",
       "      <td>101</td>\n",
       "    </tr>\n",
       "    <tr>\n",
       "      <th>4</th>\n",
       "      <td>74</td>\n",
       "      <td>689</td>\n",
       "      <td>5605</td>\n",
       "      <td>1515</td>\n",
       "      <td>289</td>\n",
       "      <td>49</td>\n",
       "      <td>151</td>\n",
       "      <td>455</td>\n",
       "      <td>1259</td>\n",
       "      <td>83</td>\n",
       "      <td>803</td>\n",
       "      <td>746</td>\n",
       "      <td>4.64</td>\n",
       "      <td>7</td>\n",
       "      <td>12</td>\n",
       "      <td>35</td>\n",
       "      <td>86</td>\n",
       "    </tr>\n",
       "  </tbody>\n",
       "</table>\n",
       "</div>"
      ],
      "text/plain": [
       "    W    R    AB     H   2B  3B   HR   BB    SO   SB   RA   ER   ERA  CG  SHO  \\\n",
       "0  95  724  5575  1497  300  42  139  383   973  104  641  601  3.73   2    8   \n",
       "1  83  696  5467  1349  277  44  156  439  1264   70  700  653  4.07   2   12   \n",
       "2  81  669  5439  1395  303  29  141  533  1157   86  640  584  3.67  11   10   \n",
       "3  76  622  5533  1381  260  27  136  404  1231   68  701  643  3.98   7    9   \n",
       "4  74  689  5605  1515  289  49  151  455  1259   83  803  746  4.64   7   12   \n",
       "\n",
       "   SV    E  \n",
       "0  56   88  \n",
       "1  45   86  \n",
       "2  38   79  \n",
       "3  37  101  \n",
       "4  35   86  "
      ]
     },
     "execution_count": 4,
     "metadata": {},
     "output_type": "execute_result"
    }
   ],
   "source": [
    "df=pd.read_csv('https://raw.githubusercontent.com/dsrscientist/Data-Science-ML-Capstone-Projects/master/baseball.csv')\n",
    "df.head()"
   ]
  },
  {
   "cell_type": "code",
   "execution_count": 5,
   "metadata": {},
   "outputs": [
    {
     "data": {
      "text/plain": [
       "W        int64\n",
       "R        int64\n",
       "AB       int64\n",
       "H        int64\n",
       "2B       int64\n",
       "3B       int64\n",
       "HR       int64\n",
       "BB       int64\n",
       "SO       int64\n",
       "SB       int64\n",
       "RA       int64\n",
       "ER       int64\n",
       "ERA    float64\n",
       "CG       int64\n",
       "SHO      int64\n",
       "SV       int64\n",
       "E        int64\n",
       "dtype: object"
      ]
     },
     "execution_count": 5,
     "metadata": {},
     "output_type": "execute_result"
    }
   ],
   "source": [
    "df.dtypes"
   ]
  },
  {
   "cell_type": "code",
   "execution_count": 6,
   "metadata": {},
   "outputs": [],
   "source": [
    "#all the columns are of data type int except ERA which is flot"
   ]
  },
  {
   "cell_type": "code",
   "execution_count": 7,
   "metadata": {},
   "outputs": [
    {
     "name": "stdout",
     "output_type": "stream",
     "text": [
      "<class 'pandas.core.frame.DataFrame'>\n",
      "RangeIndex: 30 entries, 0 to 29\n",
      "Data columns (total 17 columns):\n",
      " #   Column  Non-Null Count  Dtype  \n",
      "---  ------  --------------  -----  \n",
      " 0   W       30 non-null     int64  \n",
      " 1   R       30 non-null     int64  \n",
      " 2   AB      30 non-null     int64  \n",
      " 3   H       30 non-null     int64  \n",
      " 4   2B      30 non-null     int64  \n",
      " 5   3B      30 non-null     int64  \n",
      " 6   HR      30 non-null     int64  \n",
      " 7   BB      30 non-null     int64  \n",
      " 8   SO      30 non-null     int64  \n",
      " 9   SB      30 non-null     int64  \n",
      " 10  RA      30 non-null     int64  \n",
      " 11  ER      30 non-null     int64  \n",
      " 12  ERA     30 non-null     float64\n",
      " 13  CG      30 non-null     int64  \n",
      " 14  SHO     30 non-null     int64  \n",
      " 15  SV      30 non-null     int64  \n",
      " 16  E       30 non-null     int64  \n",
      "dtypes: float64(1), int64(16)\n",
      "memory usage: 4.1 KB\n"
     ]
    }
   ],
   "source": [
    "df.info()"
   ]
  },
  {
   "cell_type": "code",
   "execution_count": 8,
   "metadata": {},
   "outputs": [
    {
     "data": {
      "text/plain": [
       "W      0\n",
       "R      0\n",
       "AB     0\n",
       "H      0\n",
       "2B     0\n",
       "3B     0\n",
       "HR     0\n",
       "BB     0\n",
       "SO     0\n",
       "SB     0\n",
       "RA     0\n",
       "ER     0\n",
       "ERA    0\n",
       "CG     0\n",
       "SHO    0\n",
       "SV     0\n",
       "E      0\n",
       "dtype: int64"
      ]
     },
     "execution_count": 8,
     "metadata": {},
     "output_type": "execute_result"
    }
   ],
   "source": [
    "df.isnull().sum()"
   ]
  },
  {
   "cell_type": "code",
   "execution_count": 9,
   "metadata": {},
   "outputs": [],
   "source": [
    "#No null values in the data set"
   ]
  },
  {
   "cell_type": "code",
   "execution_count": 10,
   "metadata": {},
   "outputs": [
    {
     "data": {
      "text/html": [
       "<div>\n",
       "<style scoped>\n",
       "    .dataframe tbody tr th:only-of-type {\n",
       "        vertical-align: middle;\n",
       "    }\n",
       "\n",
       "    .dataframe tbody tr th {\n",
       "        vertical-align: top;\n",
       "    }\n",
       "\n",
       "    .dataframe thead th {\n",
       "        text-align: right;\n",
       "    }\n",
       "</style>\n",
       "<table border=\"1\" class=\"dataframe\">\n",
       "  <thead>\n",
       "    <tr style=\"text-align: right;\">\n",
       "      <th></th>\n",
       "      <th>W</th>\n",
       "      <th>R</th>\n",
       "      <th>AB</th>\n",
       "      <th>H</th>\n",
       "      <th>2B</th>\n",
       "      <th>3B</th>\n",
       "      <th>HR</th>\n",
       "      <th>BB</th>\n",
       "      <th>SO</th>\n",
       "      <th>SB</th>\n",
       "      <th>RA</th>\n",
       "      <th>ER</th>\n",
       "      <th>ERA</th>\n",
       "      <th>CG</th>\n",
       "      <th>SHO</th>\n",
       "      <th>SV</th>\n",
       "      <th>E</th>\n",
       "    </tr>\n",
       "  </thead>\n",
       "  <tbody>\n",
       "    <tr>\n",
       "      <th>count</th>\n",
       "      <td>30.000000</td>\n",
       "      <td>30.000000</td>\n",
       "      <td>30.000000</td>\n",
       "      <td>30.000000</td>\n",
       "      <td>30.000000</td>\n",
       "      <td>30.000000</td>\n",
       "      <td>30.000000</td>\n",
       "      <td>30.000000</td>\n",
       "      <td>30.00000</td>\n",
       "      <td>30.000000</td>\n",
       "      <td>30.000000</td>\n",
       "      <td>30.000000</td>\n",
       "      <td>30.000000</td>\n",
       "      <td>30.000000</td>\n",
       "      <td>30.000000</td>\n",
       "      <td>30.000000</td>\n",
       "      <td>30.000000</td>\n",
       "    </tr>\n",
       "    <tr>\n",
       "      <th>mean</th>\n",
       "      <td>80.966667</td>\n",
       "      <td>688.233333</td>\n",
       "      <td>5516.266667</td>\n",
       "      <td>1403.533333</td>\n",
       "      <td>274.733333</td>\n",
       "      <td>31.300000</td>\n",
       "      <td>163.633333</td>\n",
       "      <td>469.100000</td>\n",
       "      <td>1248.20000</td>\n",
       "      <td>83.500000</td>\n",
       "      <td>688.233333</td>\n",
       "      <td>635.833333</td>\n",
       "      <td>3.956333</td>\n",
       "      <td>3.466667</td>\n",
       "      <td>11.300000</td>\n",
       "      <td>43.066667</td>\n",
       "      <td>94.333333</td>\n",
       "    </tr>\n",
       "    <tr>\n",
       "      <th>std</th>\n",
       "      <td>10.453455</td>\n",
       "      <td>58.761754</td>\n",
       "      <td>70.467372</td>\n",
       "      <td>57.140923</td>\n",
       "      <td>18.095405</td>\n",
       "      <td>10.452355</td>\n",
       "      <td>31.823309</td>\n",
       "      <td>57.053725</td>\n",
       "      <td>103.75947</td>\n",
       "      <td>22.815225</td>\n",
       "      <td>72.108005</td>\n",
       "      <td>70.140786</td>\n",
       "      <td>0.454089</td>\n",
       "      <td>2.763473</td>\n",
       "      <td>4.120177</td>\n",
       "      <td>7.869335</td>\n",
       "      <td>13.958889</td>\n",
       "    </tr>\n",
       "    <tr>\n",
       "      <th>min</th>\n",
       "      <td>63.000000</td>\n",
       "      <td>573.000000</td>\n",
       "      <td>5385.000000</td>\n",
       "      <td>1324.000000</td>\n",
       "      <td>236.000000</td>\n",
       "      <td>13.000000</td>\n",
       "      <td>100.000000</td>\n",
       "      <td>375.000000</td>\n",
       "      <td>973.00000</td>\n",
       "      <td>44.000000</td>\n",
       "      <td>525.000000</td>\n",
       "      <td>478.000000</td>\n",
       "      <td>2.940000</td>\n",
       "      <td>0.000000</td>\n",
       "      <td>4.000000</td>\n",
       "      <td>28.000000</td>\n",
       "      <td>75.000000</td>\n",
       "    </tr>\n",
       "    <tr>\n",
       "      <th>25%</th>\n",
       "      <td>74.000000</td>\n",
       "      <td>651.250000</td>\n",
       "      <td>5464.000000</td>\n",
       "      <td>1363.000000</td>\n",
       "      <td>262.250000</td>\n",
       "      <td>23.000000</td>\n",
       "      <td>140.250000</td>\n",
       "      <td>428.250000</td>\n",
       "      <td>1157.50000</td>\n",
       "      <td>69.000000</td>\n",
       "      <td>636.250000</td>\n",
       "      <td>587.250000</td>\n",
       "      <td>3.682500</td>\n",
       "      <td>1.000000</td>\n",
       "      <td>9.000000</td>\n",
       "      <td>37.250000</td>\n",
       "      <td>86.000000</td>\n",
       "    </tr>\n",
       "    <tr>\n",
       "      <th>50%</th>\n",
       "      <td>81.000000</td>\n",
       "      <td>689.000000</td>\n",
       "      <td>5510.000000</td>\n",
       "      <td>1382.500000</td>\n",
       "      <td>275.500000</td>\n",
       "      <td>31.000000</td>\n",
       "      <td>158.500000</td>\n",
       "      <td>473.000000</td>\n",
       "      <td>1261.50000</td>\n",
       "      <td>83.500000</td>\n",
       "      <td>695.500000</td>\n",
       "      <td>644.500000</td>\n",
       "      <td>4.025000</td>\n",
       "      <td>3.000000</td>\n",
       "      <td>12.000000</td>\n",
       "      <td>42.000000</td>\n",
       "      <td>91.000000</td>\n",
       "    </tr>\n",
       "    <tr>\n",
       "      <th>75%</th>\n",
       "      <td>87.750000</td>\n",
       "      <td>718.250000</td>\n",
       "      <td>5570.000000</td>\n",
       "      <td>1451.500000</td>\n",
       "      <td>288.750000</td>\n",
       "      <td>39.000000</td>\n",
       "      <td>177.000000</td>\n",
       "      <td>501.250000</td>\n",
       "      <td>1311.50000</td>\n",
       "      <td>96.500000</td>\n",
       "      <td>732.500000</td>\n",
       "      <td>679.250000</td>\n",
       "      <td>4.220000</td>\n",
       "      <td>5.750000</td>\n",
       "      <td>13.000000</td>\n",
       "      <td>46.750000</td>\n",
       "      <td>96.750000</td>\n",
       "    </tr>\n",
       "    <tr>\n",
       "      <th>max</th>\n",
       "      <td>100.000000</td>\n",
       "      <td>891.000000</td>\n",
       "      <td>5649.000000</td>\n",
       "      <td>1515.000000</td>\n",
       "      <td>308.000000</td>\n",
       "      <td>49.000000</td>\n",
       "      <td>232.000000</td>\n",
       "      <td>570.000000</td>\n",
       "      <td>1518.00000</td>\n",
       "      <td>134.000000</td>\n",
       "      <td>844.000000</td>\n",
       "      <td>799.000000</td>\n",
       "      <td>5.040000</td>\n",
       "      <td>11.000000</td>\n",
       "      <td>21.000000</td>\n",
       "      <td>62.000000</td>\n",
       "      <td>126.000000</td>\n",
       "    </tr>\n",
       "  </tbody>\n",
       "</table>\n",
       "</div>"
      ],
      "text/plain": [
       "                W           R           AB            H          2B  \\\n",
       "count   30.000000   30.000000    30.000000    30.000000   30.000000   \n",
       "mean    80.966667  688.233333  5516.266667  1403.533333  274.733333   \n",
       "std     10.453455   58.761754    70.467372    57.140923   18.095405   \n",
       "min     63.000000  573.000000  5385.000000  1324.000000  236.000000   \n",
       "25%     74.000000  651.250000  5464.000000  1363.000000  262.250000   \n",
       "50%     81.000000  689.000000  5510.000000  1382.500000  275.500000   \n",
       "75%     87.750000  718.250000  5570.000000  1451.500000  288.750000   \n",
       "max    100.000000  891.000000  5649.000000  1515.000000  308.000000   \n",
       "\n",
       "              3B          HR          BB          SO          SB          RA  \\\n",
       "count  30.000000   30.000000   30.000000    30.00000   30.000000   30.000000   \n",
       "mean   31.300000  163.633333  469.100000  1248.20000   83.500000  688.233333   \n",
       "std    10.452355   31.823309   57.053725   103.75947   22.815225   72.108005   \n",
       "min    13.000000  100.000000  375.000000   973.00000   44.000000  525.000000   \n",
       "25%    23.000000  140.250000  428.250000  1157.50000   69.000000  636.250000   \n",
       "50%    31.000000  158.500000  473.000000  1261.50000   83.500000  695.500000   \n",
       "75%    39.000000  177.000000  501.250000  1311.50000   96.500000  732.500000   \n",
       "max    49.000000  232.000000  570.000000  1518.00000  134.000000  844.000000   \n",
       "\n",
       "               ER        ERA         CG        SHO         SV           E  \n",
       "count   30.000000  30.000000  30.000000  30.000000  30.000000   30.000000  \n",
       "mean   635.833333   3.956333   3.466667  11.300000  43.066667   94.333333  \n",
       "std     70.140786   0.454089   2.763473   4.120177   7.869335   13.958889  \n",
       "min    478.000000   2.940000   0.000000   4.000000  28.000000   75.000000  \n",
       "25%    587.250000   3.682500   1.000000   9.000000  37.250000   86.000000  \n",
       "50%    644.500000   4.025000   3.000000  12.000000  42.000000   91.000000  \n",
       "75%    679.250000   4.220000   5.750000  13.000000  46.750000   96.750000  \n",
       "max    799.000000   5.040000  11.000000  21.000000  62.000000  126.000000  "
      ]
     },
     "execution_count": 10,
     "metadata": {},
     "output_type": "execute_result"
    }
   ],
   "source": [
    "df.describe()"
   ]
  },
  {
   "cell_type": "code",
   "execution_count": 11,
   "metadata": {},
   "outputs": [],
   "source": [
    "#data is widely spread as the standard deviation is quite high except for ERA and CG"
   ]
  },
  {
   "cell_type": "code",
   "execution_count": 12,
   "metadata": {},
   "outputs": [
    {
     "data": {
      "image/png": "[encoded data removed]",
      "text/plain": [
       "<Figure size 432x288 with 1 Axes>"
      ]
     },
     "metadata": {
      "needs_background": "light"
     },
     "output_type": "display_data"
    },
    {
     "data": {
      "image/png": "[encoded data removed]",
      "text/plain": [
       "<Figure size 432x288 with 1 Axes>"
      ]
     },
     "metadata": {
      "needs_background": "light"
     },
     "output_type": "display_data"
    },
    {
     "data": {
      "image/png": "[encoded data removed]",
      "text/plain": [
       "<Figure size 432x288 with 1 Axes>"
      ]
     },
     "metadata": {
      "needs_background": "light"
     },
     "output_type": "display_data"
    },
    {
     "data": {
      "image/png": "[encoded data removed]",
      "text/plain": [
       "<Figure size 432x288 with 1 Axes>"
      ]
     },
     "metadata": {
      "needs_background": "light"
     },
     "output_type": "display_data"
    },
    {
     "data": {
      "image/png": "[encoded data removed]",
      "text/plain": [
       "<Figure size 432x288 with 1 Axes>"
      ]
     },
     "metadata": {
      "needs_background": "light"
     },
     "output_type": "display_data"
    },
    {
     "data": {
      "image/png": "[encoded data removed]",
      "text/plain": [
       "<Figure size 432x288 with 1 Axes>"
      ]
     },
     "metadata": {
      "needs_background": "light"
     },
     "output_type": "display_data"
    },
    {
     "data": {
      "image/png": "[encoded data removed]",
      "text/plain": [
       "<Figure size 432x288 with 1 Axes>"
      ]
     },
     "metadata": {
      "needs_background": "light"
     },
     "output_type": "display_data"
    },
    {
     "data": {
      "image/png": "[encoded data removed]",
      "text/plain": [
       "<Figure size 432x288 with 1 Axes>"
      ]
     },
     "metadata": {
      "needs_background": "light"
     },
     "output_type": "display_data"
    },
    {
     "data": {
      "image/png": "[encoded data removed]",
      "text/plain": [
       "<Figure size 432x288 with 1 Axes>"
      ]
     },
     "metadata": {
      "needs_background": "light"
     },
     "output_type": "display_data"
    },
    {
     "data": {
      "image/png": "[encoded data removed]",
      "text/plain": [
       "<Figure size 432x288 with 1 Axes>"
      ]
     },
     "metadata": {
      "needs_background": "light"
     },
     "output_type": "display_data"
    },
    {
     "data": {
      "image/png": "[encoded data removed]",
      "text/plain": [
       "<Figure size 432x288 with 1 Axes>"
      ]
     },
     "metadata": {
      "needs_background": "light"
     },
     "output_type": "display_data"
    },
    {
     "data": {
      "image/png": "[encoded data removed]",
      "text/plain": [
       "<Figure size 432x288 with 1 Axes>"
      ]
     },
     "metadata": {
      "needs_background": "light"
     },
     "output_type": "display_data"
    },
    {
     "data": {
      "image/png": "[encoded data removed]",
      "text/plain": [
       "<Figure size 432x288 with 1 Axes>"
      ]
     },
     "metadata": {
      "needs_background": "light"
     },
     "output_type": "display_data"
    },
    {
     "data": {
      "image/png": "[encoded data removed]",
      "text/plain": [
       "<Figure size 432x288 with 1 Axes>"
      ]
     },
     "metadata": {
      "needs_background": "light"
     },
     "output_type": "display_data"
    },
    {
     "data": {
      "image/png": "[encoded data removed]",
      "text/plain": [
       "<Figure size 432x288 with 1 Axes>"
      ]
     },
     "metadata": {
      "needs_background": "light"
     },
     "output_type": "display_data"
    },
    {
     "data": {
      "image/png": "[encoded data removed]",
      "text/plain": [
       "<Figure size 432x288 with 1 Axes>"
      ]
     },
     "metadata": {
      "needs_background": "light"
     },
     "output_type": "display_data"
    }
   ],
   "source": [
    "cols=df.columns\n",
    "for i in cols[1:]:\n",
    "    sns.scatterplot(x=df[i],y=df['W'])\n",
    "    plt.show()"
   ]
  },
  {
   "cell_type": "code",
   "execution_count": null,
   "metadata": {},
   "outputs": [],
   "source": []
  },
  {
   "cell_type": "code",
   "execution_count": 13,
   "metadata": {},
   "outputs": [
    {
     "data": {
      "image/png": "[encoded data removed]",
      "text/plain": [
       "<Figure size 432x288 with 1 Axes>"
      ]
     },
     "metadata": {
      "needs_background": "light"
     },
     "output_type": "display_data"
    },
    {
     "data": {
      "image/png": "[encoded data removed]",
      "text/plain": [
       "<Figure size 432x288 with 1 Axes>"
      ]
     },
     "metadata": {
      "needs_background": "light"
     },
     "output_type": "display_data"
    },
    {
     "data": {
      "image/png": "[encoded data removed]",
      "text/plain": [
       "<Figure size 432x288 with 1 Axes>"
      ]
     },
     "metadata": {
      "needs_background": "light"
     },
     "output_type": "display_data"
    },
    {
     "data": {
      "image/png": "[encoded data removed]",
      "text/plain": [
       "<Figure size 432x288 with 1 Axes>"
      ]
     },
     "metadata": {
      "needs_background": "light"
     },
     "output_type": "display_data"
    },
    {
     "data": {
      "image/png": "[encoded data removed]",
      "text/plain": [
       "<Figure size 432x288 with 1 Axes>"
      ]
     },
     "metadata": {
      "needs_background": "light"
     },
     "output_type": "display_data"
    },
    {
     "data": {
      "image/png": "[encoded data removed]",
      "text/plain": [
       "<Figure size 432x288 with 1 Axes>"
      ]
     },
     "metadata": {
      "needs_background": "light"
     },
     "output_type": "display_data"
    },
    {
     "data": {
      "image/png": "[encoded data removed]",
      "text/plain": [
       "<Figure size 432x288 with 1 Axes>"
      ]
     },
     "metadata": {
      "needs_background": "light"
     },
     "output_type": "display_data"
    },
    {
     "data": {
      "image/png": "[encoded data removed]",
      "text/plain": [
       "<Figure size 432x288 with 1 Axes>"
      ]
     },
     "metadata": {
      "needs_background": "light"
     },
     "output_type": "display_data"
    },
    {
     "data": {
      "image/png": "[encoded data removed]",
      "text/plain": [
       "<Figure size 432x288 with 1 Axes>"
      ]
     },
     "metadata": {
      "needs_background": "light"
     },
     "output_type": "display_data"
    },
    {
     "data": {
      "image/png": "[encoded data removed]",
      "text/plain": [
       "<Figure size 432x288 with 1 Axes>"
      ]
     },
     "metadata": {
      "needs_background": "light"
     },
     "output_type": "display_data"
    },
    {
     "data": {
      "image/png": "[encoded data removed]",
      "text/plain": [
       "<Figure size 432x288 with 1 Axes>"
      ]
     },
     "metadata": {
      "needs_background": "light"
     },
     "output_type": "display_data"
    },
    {
     "data": {
      "image/png": "[encoded data removed]",
      "text/plain": [
       "<Figure size 432x288 with 1 Axes>"
      ]
     },
     "metadata": {
      "needs_background": "light"
     },
     "output_type": "display_data"
    },
    {
     "data": {
      "image/png": "[encoded data removed]",
      "text/plain": [
       "<Figure size 432x288 with 1 Axes>"
      ]
     },
     "metadata": {
      "needs_background": "light"
     },
     "output_type": "display_data"
    },
    {
     "data": {
      "image/png": "[encoded data removed]",
      "text/plain": [
       "<Figure size 432x288 with 1 Axes>"
      ]
     },
     "metadata": {
      "needs_background": "light"
     },
     "output_type": "display_data"
    },
    {
     "data": {
      "image/png": "[encoded data removed]",
      "text/plain": [
       "<Figure size 432x288 with 1 Axes>"
      ]
     },
     "metadata": {
      "needs_background": "light"
     },
     "output_type": "display_data"
    },
    {
     "data": {
      "image/png": "[encoded data removed]",
      "text/plain": [
       "<Figure size 432x288 with 1 Axes>"
      ]
     },
     "metadata": {
      "needs_background": "light"
     },
     "output_type": "display_data"
    }
   ],
   "source": [
    "#checking outliers\n",
    "for i in cols[1:]:\n",
    "    sns.boxplot(df[i])\n",
    "    plt.show()"
   ]
  },
  {
   "cell_type": "code",
   "execution_count": 14,
   "metadata": {},
   "outputs": [
    {
     "data": {
      "image/png": "[encoded data removed]",
      "text/plain": [
       "<Figure size 432x288 with 1 Axes>"
      ]
     },
     "metadata": {
      "needs_background": "light"
     },
     "output_type": "display_data"
    },
    {
     "data": {
      "image/png": "[encoded data removed]",
      "text/plain": [
       "<Figure size 432x288 with 1 Axes>"
      ]
     },
     "metadata": {
      "needs_background": "light"
     },
     "output_type": "display_data"
    },
    {
     "data": {
      "image/png": "[encoded data removed]",
      "text/plain": [
       "<Figure size 432x288 with 1 Axes>"
      ]
     },
     "metadata": {
      "needs_background": "light"
     },
     "output_type": "display_data"
    },
    {
     "data": {
      "image/png": "[encoded data removed]",
      "text/plain": [
       "<Figure size 432x288 with 1 Axes>"
      ]
     },
     "metadata": {
      "needs_background": "light"
     },
     "output_type": "display_data"
    },
    {
     "data": {
      "image/png": "[encoded data removed]",
      "text/plain": [
       "<Figure size 432x288 with 1 Axes>"
      ]
     },
     "metadata": {
      "needs_background": "light"
     },
     "output_type": "display_data"
    },
    {
     "data": {
      "image/png": "[encoded data removed]",
      "text/plain": [
       "<Figure size 432x288 with 1 Axes>"
      ]
     },
     "metadata": {
      "needs_background": "light"
     },
     "output_type": "display_data"
    },
    {
     "data": {
      "image/png": "[encoded data removed]",
      "text/plain": [
       "<Figure size 432x288 with 1 Axes>"
      ]
     },
     "metadata": {
      "needs_background": "light"
     },
     "output_type": "display_data"
    },
    {
     "data": {
      "image/png": "[encoded data removed]",
      "text/plain": [
       "<Figure size 432x288 with 1 Axes>"
      ]
     },
     "metadata": {
      "needs_background": "light"
     },
     "output_type": "display_data"
    },
    {
     "data": {
      "image/png": "[encoded data removed]",
      "text/plain": [
       "<Figure size 432x288 with 1 Axes>"
      ]
     },
     "metadata": {
      "needs_background": "light"
     },
     "output_type": "display_data"
    },
    {
     "data": {
      "image/png": "[encoded data removed]",
      "text/plain": [
       "<Figure size 432x288 with 1 Axes>"
      ]
     },
     "metadata": {
      "needs_background": "light"
     },
     "output_type": "display_data"
    },
    {
     "data": {
      "image/png": "[encoded data removed]",
      "text/plain": [
       "<Figure size 432x288 with 1 Axes>"
      ]
     },
     "metadata": {
      "needs_background": "light"
     },
     "output_type": "display_data"
    },
    {
     "data": {
      "image/png": "[encoded data removed]",
      "text/plain": [
       "<Figure size 432x288 with 1 Axes>"
      ]
     },
     "metadata": {
      "needs_background": "light"
     },
     "output_type": "display_data"
    },
    {
     "data": {
      "image/png": "[encoded data removed]",
      "text/plain": [
       "<Figure size 432x288 with 1 Axes>"
      ]
     },
     "metadata": {
      "needs_background": "light"
     },
     "output_type": "display_data"
    },
    {
     "data": {
      "image/png": "[encoded data removed]",
      "text/plain": [
       "<Figure size 432x288 with 1 Axes>"
      ]
     },
     "metadata": {
      "needs_background": "light"
     },
     "output_type": "display_data"
    },
    {
     "data": {
      "image/png": "[encoded data removed]",
      "text/plain": [
       "<Figure size 432x288 with 1 Axes>"
      ]
     },
     "metadata": {
      "needs_background": "light"
     },
     "output_type": "display_data"
    },
    {
     "data": {
      "image/png": "[encoded data removed]",
      "text/plain": [
       "<Figure size 432x288 with 1 Axes>"
      ]
     },
     "metadata": {
      "needs_background": "light"
     },
     "output_type": "display_data"
    }
   ],
   "source": [
    "for i in cols[1:]:\n",
    "    sns.distplot(df[i])\n",
    "    plt.show()"
   ]
  },
  {
   "cell_type": "code",
   "execution_count": 15,
   "metadata": {},
   "outputs": [
    {
     "data": {
      "text/plain": [
       "W      0.047089\n",
       "R      1.200786\n",
       "AB     0.183437\n",
       "H      0.670254\n",
       "2B    -0.230650\n",
       "3B     0.129502\n",
       "HR     0.516441\n",
       "BB     0.158498\n",
       "SO    -0.156065\n",
       "SB     0.479893\n",
       "RA     0.045734\n",
       "ER     0.058710\n",
       "ERA    0.053331\n",
       "CG     0.736845\n",
       "SHO    0.565790\n",
       "SV     0.657524\n",
       "E      0.890132\n",
       "dtype: float64"
      ]
     },
     "execution_count": 15,
     "metadata": {},
     "output_type": "execute_result"
    }
   ],
   "source": [
    "df.skew()"
   ]
  },
  {
   "cell_type": "code",
   "execution_count": 17,
   "metadata": {},
   "outputs": [
    {
     "data": {
      "text/html": [
       "<div>\n",
       "<style scoped>\n",
       "    .dataframe tbody tr th:only-of-type {\n",
       "        vertical-align: middle;\n",
       "    }\n",
       "\n",
       "    .dataframe tbody tr th {\n",
       "        vertical-align: top;\n",
       "    }\n",
       "\n",
       "    .dataframe thead th {\n",
       "        text-align: right;\n",
       "    }\n",
       "</style>\n",
       "<table border=\"1\" class=\"dataframe\">\n",
       "  <thead>\n",
       "    <tr style=\"text-align: right;\">\n",
       "      <th></th>\n",
       "      <th>W</th>\n",
       "      <th>R</th>\n",
       "      <th>AB</th>\n",
       "      <th>H</th>\n",
       "      <th>2B</th>\n",
       "      <th>3B</th>\n",
       "      <th>HR</th>\n",
       "      <th>BB</th>\n",
       "      <th>SO</th>\n",
       "      <th>SB</th>\n",
       "      <th>RA</th>\n",
       "      <th>ER</th>\n",
       "      <th>ERA</th>\n",
       "      <th>CG</th>\n",
       "      <th>SHO</th>\n",
       "      <th>SV</th>\n",
       "      <th>E</th>\n",
       "    </tr>\n",
       "  </thead>\n",
       "  <tbody>\n",
       "    <tr>\n",
       "      <th>W</th>\n",
       "      <td>1.000000</td>\n",
       "      <td>0.430751</td>\n",
       "      <td>-0.087947</td>\n",
       "      <td>0.037612</td>\n",
       "      <td>0.427797</td>\n",
       "      <td>-0.251118</td>\n",
       "      <td>0.307407</td>\n",
       "      <td>0.484342</td>\n",
       "      <td>0.111850</td>\n",
       "      <td>-0.157234</td>\n",
       "      <td>-0.812952</td>\n",
       "      <td>-0.809435</td>\n",
       "      <td>-0.819600</td>\n",
       "      <td>0.080533</td>\n",
       "      <td>0.471805</td>\n",
       "      <td>0.666530</td>\n",
       "      <td>-0.089485</td>\n",
       "    </tr>\n",
       "    <tr>\n",
       "      <th>R</th>\n",
       "      <td>0.430751</td>\n",
       "      <td>1.000000</td>\n",
       "      <td>0.319464</td>\n",
       "      <td>0.482856</td>\n",
       "      <td>0.560084</td>\n",
       "      <td>-0.070072</td>\n",
       "      <td>0.671283</td>\n",
       "      <td>0.402452</td>\n",
       "      <td>-0.054726</td>\n",
       "      <td>0.081367</td>\n",
       "      <td>-0.041623</td>\n",
       "      <td>-0.041245</td>\n",
       "      <td>-0.049281</td>\n",
       "      <td>0.232042</td>\n",
       "      <td>-0.103274</td>\n",
       "      <td>-0.096380</td>\n",
       "      <td>-0.023262</td>\n",
       "    </tr>\n",
       "    <tr>\n",
       "      <th>AB</th>\n",
       "      <td>-0.087947</td>\n",
       "      <td>0.319464</td>\n",
       "      <td>1.000000</td>\n",
       "      <td>0.739122</td>\n",
       "      <td>0.453370</td>\n",
       "      <td>0.435422</td>\n",
       "      <td>-0.066983</td>\n",
       "      <td>-0.136414</td>\n",
       "      <td>-0.106022</td>\n",
       "      <td>0.372618</td>\n",
       "      <td>0.316010</td>\n",
       "      <td>0.309686</td>\n",
       "      <td>0.255551</td>\n",
       "      <td>-0.080876</td>\n",
       "      <td>-0.197321</td>\n",
       "      <td>-0.106367</td>\n",
       "      <td>0.316743</td>\n",
       "    </tr>\n",
       "    <tr>\n",
       "      <th>H</th>\n",
       "      <td>0.037612</td>\n",
       "      <td>0.482856</td>\n",
       "      <td>0.739122</td>\n",
       "      <td>1.000000</td>\n",
       "      <td>0.566847</td>\n",
       "      <td>0.478694</td>\n",
       "      <td>-0.090855</td>\n",
       "      <td>-0.118281</td>\n",
       "      <td>-0.398830</td>\n",
       "      <td>0.413444</td>\n",
       "      <td>0.224324</td>\n",
       "      <td>0.252489</td>\n",
       "      <td>0.231172</td>\n",
       "      <td>0.147955</td>\n",
       "      <td>-0.145559</td>\n",
       "      <td>-0.130371</td>\n",
       "      <td>-0.033173</td>\n",
       "    </tr>\n",
       "    <tr>\n",
       "      <th>2B</th>\n",
       "      <td>0.427797</td>\n",
       "      <td>0.560084</td>\n",
       "      <td>0.453370</td>\n",
       "      <td>0.566847</td>\n",
       "      <td>1.000000</td>\n",
       "      <td>0.220490</td>\n",
       "      <td>0.056292</td>\n",
       "      <td>0.302700</td>\n",
       "      <td>-0.150752</td>\n",
       "      <td>0.195027</td>\n",
       "      <td>-0.218160</td>\n",
       "      <td>-0.235531</td>\n",
       "      <td>-0.254854</td>\n",
       "      <td>0.306675</td>\n",
       "      <td>0.057998</td>\n",
       "      <td>0.171576</td>\n",
       "      <td>0.105754</td>\n",
       "    </tr>\n",
       "    <tr>\n",
       "      <th>3B</th>\n",
       "      <td>-0.251118</td>\n",
       "      <td>-0.070072</td>\n",
       "      <td>0.435422</td>\n",
       "      <td>0.478694</td>\n",
       "      <td>0.220490</td>\n",
       "      <td>1.000000</td>\n",
       "      <td>-0.430915</td>\n",
       "      <td>-0.454949</td>\n",
       "      <td>-0.141196</td>\n",
       "      <td>0.457437</td>\n",
       "      <td>0.314125</td>\n",
       "      <td>0.340225</td>\n",
       "      <td>0.330951</td>\n",
       "      <td>-0.065898</td>\n",
       "      <td>-0.041396</td>\n",
       "      <td>-0.142370</td>\n",
       "      <td>0.126678</td>\n",
       "    </tr>\n",
       "    <tr>\n",
       "      <th>HR</th>\n",
       "      <td>0.307407</td>\n",
       "      <td>0.671283</td>\n",
       "      <td>-0.066983</td>\n",
       "      <td>-0.090855</td>\n",
       "      <td>0.056292</td>\n",
       "      <td>-0.430915</td>\n",
       "      <td>1.000000</td>\n",
       "      <td>0.425691</td>\n",
       "      <td>0.359923</td>\n",
       "      <td>-0.136567</td>\n",
       "      <td>-0.103903</td>\n",
       "      <td>-0.085922</td>\n",
       "      <td>-0.090917</td>\n",
       "      <td>0.156502</td>\n",
       "      <td>-0.019119</td>\n",
       "      <td>-0.028540</td>\n",
       "      <td>-0.207597</td>\n",
       "    </tr>\n",
       "    <tr>\n",
       "      <th>BB</th>\n",
       "      <td>0.484342</td>\n",
       "      <td>0.402452</td>\n",
       "      <td>-0.136414</td>\n",
       "      <td>-0.118281</td>\n",
       "      <td>0.302700</td>\n",
       "      <td>-0.454949</td>\n",
       "      <td>0.425691</td>\n",
       "      <td>1.000000</td>\n",
       "      <td>0.233652</td>\n",
       "      <td>-0.098347</td>\n",
       "      <td>-0.416445</td>\n",
       "      <td>-0.452663</td>\n",
       "      <td>-0.459832</td>\n",
       "      <td>0.462478</td>\n",
       "      <td>0.426004</td>\n",
       "      <td>0.099445</td>\n",
       "      <td>-0.075685</td>\n",
       "    </tr>\n",
       "    <tr>\n",
       "      <th>SO</th>\n",
       "      <td>0.111850</td>\n",
       "      <td>-0.054726</td>\n",
       "      <td>-0.106022</td>\n",
       "      <td>-0.398830</td>\n",
       "      <td>-0.150752</td>\n",
       "      <td>-0.141196</td>\n",
       "      <td>0.359923</td>\n",
       "      <td>0.233652</td>\n",
       "      <td>1.000000</td>\n",
       "      <td>0.030968</td>\n",
       "      <td>-0.129745</td>\n",
       "      <td>-0.161612</td>\n",
       "      <td>-0.180368</td>\n",
       "      <td>-0.093418</td>\n",
       "      <td>0.237721</td>\n",
       "      <td>0.126297</td>\n",
       "      <td>0.155133</td>\n",
       "    </tr>\n",
       "    <tr>\n",
       "      <th>SB</th>\n",
       "      <td>-0.157234</td>\n",
       "      <td>0.081367</td>\n",
       "      <td>0.372618</td>\n",
       "      <td>0.413444</td>\n",
       "      <td>0.195027</td>\n",
       "      <td>0.457437</td>\n",
       "      <td>-0.136567</td>\n",
       "      <td>-0.098347</td>\n",
       "      <td>0.030968</td>\n",
       "      <td>1.000000</td>\n",
       "      <td>0.132290</td>\n",
       "      <td>0.143068</td>\n",
       "      <td>0.126063</td>\n",
       "      <td>-0.020783</td>\n",
       "      <td>-0.106563</td>\n",
       "      <td>-0.183418</td>\n",
       "      <td>0.079149</td>\n",
       "    </tr>\n",
       "    <tr>\n",
       "      <th>RA</th>\n",
       "      <td>-0.812952</td>\n",
       "      <td>-0.041623</td>\n",
       "      <td>0.316010</td>\n",
       "      <td>0.224324</td>\n",
       "      <td>-0.218160</td>\n",
       "      <td>0.314125</td>\n",
       "      <td>-0.103903</td>\n",
       "      <td>-0.416445</td>\n",
       "      <td>-0.129745</td>\n",
       "      <td>0.132290</td>\n",
       "      <td>1.000000</td>\n",
       "      <td>0.991018</td>\n",
       "      <td>0.986674</td>\n",
       "      <td>-0.016659</td>\n",
       "      <td>-0.636862</td>\n",
       "      <td>-0.616224</td>\n",
       "      <td>0.198996</td>\n",
       "    </tr>\n",
       "    <tr>\n",
       "      <th>ER</th>\n",
       "      <td>-0.809435</td>\n",
       "      <td>-0.041245</td>\n",
       "      <td>0.309686</td>\n",
       "      <td>0.252489</td>\n",
       "      <td>-0.235531</td>\n",
       "      <td>0.340225</td>\n",
       "      <td>-0.085922</td>\n",
       "      <td>-0.452663</td>\n",
       "      <td>-0.161612</td>\n",
       "      <td>0.143068</td>\n",
       "      <td>0.991018</td>\n",
       "      <td>1.000000</td>\n",
       "      <td>0.997248</td>\n",
       "      <td>-0.020221</td>\n",
       "      <td>-0.630192</td>\n",
       "      <td>-0.589663</td>\n",
       "      <td>0.136921</td>\n",
       "    </tr>\n",
       "    <tr>\n",
       "      <th>ERA</th>\n",
       "      <td>-0.819600</td>\n",
       "      <td>-0.049281</td>\n",
       "      <td>0.255551</td>\n",
       "      <td>0.231172</td>\n",
       "      <td>-0.254854</td>\n",
       "      <td>0.330951</td>\n",
       "      <td>-0.090917</td>\n",
       "      <td>-0.459832</td>\n",
       "      <td>-0.180368</td>\n",
       "      <td>0.126063</td>\n",
       "      <td>0.986674</td>\n",
       "      <td>0.997248</td>\n",
       "      <td>1.000000</td>\n",
       "      <td>-0.009856</td>\n",
       "      <td>-0.630833</td>\n",
       "      <td>-0.607005</td>\n",
       "      <td>0.113137</td>\n",
       "    </tr>\n",
       "    <tr>\n",
       "      <th>CG</th>\n",
       "      <td>0.080533</td>\n",
       "      <td>0.232042</td>\n",
       "      <td>-0.080876</td>\n",
       "      <td>0.147955</td>\n",
       "      <td>0.306675</td>\n",
       "      <td>-0.065898</td>\n",
       "      <td>0.156502</td>\n",
       "      <td>0.462478</td>\n",
       "      <td>-0.093418</td>\n",
       "      <td>-0.020783</td>\n",
       "      <td>-0.016659</td>\n",
       "      <td>-0.020221</td>\n",
       "      <td>-0.009856</td>\n",
       "      <td>1.000000</td>\n",
       "      <td>0.241676</td>\n",
       "      <td>-0.367766</td>\n",
       "      <td>-0.140047</td>\n",
       "    </tr>\n",
       "    <tr>\n",
       "      <th>SHO</th>\n",
       "      <td>0.471805</td>\n",
       "      <td>-0.103274</td>\n",
       "      <td>-0.197321</td>\n",
       "      <td>-0.145559</td>\n",
       "      <td>0.057998</td>\n",
       "      <td>-0.041396</td>\n",
       "      <td>-0.019119</td>\n",
       "      <td>0.426004</td>\n",
       "      <td>0.237721</td>\n",
       "      <td>-0.106563</td>\n",
       "      <td>-0.636862</td>\n",
       "      <td>-0.630192</td>\n",
       "      <td>-0.630833</td>\n",
       "      <td>0.241676</td>\n",
       "      <td>1.000000</td>\n",
       "      <td>0.221639</td>\n",
       "      <td>-0.115716</td>\n",
       "    </tr>\n",
       "    <tr>\n",
       "      <th>SV</th>\n",
       "      <td>0.666530</td>\n",
       "      <td>-0.096380</td>\n",
       "      <td>-0.106367</td>\n",
       "      <td>-0.130371</td>\n",
       "      <td>0.171576</td>\n",
       "      <td>-0.142370</td>\n",
       "      <td>-0.028540</td>\n",
       "      <td>0.099445</td>\n",
       "      <td>0.126297</td>\n",
       "      <td>-0.183418</td>\n",
       "      <td>-0.616224</td>\n",
       "      <td>-0.589663</td>\n",
       "      <td>-0.607005</td>\n",
       "      <td>-0.367766</td>\n",
       "      <td>0.221639</td>\n",
       "      <td>1.000000</td>\n",
       "      <td>-0.025636</td>\n",
       "    </tr>\n",
       "    <tr>\n",
       "      <th>E</th>\n",
       "      <td>-0.089485</td>\n",
       "      <td>-0.023262</td>\n",
       "      <td>0.316743</td>\n",
       "      <td>-0.033173</td>\n",
       "      <td>0.105754</td>\n",
       "      <td>0.126678</td>\n",
       "      <td>-0.207597</td>\n",
       "      <td>-0.075685</td>\n",
       "      <td>0.155133</td>\n",
       "      <td>0.079149</td>\n",
       "      <td>0.198996</td>\n",
       "      <td>0.136921</td>\n",
       "      <td>0.113137</td>\n",
       "      <td>-0.140047</td>\n",
       "      <td>-0.115716</td>\n",
       "      <td>-0.025636</td>\n",
       "      <td>1.000000</td>\n",
       "    </tr>\n",
       "  </tbody>\n",
       "</table>\n",
       "</div>"
      ],
      "text/plain": [
       "            W         R        AB         H        2B        3B        HR  \\\n",
       "W    1.000000  0.430751 -0.087947  0.037612  0.427797 -0.251118  0.307407   \n",
       "R    0.430751  1.000000  0.319464  0.482856  0.560084 -0.070072  0.671283   \n",
       "AB  -0.087947  0.319464  1.000000  0.739122  0.453370  0.435422 -0.066983   \n",
       "H    0.037612  0.482856  0.739122  1.000000  0.566847  0.478694 -0.090855   \n",
       "2B   0.427797  0.560084  0.453370  0.566847  1.000000  0.220490  0.056292   \n",
       "3B  -0.251118 -0.070072  0.435422  0.478694  0.220490  1.000000 -0.430915   \n",
       "HR   0.307407  0.671283 -0.066983 -0.090855  0.056292 -0.430915  1.000000   \n",
       "BB   0.484342  0.402452 -0.136414 -0.118281  0.302700 -0.454949  0.425691   \n",
       "SO   0.111850 -0.054726 -0.106022 -0.398830 -0.150752 -0.141196  0.359923   \n",
       "SB  -0.157234  0.081367  0.372618  0.413444  0.195027  0.457437 -0.136567   \n",
       "RA  -0.812952 -0.041623  0.316010  0.224324 -0.218160  0.314125 -0.103903   \n",
       "ER  -0.809435 -0.041245  0.309686  0.252489 -0.235531  0.340225 -0.085922   \n",
       "ERA -0.819600 -0.049281  0.255551  0.231172 -0.254854  0.330951 -0.090917   \n",
       "CG   0.080533  0.232042 -0.080876  0.147955  0.306675 -0.065898  0.156502   \n",
       "SHO  0.471805 -0.103274 -0.197321 -0.145559  0.057998 -0.041396 -0.019119   \n",
       "SV   0.666530 -0.096380 -0.106367 -0.130371  0.171576 -0.142370 -0.028540   \n",
       "E   -0.089485 -0.023262  0.316743 -0.033173  0.105754  0.126678 -0.207597   \n",
       "\n",
       "           BB        SO        SB        RA        ER       ERA        CG  \\\n",
       "W    0.484342  0.111850 -0.157234 -0.812952 -0.809435 -0.819600  0.080533   \n",
       "R    0.402452 -0.054726  0.081367 -0.041623 -0.041245 -0.049281  0.232042   \n",
       "AB  -0.136414 -0.106022  0.372618  0.316010  0.309686  0.255551 -0.080876   \n",
       "H   -0.118281 -0.398830  0.413444  0.224324  0.252489  0.231172  0.147955   \n",
       "2B   0.302700 -0.150752  0.195027 -0.218160 -0.235531 -0.254854  0.306675   \n",
       "3B  -0.454949 -0.141196  0.457437  0.314125  0.340225  0.330951 -0.065898   \n",
       "HR   0.425691  0.359923 -0.136567 -0.103903 -0.085922 -0.090917  0.156502   \n",
       "BB   1.000000  0.233652 -0.098347 -0.416445 -0.452663 -0.459832  0.462478   \n",
       "SO   0.233652  1.000000  0.030968 -0.129745 -0.161612 -0.180368 -0.093418   \n",
       "SB  -0.098347  0.030968  1.000000  0.132290  0.143068  0.126063 -0.020783   \n",
       "RA  -0.416445 -0.129745  0.132290  1.000000  0.991018  0.986674 -0.016659   \n",
       "ER  -0.452663 -0.161612  0.143068  0.991018  1.000000  0.997248 -0.020221   \n",
       "ERA -0.459832 -0.180368  0.126063  0.986674  0.997248  1.000000 -0.009856   \n",
       "CG   0.462478 -0.093418 -0.020783 -0.016659 -0.020221 -0.009856  1.000000   \n",
       "SHO  0.426004  0.237721 -0.106563 -0.636862 -0.630192 -0.630833  0.241676   \n",
       "SV   0.099445  0.126297 -0.183418 -0.616224 -0.589663 -0.607005 -0.367766   \n",
       "E   -0.075685  0.155133  0.079149  0.198996  0.136921  0.113137 -0.140047   \n",
       "\n",
       "          SHO        SV         E  \n",
       "W    0.471805  0.666530 -0.089485  \n",
       "R   -0.103274 -0.096380 -0.023262  \n",
       "AB  -0.197321 -0.106367  0.316743  \n",
       "H   -0.145559 -0.130371 -0.033173  \n",
       "2B   0.057998  0.171576  0.105754  \n",
       "3B  -0.041396 -0.142370  0.126678  \n",
       "HR  -0.019119 -0.028540 -0.207597  \n",
       "BB   0.426004  0.099445 -0.075685  \n",
       "SO   0.237721  0.126297  0.155133  \n",
       "SB  -0.106563 -0.183418  0.079149  \n",
       "RA  -0.636862 -0.616224  0.198996  \n",
       "ER  -0.630192 -0.589663  0.136921  \n",
       "ERA -0.630833 -0.607005  0.113137  \n",
       "CG   0.241676 -0.367766 -0.140047  \n",
       "SHO  1.000000  0.221639 -0.115716  \n",
       "SV   0.221639  1.000000 -0.025636  \n",
       "E   -0.115716 -0.025636  1.000000  "
      ]
     },
     "execution_count": 17,
     "metadata": {},
     "output_type": "execute_result"
    }
   ],
   "source": [
    "df.corr()"
   ]
  },
  {
   "cell_type": "code",
   "execution_count": 18,
   "metadata": {},
   "outputs": [
    {
     "data": {
      "image/png": "[encoded data removed]",
      "text/plain": [
       "<Figure size 1080x1080 with 2 Axes>"
      ]
     },
     "metadata": {
      "needs_background": "light"
     },
     "output_type": "display_data"
    }
   ],
   "source": [
    "plt.figure(figsize=(15,15))\n",
    "sns.heatmap(df.corr(),annot=True)\n",
    "plt.show()"
   ]
  },
  {
   "cell_type": "code",
   "execution_count": 19,
   "metadata": {},
   "outputs": [],
   "source": [
    "#RA,ER,ERA are highly coorelated columns"
   ]
  },
  {
   "cell_type": "code",
   "execution_count": 20,
   "metadata": {},
   "outputs": [
    {
     "data": {
      "text/plain": [
       "(30, 17)"
      ]
     },
     "execution_count": 20,
     "metadata": {},
     "output_type": "execute_result"
    }
   ],
   "source": [
    "df.shape"
   ]
  },
  {
   "cell_type": "code",
   "execution_count": 21,
   "metadata": {},
   "outputs": [],
   "source": [
    "df.drop(['RA','ER'],axis=1,inplace=True)"
   ]
  },
  {
   "cell_type": "code",
   "execution_count": 22,
   "metadata": {},
   "outputs": [
    {
     "data": {
      "text/html": [
       "<div>\n",
       "<style scoped>\n",
       "    .dataframe tbody tr th:only-of-type {\n",
       "        vertical-align: middle;\n",
       "    }\n",
       "\n",
       "    .dataframe tbody tr th {\n",
       "        vertical-align: top;\n",
       "    }\n",
       "\n",
       "    .dataframe thead th {\n",
       "        text-align: right;\n",
       "    }\n",
       "</style>\n",
       "<table border=\"1\" class=\"dataframe\">\n",
       "  <thead>\n",
       "    <tr style=\"text-align: right;\">\n",
       "      <th></th>\n",
       "      <th>W</th>\n",
       "      <th>R</th>\n",
       "      <th>AB</th>\n",
       "      <th>H</th>\n",
       "      <th>2B</th>\n",
       "      <th>3B</th>\n",
       "      <th>HR</th>\n",
       "      <th>BB</th>\n",
       "      <th>SO</th>\n",
       "      <th>SB</th>\n",
       "      <th>ERA</th>\n",
       "      <th>CG</th>\n",
       "      <th>SHO</th>\n",
       "      <th>SV</th>\n",
       "      <th>E</th>\n",
       "    </tr>\n",
       "  </thead>\n",
       "  <tbody>\n",
       "    <tr>\n",
       "      <th>0</th>\n",
       "      <td>95</td>\n",
       "      <td>724</td>\n",
       "      <td>5575</td>\n",
       "      <td>1497</td>\n",
       "      <td>300</td>\n",
       "      <td>42</td>\n",
       "      <td>139</td>\n",
       "      <td>383</td>\n",
       "      <td>973</td>\n",
       "      <td>104</td>\n",
       "      <td>3.73</td>\n",
       "      <td>2</td>\n",
       "      <td>8</td>\n",
       "      <td>56</td>\n",
       "      <td>88</td>\n",
       "    </tr>\n",
       "    <tr>\n",
       "      <th>1</th>\n",
       "      <td>83</td>\n",
       "      <td>696</td>\n",
       "      <td>5467</td>\n",
       "      <td>1349</td>\n",
       "      <td>277</td>\n",
       "      <td>44</td>\n",
       "      <td>156</td>\n",
       "      <td>439</td>\n",
       "      <td>1264</td>\n",
       "      <td>70</td>\n",
       "      <td>4.07</td>\n",
       "      <td>2</td>\n",
       "      <td>12</td>\n",
       "      <td>45</td>\n",
       "      <td>86</td>\n",
       "    </tr>\n",
       "    <tr>\n",
       "      <th>2</th>\n",
       "      <td>81</td>\n",
       "      <td>669</td>\n",
       "      <td>5439</td>\n",
       "      <td>1395</td>\n",
       "      <td>303</td>\n",
       "      <td>29</td>\n",
       "      <td>141</td>\n",
       "      <td>533</td>\n",
       "      <td>1157</td>\n",
       "      <td>86</td>\n",
       "      <td>3.67</td>\n",
       "      <td>11</td>\n",
       "      <td>10</td>\n",
       "      <td>38</td>\n",
       "      <td>79</td>\n",
       "    </tr>\n",
       "    <tr>\n",
       "      <th>3</th>\n",
       "      <td>76</td>\n",
       "      <td>622</td>\n",
       "      <td>5533</td>\n",
       "      <td>1381</td>\n",
       "      <td>260</td>\n",
       "      <td>27</td>\n",
       "      <td>136</td>\n",
       "      <td>404</td>\n",
       "      <td>1231</td>\n",
       "      <td>68</td>\n",
       "      <td>3.98</td>\n",
       "      <td>7</td>\n",
       "      <td>9</td>\n",
       "      <td>37</td>\n",
       "      <td>101</td>\n",
       "    </tr>\n",
       "    <tr>\n",
       "      <th>4</th>\n",
       "      <td>74</td>\n",
       "      <td>689</td>\n",
       "      <td>5605</td>\n",
       "      <td>1515</td>\n",
       "      <td>289</td>\n",
       "      <td>49</td>\n",
       "      <td>151</td>\n",
       "      <td>455</td>\n",
       "      <td>1259</td>\n",
       "      <td>83</td>\n",
       "      <td>4.64</td>\n",
       "      <td>7</td>\n",
       "      <td>12</td>\n",
       "      <td>35</td>\n",
       "      <td>86</td>\n",
       "    </tr>\n",
       "    <tr>\n",
       "      <th>5</th>\n",
       "      <td>93</td>\n",
       "      <td>891</td>\n",
       "      <td>5509</td>\n",
       "      <td>1480</td>\n",
       "      <td>308</td>\n",
       "      <td>17</td>\n",
       "      <td>232</td>\n",
       "      <td>570</td>\n",
       "      <td>1151</td>\n",
       "      <td>88</td>\n",
       "      <td>3.80</td>\n",
       "      <td>7</td>\n",
       "      <td>10</td>\n",
       "      <td>34</td>\n",
       "      <td>88</td>\n",
       "    </tr>\n",
       "    <tr>\n",
       "      <th>6</th>\n",
       "      <td>87</td>\n",
       "      <td>764</td>\n",
       "      <td>5567</td>\n",
       "      <td>1397</td>\n",
       "      <td>272</td>\n",
       "      <td>19</td>\n",
       "      <td>212</td>\n",
       "      <td>554</td>\n",
       "      <td>1227</td>\n",
       "      <td>63</td>\n",
       "      <td>4.03</td>\n",
       "      <td>3</td>\n",
       "      <td>4</td>\n",
       "      <td>48</td>\n",
       "      <td>93</td>\n",
       "    </tr>\n",
       "    <tr>\n",
       "      <th>7</th>\n",
       "      <td>81</td>\n",
       "      <td>713</td>\n",
       "      <td>5485</td>\n",
       "      <td>1370</td>\n",
       "      <td>246</td>\n",
       "      <td>20</td>\n",
       "      <td>217</td>\n",
       "      <td>418</td>\n",
       "      <td>1331</td>\n",
       "      <td>44</td>\n",
       "      <td>4.05</td>\n",
       "      <td>0</td>\n",
       "      <td>10</td>\n",
       "      <td>43</td>\n",
       "      <td>77</td>\n",
       "    </tr>\n",
       "    <tr>\n",
       "      <th>8</th>\n",
       "      <td>80</td>\n",
       "      <td>644</td>\n",
       "      <td>5485</td>\n",
       "      <td>1383</td>\n",
       "      <td>278</td>\n",
       "      <td>32</td>\n",
       "      <td>167</td>\n",
       "      <td>436</td>\n",
       "      <td>1310</td>\n",
       "      <td>87</td>\n",
       "      <td>3.74</td>\n",
       "      <td>1</td>\n",
       "      <td>12</td>\n",
       "      <td>60</td>\n",
       "      <td>95</td>\n",
       "    </tr>\n",
       "    <tr>\n",
       "      <th>9</th>\n",
       "      <td>78</td>\n",
       "      <td>748</td>\n",
       "      <td>5640</td>\n",
       "      <td>1495</td>\n",
       "      <td>294</td>\n",
       "      <td>33</td>\n",
       "      <td>161</td>\n",
       "      <td>478</td>\n",
       "      <td>1148</td>\n",
       "      <td>71</td>\n",
       "      <td>4.31</td>\n",
       "      <td>3</td>\n",
       "      <td>10</td>\n",
       "      <td>40</td>\n",
       "      <td>97</td>\n",
       "    </tr>\n",
       "    <tr>\n",
       "      <th>10</th>\n",
       "      <td>88</td>\n",
       "      <td>751</td>\n",
       "      <td>5511</td>\n",
       "      <td>1419</td>\n",
       "      <td>279</td>\n",
       "      <td>32</td>\n",
       "      <td>172</td>\n",
       "      <td>503</td>\n",
       "      <td>1233</td>\n",
       "      <td>101</td>\n",
       "      <td>4.24</td>\n",
       "      <td>5</td>\n",
       "      <td>9</td>\n",
       "      <td>45</td>\n",
       "      <td>119</td>\n",
       "    </tr>\n",
       "    <tr>\n",
       "      <th>11</th>\n",
       "      <td>86</td>\n",
       "      <td>729</td>\n",
       "      <td>5459</td>\n",
       "      <td>1363</td>\n",
       "      <td>278</td>\n",
       "      <td>26</td>\n",
       "      <td>230</td>\n",
       "      <td>486</td>\n",
       "      <td>1392</td>\n",
       "      <td>121</td>\n",
       "      <td>3.57</td>\n",
       "      <td>5</td>\n",
       "      <td>13</td>\n",
       "      <td>39</td>\n",
       "      <td>85</td>\n",
       "    </tr>\n",
       "    <tr>\n",
       "      <th>12</th>\n",
       "      <td>85</td>\n",
       "      <td>661</td>\n",
       "      <td>5417</td>\n",
       "      <td>1331</td>\n",
       "      <td>243</td>\n",
       "      <td>21</td>\n",
       "      <td>176</td>\n",
       "      <td>435</td>\n",
       "      <td>1150</td>\n",
       "      <td>52</td>\n",
       "      <td>3.94</td>\n",
       "      <td>2</td>\n",
       "      <td>12</td>\n",
       "      <td>46</td>\n",
       "      <td>93</td>\n",
       "    </tr>\n",
       "    <tr>\n",
       "      <th>13</th>\n",
       "      <td>76</td>\n",
       "      <td>656</td>\n",
       "      <td>5544</td>\n",
       "      <td>1379</td>\n",
       "      <td>262</td>\n",
       "      <td>22</td>\n",
       "      <td>198</td>\n",
       "      <td>478</td>\n",
       "      <td>1336</td>\n",
       "      <td>69</td>\n",
       "      <td>4.16</td>\n",
       "      <td>6</td>\n",
       "      <td>12</td>\n",
       "      <td>45</td>\n",
       "      <td>94</td>\n",
       "    </tr>\n",
       "    <tr>\n",
       "      <th>14</th>\n",
       "      <td>68</td>\n",
       "      <td>694</td>\n",
       "      <td>5600</td>\n",
       "      <td>1405</td>\n",
       "      <td>277</td>\n",
       "      <td>46</td>\n",
       "      <td>146</td>\n",
       "      <td>475</td>\n",
       "      <td>1119</td>\n",
       "      <td>78</td>\n",
       "      <td>4.14</td>\n",
       "      <td>5</td>\n",
       "      <td>15</td>\n",
       "      <td>28</td>\n",
       "      <td>126</td>\n",
       "    </tr>\n",
       "    <tr>\n",
       "      <th>15</th>\n",
       "      <td>100</td>\n",
       "      <td>647</td>\n",
       "      <td>5484</td>\n",
       "      <td>1386</td>\n",
       "      <td>288</td>\n",
       "      <td>39</td>\n",
       "      <td>137</td>\n",
       "      <td>506</td>\n",
       "      <td>1267</td>\n",
       "      <td>69</td>\n",
       "      <td>2.94</td>\n",
       "      <td>1</td>\n",
       "      <td>15</td>\n",
       "      <td>62</td>\n",
       "      <td>96</td>\n",
       "    </tr>\n",
       "    <tr>\n",
       "      <th>16</th>\n",
       "      <td>98</td>\n",
       "      <td>697</td>\n",
       "      <td>5631</td>\n",
       "      <td>1462</td>\n",
       "      <td>292</td>\n",
       "      <td>27</td>\n",
       "      <td>140</td>\n",
       "      <td>461</td>\n",
       "      <td>1322</td>\n",
       "      <td>98</td>\n",
       "      <td>3.21</td>\n",
       "      <td>0</td>\n",
       "      <td>13</td>\n",
       "      <td>54</td>\n",
       "      <td>122</td>\n",
       "    </tr>\n",
       "    <tr>\n",
       "      <th>17</th>\n",
       "      <td>97</td>\n",
       "      <td>689</td>\n",
       "      <td>5491</td>\n",
       "      <td>1341</td>\n",
       "      <td>272</td>\n",
       "      <td>30</td>\n",
       "      <td>171</td>\n",
       "      <td>567</td>\n",
       "      <td>1518</td>\n",
       "      <td>95</td>\n",
       "      <td>3.36</td>\n",
       "      <td>6</td>\n",
       "      <td>21</td>\n",
       "      <td>48</td>\n",
       "      <td>111</td>\n",
       "    </tr>\n",
       "    <tr>\n",
       "      <th>18</th>\n",
       "      <td>68</td>\n",
       "      <td>655</td>\n",
       "      <td>5480</td>\n",
       "      <td>1378</td>\n",
       "      <td>274</td>\n",
       "      <td>34</td>\n",
       "      <td>145</td>\n",
       "      <td>412</td>\n",
       "      <td>1299</td>\n",
       "      <td>84</td>\n",
       "      <td>4.28</td>\n",
       "      <td>1</td>\n",
       "      <td>7</td>\n",
       "      <td>40</td>\n",
       "      <td>116</td>\n",
       "    </tr>\n",
       "    <tr>\n",
       "      <th>19</th>\n",
       "      <td>64</td>\n",
       "      <td>640</td>\n",
       "      <td>5571</td>\n",
       "      <td>1382</td>\n",
       "      <td>257</td>\n",
       "      <td>27</td>\n",
       "      <td>167</td>\n",
       "      <td>496</td>\n",
       "      <td>1255</td>\n",
       "      <td>134</td>\n",
       "      <td>4.33</td>\n",
       "      <td>2</td>\n",
       "      <td>8</td>\n",
       "      <td>35</td>\n",
       "      <td>90</td>\n",
       "    </tr>\n",
       "    <tr>\n",
       "      <th>20</th>\n",
       "      <td>90</td>\n",
       "      <td>683</td>\n",
       "      <td>5527</td>\n",
       "      <td>1351</td>\n",
       "      <td>295</td>\n",
       "      <td>17</td>\n",
       "      <td>177</td>\n",
       "      <td>488</td>\n",
       "      <td>1290</td>\n",
       "      <td>51</td>\n",
       "      <td>3.43</td>\n",
       "      <td>1</td>\n",
       "      <td>14</td>\n",
       "      <td>50</td>\n",
       "      <td>88</td>\n",
       "    </tr>\n",
       "    <tr>\n",
       "      <th>21</th>\n",
       "      <td>83</td>\n",
       "      <td>703</td>\n",
       "      <td>5428</td>\n",
       "      <td>1363</td>\n",
       "      <td>265</td>\n",
       "      <td>13</td>\n",
       "      <td>177</td>\n",
       "      <td>539</td>\n",
       "      <td>1344</td>\n",
       "      <td>57</td>\n",
       "      <td>3.62</td>\n",
       "      <td>4</td>\n",
       "      <td>13</td>\n",
       "      <td>41</td>\n",
       "      <td>90</td>\n",
       "    </tr>\n",
       "    <tr>\n",
       "      <th>22</th>\n",
       "      <td>71</td>\n",
       "      <td>613</td>\n",
       "      <td>5463</td>\n",
       "      <td>1420</td>\n",
       "      <td>236</td>\n",
       "      <td>40</td>\n",
       "      <td>120</td>\n",
       "      <td>375</td>\n",
       "      <td>1150</td>\n",
       "      <td>112</td>\n",
       "      <td>4.02</td>\n",
       "      <td>0</td>\n",
       "      <td>12</td>\n",
       "      <td>35</td>\n",
       "      <td>77</td>\n",
       "    </tr>\n",
       "    <tr>\n",
       "      <th>23</th>\n",
       "      <td>67</td>\n",
       "      <td>573</td>\n",
       "      <td>5420</td>\n",
       "      <td>1361</td>\n",
       "      <td>251</td>\n",
       "      <td>18</td>\n",
       "      <td>100</td>\n",
       "      <td>471</td>\n",
       "      <td>1107</td>\n",
       "      <td>69</td>\n",
       "      <td>4.41</td>\n",
       "      <td>3</td>\n",
       "      <td>10</td>\n",
       "      <td>44</td>\n",
       "      <td>90</td>\n",
       "    </tr>\n",
       "    <tr>\n",
       "      <th>24</th>\n",
       "      <td>63</td>\n",
       "      <td>626</td>\n",
       "      <td>5529</td>\n",
       "      <td>1374</td>\n",
       "      <td>272</td>\n",
       "      <td>37</td>\n",
       "      <td>130</td>\n",
       "      <td>387</td>\n",
       "      <td>1274</td>\n",
       "      <td>88</td>\n",
       "      <td>4.69</td>\n",
       "      <td>1</td>\n",
       "      <td>7</td>\n",
       "      <td>35</td>\n",
       "      <td>117</td>\n",
       "    </tr>\n",
       "    <tr>\n",
       "      <th>25</th>\n",
       "      <td>92</td>\n",
       "      <td>667</td>\n",
       "      <td>5385</td>\n",
       "      <td>1346</td>\n",
       "      <td>263</td>\n",
       "      <td>26</td>\n",
       "      <td>187</td>\n",
       "      <td>563</td>\n",
       "      <td>1258</td>\n",
       "      <td>59</td>\n",
       "      <td>3.44</td>\n",
       "      <td>6</td>\n",
       "      <td>21</td>\n",
       "      <td>47</td>\n",
       "      <td>75</td>\n",
       "    </tr>\n",
       "    <tr>\n",
       "      <th>26</th>\n",
       "      <td>84</td>\n",
       "      <td>696</td>\n",
       "      <td>5565</td>\n",
       "      <td>1486</td>\n",
       "      <td>288</td>\n",
       "      <td>39</td>\n",
       "      <td>136</td>\n",
       "      <td>457</td>\n",
       "      <td>1159</td>\n",
       "      <td>93</td>\n",
       "      <td>3.72</td>\n",
       "      <td>7</td>\n",
       "      <td>18</td>\n",
       "      <td>41</td>\n",
       "      <td>78</td>\n",
       "    </tr>\n",
       "    <tr>\n",
       "      <th>27</th>\n",
       "      <td>79</td>\n",
       "      <td>720</td>\n",
       "      <td>5649</td>\n",
       "      <td>1494</td>\n",
       "      <td>289</td>\n",
       "      <td>48</td>\n",
       "      <td>154</td>\n",
       "      <td>490</td>\n",
       "      <td>1312</td>\n",
       "      <td>132</td>\n",
       "      <td>4.04</td>\n",
       "      <td>1</td>\n",
       "      <td>12</td>\n",
       "      <td>44</td>\n",
       "      <td>86</td>\n",
       "    </tr>\n",
       "    <tr>\n",
       "      <th>28</th>\n",
       "      <td>74</td>\n",
       "      <td>650</td>\n",
       "      <td>5457</td>\n",
       "      <td>1324</td>\n",
       "      <td>260</td>\n",
       "      <td>36</td>\n",
       "      <td>148</td>\n",
       "      <td>426</td>\n",
       "      <td>1327</td>\n",
       "      <td>82</td>\n",
       "      <td>4.09</td>\n",
       "      <td>1</td>\n",
       "      <td>6</td>\n",
       "      <td>41</td>\n",
       "      <td>92</td>\n",
       "    </tr>\n",
       "    <tr>\n",
       "      <th>29</th>\n",
       "      <td>68</td>\n",
       "      <td>737</td>\n",
       "      <td>5572</td>\n",
       "      <td>1479</td>\n",
       "      <td>274</td>\n",
       "      <td>49</td>\n",
       "      <td>186</td>\n",
       "      <td>388</td>\n",
       "      <td>1283</td>\n",
       "      <td>97</td>\n",
       "      <td>5.04</td>\n",
       "      <td>4</td>\n",
       "      <td>4</td>\n",
       "      <td>36</td>\n",
       "      <td>95</td>\n",
       "    </tr>\n",
       "  </tbody>\n",
       "</table>\n",
       "</div>"
      ],
      "text/plain": [
       "      W    R    AB     H   2B  3B   HR   BB    SO   SB   ERA  CG  SHO  SV    E\n",
       "0    95  724  5575  1497  300  42  139  383   973  104  3.73   2    8  56   88\n",
       "1    83  696  5467  1349  277  44  156  439  1264   70  4.07   2   12  45   86\n",
       "2    81  669  5439  1395  303  29  141  533  1157   86  3.67  11   10  38   79\n",
       "3    76  622  5533  1381  260  27  136  404  1231   68  3.98   7    9  37  101\n",
       "4    74  689  5605  1515  289  49  151  455  1259   83  4.64   7   12  35   86\n",
       "5    93  891  5509  1480  308  17  232  570  1151   88  3.80   7   10  34   88\n",
       "6    87  764  5567  1397  272  19  212  554  1227   63  4.03   3    4  48   93\n",
       "7    81  713  5485  1370  246  20  217  418  1331   44  4.05   0   10  43   77\n",
       "8    80  644  5485  1383  278  32  167  436  1310   87  3.74   1   12  60   95\n",
       "9    78  748  5640  1495  294  33  161  478  1148   71  4.31   3   10  40   97\n",
       "10   88  751  5511  1419  279  32  172  503  1233  101  4.24   5    9  45  119\n",
       "11   86  729  5459  1363  278  26  230  486  1392  121  3.57   5   13  39   85\n",
       "12   85  661  5417  1331  243  21  176  435  1150   52  3.94   2   12  46   93\n",
       "13   76  656  5544  1379  262  22  198  478  1336   69  4.16   6   12  45   94\n",
       "14   68  694  5600  1405  277  46  146  475  1119   78  4.14   5   15  28  126\n",
       "15  100  647  5484  1386  288  39  137  506  1267   69  2.94   1   15  62   96\n",
       "16   98  697  5631  1462  292  27  140  461  1322   98  3.21   0   13  54  122\n",
       "17   97  689  5491  1341  272  30  171  567  1518   95  3.36   6   21  48  111\n",
       "18   68  655  5480  1378  274  34  145  412  1299   84  4.28   1    7  40  116\n",
       "19   64  640  5571  1382  257  27  167  496  1255  134  4.33   2    8  35   90\n",
       "20   90  683  5527  1351  295  17  177  488  1290   51  3.43   1   14  50   88\n",
       "21   83  703  5428  1363  265  13  177  539  1344   57  3.62   4   13  41   90\n",
       "22   71  613  5463  1420  236  40  120  375  1150  112  4.02   0   12  35   77\n",
       "23   67  573  5420  1361  251  18  100  471  1107   69  4.41   3   10  44   90\n",
       "24   63  626  5529  1374  272  37  130  387  1274   88  4.69   1    7  35  117\n",
       "25   92  667  5385  1346  263  26  187  563  1258   59  3.44   6   21  47   75\n",
       "26   84  696  5565  1486  288  39  136  457  1159   93  3.72   7   18  41   78\n",
       "27   79  720  5649  1494  289  48  154  490  1312  132  4.04   1   12  44   86\n",
       "28   74  650  5457  1324  260  36  148  426  1327   82  4.09   1    6  41   92\n",
       "29   68  737  5572  1479  274  49  186  388  1283   97  5.04   4    4  36   95"
      ]
     },
     "execution_count": 22,
     "metadata": {},
     "output_type": "execute_result"
    }
   ],
   "source": [
    "df"
   ]
  },
  {
   "cell_type": "code",
   "execution_count": 23,
   "metadata": {},
   "outputs": [],
   "source": [
    "#checking outliers\n",
    "from scipy.stats import zscore\n",
    "z=zscore(df)"
   ]
  },
  {
   "cell_type": "code",
   "execution_count": 24,
   "metadata": {},
   "outputs": [
    {
     "data": {
      "text/plain": [
       "(array([5], dtype=int64), array([1], dtype=int64))"
      ]
     },
     "execution_count": 24,
     "metadata": {},
     "output_type": "execute_result"
    }
   ],
   "source": [
    "np.where(z>3)"
   ]
  },
  {
   "cell_type": "code",
   "execution_count": 25,
   "metadata": {},
   "outputs": [],
   "source": [
    "df=df[(z<3).all(axis=1)]"
   ]
  },
  {
   "cell_type": "code",
   "execution_count": 26,
   "metadata": {},
   "outputs": [],
   "source": [
    "x=df.iloc[:,1:]\n",
    "y=df.iloc[:,0]\n",
    "from sklearn.preprocessing import StandardScaler"
   ]
  },
  {
   "cell_type": "code",
   "execution_count": 27,
   "metadata": {},
   "outputs": [
    {
     "data": {
      "text/plain": [
       "(29, 14)"
      ]
     },
     "execution_count": 27,
     "metadata": {},
     "output_type": "execute_result"
    }
   ],
   "source": [
    "x.shape"
   ]
  },
  {
   "cell_type": "code",
   "execution_count": 28,
   "metadata": {},
   "outputs": [
    {
     "data": {
      "text/plain": [
       "(29,)"
      ]
     },
     "execution_count": 28,
     "metadata": {},
     "output_type": "execute_result"
    }
   ],
   "source": [
    "y.shape"
   ]
  },
  {
   "cell_type": "code",
   "execution_count": 29,
   "metadata": {},
   "outputs": [],
   "source": [
    "from sklearn.preprocessing import power_transform\n",
    "x=power_transform(x,method='yeo-johnson')"
   ]
  },
  {
   "cell_type": "code",
   "execution_count": 30,
   "metadata": {},
   "outputs": [],
   "source": [
    "sc=StandardScaler()"
   ]
  },
  {
   "cell_type": "code",
   "execution_count": 31,
   "metadata": {},
   "outputs": [],
   "source": [
    "x=sc.fit_transform(x)"
   ]
  },
  {
   "cell_type": "code",
   "execution_count": 32,
   "metadata": {},
   "outputs": [
    {
     "data": {
      "text/html": [
       "<div>\n",
       "<style scoped>\n",
       "    .dataframe tbody tr th:only-of-type {\n",
       "        vertical-align: middle;\n",
       "    }\n",
       "\n",
       "    .dataframe tbody tr th {\n",
       "        vertical-align: top;\n",
       "    }\n",
       "\n",
       "    .dataframe thead th {\n",
       "        text-align: right;\n",
       "    }\n",
       "</style>\n",
       "<table border=\"1\" class=\"dataframe\">\n",
       "  <thead>\n",
       "    <tr style=\"text-align: right;\">\n",
       "      <th></th>\n",
       "      <th>W</th>\n",
       "      <th>R</th>\n",
       "      <th>AB</th>\n",
       "      <th>H</th>\n",
       "      <th>2B</th>\n",
       "      <th>3B</th>\n",
       "      <th>HR</th>\n",
       "      <th>BB</th>\n",
       "      <th>SO</th>\n",
       "      <th>SB</th>\n",
       "      <th>ERA</th>\n",
       "      <th>CG</th>\n",
       "      <th>SHO</th>\n",
       "      <th>SV</th>\n",
       "      <th>E</th>\n",
       "    </tr>\n",
       "  </thead>\n",
       "  <tbody>\n",
       "    <tr>\n",
       "      <th>0</th>\n",
       "      <td>95</td>\n",
       "      <td>724</td>\n",
       "      <td>5575</td>\n",
       "      <td>1497</td>\n",
       "      <td>300</td>\n",
       "      <td>42</td>\n",
       "      <td>139</td>\n",
       "      <td>383</td>\n",
       "      <td>973</td>\n",
       "      <td>104</td>\n",
       "      <td>3.73</td>\n",
       "      <td>2</td>\n",
       "      <td>8</td>\n",
       "      <td>56</td>\n",
       "      <td>88</td>\n",
       "    </tr>\n",
       "    <tr>\n",
       "      <th>1</th>\n",
       "      <td>83</td>\n",
       "      <td>696</td>\n",
       "      <td>5467</td>\n",
       "      <td>1349</td>\n",
       "      <td>277</td>\n",
       "      <td>44</td>\n",
       "      <td>156</td>\n",
       "      <td>439</td>\n",
       "      <td>1264</td>\n",
       "      <td>70</td>\n",
       "      <td>4.07</td>\n",
       "      <td>2</td>\n",
       "      <td>12</td>\n",
       "      <td>45</td>\n",
       "      <td>86</td>\n",
       "    </tr>\n",
       "    <tr>\n",
       "      <th>2</th>\n",
       "      <td>81</td>\n",
       "      <td>669</td>\n",
       "      <td>5439</td>\n",
       "      <td>1395</td>\n",
       "      <td>303</td>\n",
       "      <td>29</td>\n",
       "      <td>141</td>\n",
       "      <td>533</td>\n",
       "      <td>1157</td>\n",
       "      <td>86</td>\n",
       "      <td>3.67</td>\n",
       "      <td>11</td>\n",
       "      <td>10</td>\n",
       "      <td>38</td>\n",
       "      <td>79</td>\n",
       "    </tr>\n",
       "    <tr>\n",
       "      <th>3</th>\n",
       "      <td>76</td>\n",
       "      <td>622</td>\n",
       "      <td>5533</td>\n",
       "      <td>1381</td>\n",
       "      <td>260</td>\n",
       "      <td>27</td>\n",
       "      <td>136</td>\n",
       "      <td>404</td>\n",
       "      <td>1231</td>\n",
       "      <td>68</td>\n",
       "      <td>3.98</td>\n",
       "      <td>7</td>\n",
       "      <td>9</td>\n",
       "      <td>37</td>\n",
       "      <td>101</td>\n",
       "    </tr>\n",
       "    <tr>\n",
       "      <th>4</th>\n",
       "      <td>74</td>\n",
       "      <td>689</td>\n",
       "      <td>5605</td>\n",
       "      <td>1515</td>\n",
       "      <td>289</td>\n",
       "      <td>49</td>\n",
       "      <td>151</td>\n",
       "      <td>455</td>\n",
       "      <td>1259</td>\n",
       "      <td>83</td>\n",
       "      <td>4.64</td>\n",
       "      <td>7</td>\n",
       "      <td>12</td>\n",
       "      <td>35</td>\n",
       "      <td>86</td>\n",
       "    </tr>\n",
       "    <tr>\n",
       "      <th>6</th>\n",
       "      <td>87</td>\n",
       "      <td>764</td>\n",
       "      <td>5567</td>\n",
       "      <td>1397</td>\n",
       "      <td>272</td>\n",
       "      <td>19</td>\n",
       "      <td>212</td>\n",
       "      <td>554</td>\n",
       "      <td>1227</td>\n",
       "      <td>63</td>\n",
       "      <td>4.03</td>\n",
       "      <td>3</td>\n",
       "      <td>4</td>\n",
       "      <td>48</td>\n",
       "      <td>93</td>\n",
       "    </tr>\n",
       "    <tr>\n",
       "      <th>7</th>\n",
       "      <td>81</td>\n",
       "      <td>713</td>\n",
       "      <td>5485</td>\n",
       "      <td>1370</td>\n",
       "      <td>246</td>\n",
       "      <td>20</td>\n",
       "      <td>217</td>\n",
       "      <td>418</td>\n",
       "      <td>1331</td>\n",
       "      <td>44</td>\n",
       "      <td>4.05</td>\n",
       "      <td>0</td>\n",
       "      <td>10</td>\n",
       "      <td>43</td>\n",
       "      <td>77</td>\n",
       "    </tr>\n",
       "    <tr>\n",
       "      <th>8</th>\n",
       "      <td>80</td>\n",
       "      <td>644</td>\n",
       "      <td>5485</td>\n",
       "      <td>1383</td>\n",
       "      <td>278</td>\n",
       "      <td>32</td>\n",
       "      <td>167</td>\n",
       "      <td>436</td>\n",
       "      <td>1310</td>\n",
       "      <td>87</td>\n",
       "      <td>3.74</td>\n",
       "      <td>1</td>\n",
       "      <td>12</td>\n",
       "      <td>60</td>\n",
       "      <td>95</td>\n",
       "    </tr>\n",
       "    <tr>\n",
       "      <th>9</th>\n",
       "      <td>78</td>\n",
       "      <td>748</td>\n",
       "      <td>5640</td>\n",
       "      <td>1495</td>\n",
       "      <td>294</td>\n",
       "      <td>33</td>\n",
       "      <td>161</td>\n",
       "      <td>478</td>\n",
       "      <td>1148</td>\n",
       "      <td>71</td>\n",
       "      <td>4.31</td>\n",
       "      <td>3</td>\n",
       "      <td>10</td>\n",
       "      <td>40</td>\n",
       "      <td>97</td>\n",
       "    </tr>\n",
       "    <tr>\n",
       "      <th>10</th>\n",
       "      <td>88</td>\n",
       "      <td>751</td>\n",
       "      <td>5511</td>\n",
       "      <td>1419</td>\n",
       "      <td>279</td>\n",
       "      <td>32</td>\n",
       "      <td>172</td>\n",
       "      <td>503</td>\n",
       "      <td>1233</td>\n",
       "      <td>101</td>\n",
       "      <td>4.24</td>\n",
       "      <td>5</td>\n",
       "      <td>9</td>\n",
       "      <td>45</td>\n",
       "      <td>119</td>\n",
       "    </tr>\n",
       "    <tr>\n",
       "      <th>11</th>\n",
       "      <td>86</td>\n",
       "      <td>729</td>\n",
       "      <td>5459</td>\n",
       "      <td>1363</td>\n",
       "      <td>278</td>\n",
       "      <td>26</td>\n",
       "      <td>230</td>\n",
       "      <td>486</td>\n",
       "      <td>1392</td>\n",
       "      <td>121</td>\n",
       "      <td>3.57</td>\n",
       "      <td>5</td>\n",
       "      <td>13</td>\n",
       "      <td>39</td>\n",
       "      <td>85</td>\n",
       "    </tr>\n",
       "    <tr>\n",
       "      <th>12</th>\n",
       "      <td>85</td>\n",
       "      <td>661</td>\n",
       "      <td>5417</td>\n",
       "      <td>1331</td>\n",
       "      <td>243</td>\n",
       "      <td>21</td>\n",
       "      <td>176</td>\n",
       "      <td>435</td>\n",
       "      <td>1150</td>\n",
       "      <td>52</td>\n",
       "      <td>3.94</td>\n",
       "      <td>2</td>\n",
       "      <td>12</td>\n",
       "      <td>46</td>\n",
       "      <td>93</td>\n",
       "    </tr>\n",
       "    <tr>\n",
       "      <th>13</th>\n",
       "      <td>76</td>\n",
       "      <td>656</td>\n",
       "      <td>5544</td>\n",
       "      <td>1379</td>\n",
       "      <td>262</td>\n",
       "      <td>22</td>\n",
       "      <td>198</td>\n",
       "      <td>478</td>\n",
       "      <td>1336</td>\n",
       "      <td>69</td>\n",
       "      <td>4.16</td>\n",
       "      <td>6</td>\n",
       "      <td>12</td>\n",
       "      <td>45</td>\n",
       "      <td>94</td>\n",
       "    </tr>\n",
       "    <tr>\n",
       "      <th>14</th>\n",
       "      <td>68</td>\n",
       "      <td>694</td>\n",
       "      <td>5600</td>\n",
       "      <td>1405</td>\n",
       "      <td>277</td>\n",
       "      <td>46</td>\n",
       "      <td>146</td>\n",
       "      <td>475</td>\n",
       "      <td>1119</td>\n",
       "      <td>78</td>\n",
       "      <td>4.14</td>\n",
       "      <td>5</td>\n",
       "      <td>15</td>\n",
       "      <td>28</td>\n",
       "      <td>126</td>\n",
       "    </tr>\n",
       "    <tr>\n",
       "      <th>15</th>\n",
       "      <td>100</td>\n",
       "      <td>647</td>\n",
       "      <td>5484</td>\n",
       "      <td>1386</td>\n",
       "      <td>288</td>\n",
       "      <td>39</td>\n",
       "      <td>137</td>\n",
       "      <td>506</td>\n",
       "      <td>1267</td>\n",
       "      <td>69</td>\n",
       "      <td>2.94</td>\n",
       "      <td>1</td>\n",
       "      <td>15</td>\n",
       "      <td>62</td>\n",
       "      <td>96</td>\n",
       "    </tr>\n",
       "    <tr>\n",
       "      <th>16</th>\n",
       "      <td>98</td>\n",
       "      <td>697</td>\n",
       "      <td>5631</td>\n",
       "      <td>1462</td>\n",
       "      <td>292</td>\n",
       "      <td>27</td>\n",
       "      <td>140</td>\n",
       "      <td>461</td>\n",
       "      <td>1322</td>\n",
       "      <td>98</td>\n",
       "      <td>3.21</td>\n",
       "      <td>0</td>\n",
       "      <td>13</td>\n",
       "      <td>54</td>\n",
       "      <td>122</td>\n",
       "    </tr>\n",
       "    <tr>\n",
       "      <th>17</th>\n",
       "      <td>97</td>\n",
       "      <td>689</td>\n",
       "      <td>5491</td>\n",
       "      <td>1341</td>\n",
       "      <td>272</td>\n",
       "      <td>30</td>\n",
       "      <td>171</td>\n",
       "      <td>567</td>\n",
       "      <td>1518</td>\n",
       "      <td>95</td>\n",
       "      <td>3.36</td>\n",
       "      <td>6</td>\n",
       "      <td>21</td>\n",
       "      <td>48</td>\n",
       "      <td>111</td>\n",
       "    </tr>\n",
       "    <tr>\n",
       "      <th>18</th>\n",
       "      <td>68</td>\n",
       "      <td>655</td>\n",
       "      <td>5480</td>\n",
       "      <td>1378</td>\n",
       "      <td>274</td>\n",
       "      <td>34</td>\n",
       "      <td>145</td>\n",
       "      <td>412</td>\n",
       "      <td>1299</td>\n",
       "      <td>84</td>\n",
       "      <td>4.28</td>\n",
       "      <td>1</td>\n",
       "      <td>7</td>\n",
       "      <td>40</td>\n",
       "      <td>116</td>\n",
       "    </tr>\n",
       "    <tr>\n",
       "      <th>19</th>\n",
       "      <td>64</td>\n",
       "      <td>640</td>\n",
       "      <td>5571</td>\n",
       "      <td>1382</td>\n",
       "      <td>257</td>\n",
       "      <td>27</td>\n",
       "      <td>167</td>\n",
       "      <td>496</td>\n",
       "      <td>1255</td>\n",
       "      <td>134</td>\n",
       "      <td>4.33</td>\n",
       "      <td>2</td>\n",
       "      <td>8</td>\n",
       "      <td>35</td>\n",
       "      <td>90</td>\n",
       "    </tr>\n",
       "    <tr>\n",
       "      <th>20</th>\n",
       "      <td>90</td>\n",
       "      <td>683</td>\n",
       "      <td>5527</td>\n",
       "      <td>1351</td>\n",
       "      <td>295</td>\n",
       "      <td>17</td>\n",
       "      <td>177</td>\n",
       "      <td>488</td>\n",
       "      <td>1290</td>\n",
       "      <td>51</td>\n",
       "      <td>3.43</td>\n",
       "      <td>1</td>\n",
       "      <td>14</td>\n",
       "      <td>50</td>\n",
       "      <td>88</td>\n",
       "    </tr>\n",
       "    <tr>\n",
       "      <th>21</th>\n",
       "      <td>83</td>\n",
       "      <td>703</td>\n",
       "      <td>5428</td>\n",
       "      <td>1363</td>\n",
       "      <td>265</td>\n",
       "      <td>13</td>\n",
       "      <td>177</td>\n",
       "      <td>539</td>\n",
       "      <td>1344</td>\n",
       "      <td>57</td>\n",
       "      <td>3.62</td>\n",
       "      <td>4</td>\n",
       "      <td>13</td>\n",
       "      <td>41</td>\n",
       "      <td>90</td>\n",
       "    </tr>\n",
       "    <tr>\n",
       "      <th>22</th>\n",
       "      <td>71</td>\n",
       "      <td>613</td>\n",
       "      <td>5463</td>\n",
       "      <td>1420</td>\n",
       "      <td>236</td>\n",
       "      <td>40</td>\n",
       "      <td>120</td>\n",
       "      <td>375</td>\n",
       "      <td>1150</td>\n",
       "      <td>112</td>\n",
       "      <td>4.02</td>\n",
       "      <td>0</td>\n",
       "      <td>12</td>\n",
       "      <td>35</td>\n",
       "      <td>77</td>\n",
       "    </tr>\n",
       "    <tr>\n",
       "      <th>23</th>\n",
       "      <td>67</td>\n",
       "      <td>573</td>\n",
       "      <td>5420</td>\n",
       "      <td>1361</td>\n",
       "      <td>251</td>\n",
       "      <td>18</td>\n",
       "      <td>100</td>\n",
       "      <td>471</td>\n",
       "      <td>1107</td>\n",
       "      <td>69</td>\n",
       "      <td>4.41</td>\n",
       "      <td>3</td>\n",
       "      <td>10</td>\n",
       "      <td>44</td>\n",
       "      <td>90</td>\n",
       "    </tr>\n",
       "    <tr>\n",
       "      <th>24</th>\n",
       "      <td>63</td>\n",
       "      <td>626</td>\n",
       "      <td>5529</td>\n",
       "      <td>1374</td>\n",
       "      <td>272</td>\n",
       "      <td>37</td>\n",
       "      <td>130</td>\n",
       "      <td>387</td>\n",
       "      <td>1274</td>\n",
       "      <td>88</td>\n",
       "      <td>4.69</td>\n",
       "      <td>1</td>\n",
       "      <td>7</td>\n",
       "      <td>35</td>\n",
       "      <td>117</td>\n",
       "    </tr>\n",
       "    <tr>\n",
       "      <th>25</th>\n",
       "      <td>92</td>\n",
       "      <td>667</td>\n",
       "      <td>5385</td>\n",
       "      <td>1346</td>\n",
       "      <td>263</td>\n",
       "      <td>26</td>\n",
       "      <td>187</td>\n",
       "      <td>563</td>\n",
       "      <td>1258</td>\n",
       "      <td>59</td>\n",
       "      <td>3.44</td>\n",
       "      <td>6</td>\n",
       "      <td>21</td>\n",
       "      <td>47</td>\n",
       "      <td>75</td>\n",
       "    </tr>\n",
       "    <tr>\n",
       "      <th>26</th>\n",
       "      <td>84</td>\n",
       "      <td>696</td>\n",
       "      <td>5565</td>\n",
       "      <td>1486</td>\n",
       "      <td>288</td>\n",
       "      <td>39</td>\n",
       "      <td>136</td>\n",
       "      <td>457</td>\n",
       "      <td>1159</td>\n",
       "      <td>93</td>\n",
       "      <td>3.72</td>\n",
       "      <td>7</td>\n",
       "      <td>18</td>\n",
       "      <td>41</td>\n",
       "      <td>78</td>\n",
       "    </tr>\n",
       "    <tr>\n",
       "      <th>27</th>\n",
       "      <td>79</td>\n",
       "      <td>720</td>\n",
       "      <td>5649</td>\n",
       "      <td>1494</td>\n",
       "      <td>289</td>\n",
       "      <td>48</td>\n",
       "      <td>154</td>\n",
       "      <td>490</td>\n",
       "      <td>1312</td>\n",
       "      <td>132</td>\n",
       "      <td>4.04</td>\n",
       "      <td>1</td>\n",
       "      <td>12</td>\n",
       "      <td>44</td>\n",
       "      <td>86</td>\n",
       "    </tr>\n",
       "    <tr>\n",
       "      <th>28</th>\n",
       "      <td>74</td>\n",
       "      <td>650</td>\n",
       "      <td>5457</td>\n",
       "      <td>1324</td>\n",
       "      <td>260</td>\n",
       "      <td>36</td>\n",
       "      <td>148</td>\n",
       "      <td>426</td>\n",
       "      <td>1327</td>\n",
       "      <td>82</td>\n",
       "      <td>4.09</td>\n",
       "      <td>1</td>\n",
       "      <td>6</td>\n",
       "      <td>41</td>\n",
       "      <td>92</td>\n",
       "    </tr>\n",
       "    <tr>\n",
       "      <th>29</th>\n",
       "      <td>68</td>\n",
       "      <td>737</td>\n",
       "      <td>5572</td>\n",
       "      <td>1479</td>\n",
       "      <td>274</td>\n",
       "      <td>49</td>\n",
       "      <td>186</td>\n",
       "      <td>388</td>\n",
       "      <td>1283</td>\n",
       "      <td>97</td>\n",
       "      <td>5.04</td>\n",
       "      <td>4</td>\n",
       "      <td>4</td>\n",
       "      <td>36</td>\n",
       "      <td>95</td>\n",
       "    </tr>\n",
       "  </tbody>\n",
       "</table>\n",
       "</div>"
      ],
      "text/plain": [
       "      W    R    AB     H   2B  3B   HR   BB    SO   SB   ERA  CG  SHO  SV    E\n",
       "0    95  724  5575  1497  300  42  139  383   973  104  3.73   2    8  56   88\n",
       "1    83  696  5467  1349  277  44  156  439  1264   70  4.07   2   12  45   86\n",
       "2    81  669  5439  1395  303  29  141  533  1157   86  3.67  11   10  38   79\n",
       "3    76  622  5533  1381  260  27  136  404  1231   68  3.98   7    9  37  101\n",
       "4    74  689  5605  1515  289  49  151  455  1259   83  4.64   7   12  35   86\n",
       "6    87  764  5567  1397  272  19  212  554  1227   63  4.03   3    4  48   93\n",
       "7    81  713  5485  1370  246  20  217  418  1331   44  4.05   0   10  43   77\n",
       "8    80  644  5485  1383  278  32  167  436  1310   87  3.74   1   12  60   95\n",
       "9    78  748  5640  1495  294  33  161  478  1148   71  4.31   3   10  40   97\n",
       "10   88  751  5511  1419  279  32  172  503  1233  101  4.24   5    9  45  119\n",
       "11   86  729  5459  1363  278  26  230  486  1392  121  3.57   5   13  39   85\n",
       "12   85  661  5417  1331  243  21  176  435  1150   52  3.94   2   12  46   93\n",
       "13   76  656  5544  1379  262  22  198  478  1336   69  4.16   6   12  45   94\n",
       "14   68  694  5600  1405  277  46  146  475  1119   78  4.14   5   15  28  126\n",
       "15  100  647  5484  1386  288  39  137  506  1267   69  2.94   1   15  62   96\n",
       "16   98  697  5631  1462  292  27  140  461  1322   98  3.21   0   13  54  122\n",
       "17   97  689  5491  1341  272  30  171  567  1518   95  3.36   6   21  48  111\n",
       "18   68  655  5480  1378  274  34  145  412  1299   84  4.28   1    7  40  116\n",
       "19   64  640  5571  1382  257  27  167  496  1255  134  4.33   2    8  35   90\n",
       "20   90  683  5527  1351  295  17  177  488  1290   51  3.43   1   14  50   88\n",
       "21   83  703  5428  1363  265  13  177  539  1344   57  3.62   4   13  41   90\n",
       "22   71  613  5463  1420  236  40  120  375  1150  112  4.02   0   12  35   77\n",
       "23   67  573  5420  1361  251  18  100  471  1107   69  4.41   3   10  44   90\n",
       "24   63  626  5529  1374  272  37  130  387  1274   88  4.69   1    7  35  117\n",
       "25   92  667  5385  1346  263  26  187  563  1258   59  3.44   6   21  47   75\n",
       "26   84  696  5565  1486  288  39  136  457  1159   93  3.72   7   18  41   78\n",
       "27   79  720  5649  1494  289  48  154  490  1312  132  4.04   1   12  44   86\n",
       "28   74  650  5457  1324  260  36  148  426  1327   82  4.09   1    6  41   92\n",
       "29   68  737  5572  1479  274  49  186  388  1283   97  5.04   4    4  36   95"
      ]
     },
     "execution_count": 32,
     "metadata": {},
     "output_type": "execute_result"
    }
   ],
   "source": [
    "df"
   ]
  },
  {
   "cell_type": "code",
   "execution_count": 33,
   "metadata": {},
   "outputs": [],
   "source": [
    "#Calculating vif\n",
    "import statsmodels.api as sm\n",
    "from statsmodels.stats.outliers_influence import variance_inflation_factor\n",
    "def calc_vif(x):\n",
    "    x=pd.DataFrame(x)\n",
    "    vif = pd.DataFrame()\n",
    "    vif[\"VIF Factor\"] = [variance_inflation_factor(x.values, i) for i in range(x.shape[1])]\n",
    "    vif[\"features\"] = x.columns\n",
    "    print(vif)"
   ]
  },
  {
   "cell_type": "code",
   "execution_count": 34,
   "metadata": {},
   "outputs": [
    {
     "name": "stdout",
     "output_type": "stream",
     "text": [
      "    VIF Factor  features\n",
      "0     3.712797         0\n",
      "1          NaN         1\n",
      "2          NaN         2\n",
      "3     2.526291         3\n",
      "4     2.897134         4\n",
      "5     4.357264         5\n",
      "6     2.717454         6\n",
      "7     2.219929         7\n",
      "8     1.640592         8\n",
      "9     3.923297         9\n",
      "10    1.975853        10\n",
      "11    2.780939        11\n",
      "12    2.136035        12\n",
      "13    1.323100        13\n"
     ]
    }
   ],
   "source": [
    "calc_vif(x)"
   ]
  },
  {
   "cell_type": "code",
   "execution_count": 35,
   "metadata": {},
   "outputs": [],
   "source": [
    "#since x[o] is highly coliner removing that"
   ]
  },
  {
   "cell_type": "code",
   "execution_count": 36,
   "metadata": {},
   "outputs": [
    {
     "data": {
      "text/plain": [
       "array([[ 9.62543504e-01,  0.00000000e+00,  0.00000000e+00,\n",
       "         1.68518793e+00,  1.00615029e+00, -7.41927000e-01,\n",
       "        -1.60519802e+00, -2.55061247e+00,  9.36131648e-01,\n",
       "        -5.09292146e-01, -3.07098204e-01, -7.87002186e-01,\n",
       "         1.53275292e+00, -3.48265262e-01],\n",
       "       [ 2.98863300e-01,  0.00000000e+00,  0.00000000e+00,\n",
       "         1.38197902e-01,  1.18522654e+00, -1.09958425e-01,\n",
       "        -4.62095966e-01,  9.36832915e-02, -5.16377335e-01,\n",
       "         2.41440214e-01, -3.07098204e-01,  2.36736538e-01,\n",
       "         3.12020186e-01, -5.40819806e-01],\n",
       "       [-3.12105130e-01,  0.00000000e+00,  0.00000000e+00,\n",
       "         1.90738550e+00, -2.28819392e-01, -6.64354121e-01,\n",
       "         1.23209786e+00, -9.35611465e-01,  2.25038365e-01,\n",
       "        -6.42097599e-01,  2.01131531e+00, -2.52844176e-01,\n",
       "        -6.64136739e-01, -1.32612477e+00],\n",
       "       [-1.30829774e+00,  0.00000000e+00,  0.00000000e+00,\n",
       "        -8.37664770e-01, -4.32227907e-01, -8.60039342e-01,\n",
       "        -1.16272085e+00, -2.30682707e-01, -6.18421529e-01,\n",
       "         4.30132461e-02,  1.26446344e+00, -5.13554932e-01,\n",
       "        -8.20688859e-01,  6.50818351e-01],\n",
       "       [ 1.37737301e-01,  0.00000000e+00,  0.00000000e+00,\n",
       "         9.11434794e-01,  1.62263592e+00, -2.89646675e-01,\n",
       "        -1.55685826e-01,  4.41433307e-02,  9.50377681e-02,\n",
       "         1.49349103e+00,  1.26446344e+00,  2.36736538e-01,\n",
       "        -1.14916472e+00, -5.40819806e-01],\n",
       "       [ 1.96420873e+00,  0.00000000e+00,  0.00000000e+00,\n",
       "        -1.63010220e-01, -1.29582738e+00,  1.63163749e+00,\n",
       "         1.57949358e+00, -2.69582692e-01, -8.84525554e-01,\n",
       "         1.53276229e-01,  1.21870592e-01, -2.06403920e+00,\n",
       "         6.77176215e-01,  8.28582419e-02],\n",
       "       [ 6.98145564e-01,  0.00000000e+00,  0.00000000e+00,\n",
       "        -1.54263548e+00, -1.18275843e+00,  1.76773356e+00,\n",
       "        -8.77216697e-01,  7.70980104e-01, -2.08284252e+00,\n",
       "         1.97363352e-01, -1.73289617e+00, -2.52844176e-01,\n",
       "         5.23253489e-02, -1.58819729e+00],\n",
       "       [-8.52595277e-01,  0.00000000e+00,  0.00000000e+00,\n",
       "         1.99896614e-01,  6.87034881e-02,  2.69125303e-01,\n",
       "        -5.20475583e-01,  5.56007529e-01,  2.67558365e-01,\n",
       "        -4.87167563e-01, -8.70681710e-01,  2.36736538e-01,\n",
       "         1.90813725e+00,  2.37592499e-01],\n",
       "       [ 1.55595108e+00,  0.00000000e+00,  0.00000000e+00,\n",
       "         1.25525640e+00,  1.66016920e-01,  6.50138601e-02,\n",
       "         2.70943885e-01, -1.01920973e+00, -4.66233050e-01,\n",
       "         7.69577491e-01,  1.21870592e-01, -2.52844176e-01,\n",
       "        -3.65006331e-01,  3.83385575e-01],\n",
       "       [ 1.63172674e+00,  0.00000000e+00,  0.00000000e+00,\n",
       "         2.62085981e-01,  6.87034881e-02,  4.34619901e-01,\n",
       "         7.17575787e-01, -2.11198815e-01,  8.24915052e-01,\n",
       "         6.15685236e-01,  7.70648979e-01, -5.13554932e-01,\n",
       "         3.12020186e-01,  1.55426515e+00],\n",
       "       [ 1.08429715e+00,  0.00000000e+00,  0.00000000e+00,\n",
       "         1.99896614e-01, -5.35589865e-01,  2.10976140e+00,\n",
       "         4.15731318e-01,  1.40920289e+00,  1.52141342e+00,\n",
       "        -8.63663642e-01,  7.70648979e-01,  4.68029391e-01,\n",
       "        -5.12328248e-01, -6.41925514e-01],\n",
       "       [-4.87692420e-01,  0.00000000e+00,  0.00000000e+00,\n",
       "        -1.68270914e+00, -1.07132315e+00,  5.64164281e-01,\n",
       "        -5.40002291e-01, -1.00067264e+00, -1.53576005e+00,\n",
       "        -4.52439677e-02, -3.07098204e-01,  2.36736538e-01,\n",
       "         4.36837705e-01,  8.28582419e-02],\n",
       "       [-5.96175935e-01,  0.00000000e+00,  0.00000000e+00,\n",
       "        -7.29846682e-01, -9.61425202e-01,  1.23584791e+00,\n",
       "         2.70943885e-01,  8.22523572e-01, -5.67101779e-01,\n",
       "         4.39660260e-01,  1.03166276e+00,  2.36736538e-01,\n",
       "         3.12020186e-01,  1.61388488e-01],\n",
       "       [ 2.52632115e-01,  0.00000000e+00,  0.00000000e+00,\n",
       "         1.38197902e-01,  1.36188686e+00, -4.74339591e-01,\n",
       "         2.16180612e-01, -1.28540143e+00, -1.30311671e-01,\n",
       "         3.95629046e-01,  7.70648979e-01,  9.08147185e-01,\n",
       "        -2.49883997e+00,  1.81055287e+00],\n",
       "       [-7.89011402e-01,  0.00000000e+00,  0.00000000e+00,\n",
       "         8.44221534e-01,  7.32678154e-01, -8.20430695e-01,\n",
       "         7.70046367e-01,  1.23474558e-01, -5.67101779e-01,\n",
       "        -2.26637599e+00, -8.70681710e-01,  9.08147185e-01,\n",
       "         2.08491727e+00,  3.11562350e-01],\n",
       "       [ 3.22037487e-01,  0.00000000e+00,  0.00000000e+00,\n",
       "         1.11616810e+00, -4.32227907e-01, -7.03025726e-01,\n",
       "        -4.28617534e-02,  6.78550021e-01,  7.10994061e-01,\n",
       "        -1.66371188e+00, -1.73289617e+00,  4.68029391e-01,\n",
       "         1.33300631e+00,  1.66920917e+00],\n",
       "       [ 1.37737301e-01,  0.00000000e+00,  0.00000000e+00,\n",
       "        -1.63010220e-01, -1.28676161e-01,  4.01843420e-01,\n",
       "         1.78963187e+00,  2.79148702e+00,  5.94217890e-01,\n",
       "        -1.32988858e+00,  1.03166276e+00,  2.09085582e+00,\n",
       "         6.77176215e-01,  1.20371501e+00],\n",
       "       [-6.17756609e-01,  0.00000000e+00,  0.00000000e+00,\n",
       "        -4.39755655e-02,  2.62459743e-01, -5.11906087e-01,\n",
       "        -9.98685266e-01,  4.44378919e-01,  1.38786720e-01,\n",
       "         7.03638359e-01, -8.70681710e-01, -1.07533963e+00,\n",
       "        -3.65006331e-01,  1.43081026e+00],\n",
       "       [-9.36834306e-01,  0.00000000e+00,  0.00000000e+00,\n",
       "        -9.96002506e-01, -4.32227907e-01,  2.69125303e-01,\n",
       "         5.94226550e-01,  4.61238853e-03,  1.92552808e+00,\n",
       "         8.13524742e-01, -3.07098204e-01, -7.87002186e-01,\n",
       "        -1.14916472e+00, -1.67684998e-01],\n",
       "       [ 1.15032665e-03,  0.00000000e+00,  0.00000000e+00,\n",
       "         1.32558682e+00, -1.52730964e+00,  5.96168091e-01,\n",
       "         4.51648972e-01,  3.53547035e-01, -1.60029335e+00,\n",
       "        -1.17433666e+00, -8.70681710e-01,  6.91582693e-01,\n",
       "         9.06023678e-01, -3.48265262e-01],\n",
       "       [ 4.61903563e-01,  0.00000000e+00,  0.00000000e+00,\n",
       "        -5.64688157e-01, -2.01564882e+00,  5.96168091e-01,\n",
       "         1.33238489e+00,  9.05280039e-01, -1.22726215e+00,\n",
       "        -7.52845387e-01,  4.72300348e-01,  4.68029391e-01,\n",
       "        -2.21933710e-01, -1.67684998e-01],\n",
       "       [-1.48937178e+00,  0.00000000e+00,  0.00000000e+00,\n",
       "        -1.99504220e+00,  8.24510284e-01, -1.52911231e+00,\n",
       "        -1.77854272e+00, -1.00067264e+00,  1.22050964e+00,\n",
       "         1.31228806e-01, -1.73289617e+00,  2.36736538e-01,\n",
       "        -1.14916472e+00, -1.58819729e+00],\n",
       "       [-2.25681725e+00,  0.00000000e+00,  0.00000000e+00,\n",
       "        -1.30068346e+00, -1.41063754e+00, -2.47829793e+00,\n",
       "         1.42758514e-01, -1.39412379e+00, -5.67101779e-01,\n",
       "         9.89217220e-01,  1.21870592e-01, -2.52844176e-01,\n",
       "         1.83903886e-01, -1.67684998e-01],\n",
       "       [-1.22682499e+00,  0.00000000e+00,  0.00000000e+00,\n",
       "        -1.63010220e-01,  5.46877831e-01, -1.10289298e+00,\n",
       "        -1.51954034e+00,  1.93183556e-01,  3.09685564e-01,\n",
       "         1.60295419e+00, -8.70681710e-01, -1.07533963e+00,\n",
       "        -1.14916472e+00,  1.47295923e+00],\n",
       "       [-3.56234524e-01,  0.00000000e+00,  0.00000000e+00,\n",
       "        -6.75253462e-01, -5.35589865e-01,  9.08214214e-01,\n",
       "         1.72536184e+00,  3.42521724e-02, -1.10992538e+00,\n",
       "        -1.15212680e+00,  1.03166276e+00,  2.09085582e+00,\n",
       "         5.58508906e-01, -1.87019087e+00],\n",
       "       [ 2.98863300e-01,  0.00000000e+00,  0.00000000e+00,\n",
       "         8.44221534e-01,  7.32678154e-01, -8.60039342e-01,\n",
       "        -1.17954659e-01, -9.16970789e-01,  5.14700397e-01,\n",
       "        -5.31419479e-01,  1.26446344e+00,  1.52182832e+00,\n",
       "        -2.21933710e-01, -1.45479212e+00],\n",
       "       [ 8.65848732e-01,  0.00000000e+00,  0.00000000e+00,\n",
       "         9.11434794e-01,  1.53626470e+00, -1.81252234e-01,\n",
       "         4.87456542e-01,  5.76375836e-01,  1.86548585e+00,\n",
       "         1.75321075e-01, -8.70681710e-01,  2.36736538e-01,\n",
       "         1.83903886e-01, -5.40819806e-01],\n",
       "       [-7.25080407e-01,  0.00000000e+00,  0.00000000e+00,\n",
       "        -8.37664770e-01,  4.52860860e-01, -3.99842255e-01,\n",
       "        -7.17272959e-01,  7.29844768e-01,  5.08613716e-02,\n",
       "         2.85506859e-01, -8.70681710e-01, -1.38141238e+00,\n",
       "        -2.21933710e-01,  1.90485434e-03],\n",
       "       [ 1.28115156e+00,  0.00000000e+00,  0.00000000e+00,\n",
       "        -4.39755655e-02,  1.62263592e+00,  8.77641898e-01,\n",
       "        -1.49822954e+00,  2.83212126e-01,  6.72393731e-01,\n",
       "         2.36764236e+00,  4.72300348e-01, -2.06403920e+00,\n",
       "        -9.82263658e-01,  2.37592499e-01]])"
      ]
     },
     "execution_count": 36,
     "metadata": {},
     "output_type": "execute_result"
    }
   ],
   "source": [
    "x"
   ]
  },
  {
   "cell_type": "code",
   "execution_count": 37,
   "metadata": {},
   "outputs": [
    {
     "data": {
      "text/plain": [
       "(29, 14)"
      ]
     },
     "execution_count": 37,
     "metadata": {},
     "output_type": "execute_result"
    }
   ],
   "source": [
    "x.shape"
   ]
  },
  {
   "cell_type": "code",
   "execution_count": 38,
   "metadata": {},
   "outputs": [
    {
     "data": {
      "text/plain": [
       "(29,)"
      ]
     },
     "execution_count": 38,
     "metadata": {},
     "output_type": "execute_result"
    }
   ],
   "source": [
    "y.shape"
   ]
  },
  {
   "cell_type": "code",
   "execution_count": 39,
   "metadata": {},
   "outputs": [
    {
     "name": "stdout",
     "output_type": "stream",
     "text": [
      "At random state 999 max_r2 is 0.9868506306192817\n"
     ]
    }
   ],
   "source": [
    "from sklearn.model_selection import train_test_split\n",
    "from sklearn.linear_model import LinearRegression,Lasso,Ridge\n",
    "from sklearn.metrics import mean_squared_error,r2_score\n",
    "x_train=x\n",
    "y_train=y\n",
    "x_test=x\n",
    "y_test=y\n",
    "r_state=0\n",
    "max_r2=0\n",
    "lr=LinearRegression()\n",
    "for i in range(0,1000):\n",
    "    tr_x,t_x,tr_y,t_y=train_test_split(x,y,random_state=i,test_size=0.20)\n",
    "    lr.fit(tr_x,tr_y)\n",
    "    pred=lr.predict(t_x)\n",
    "    if r2_score(t_y,pred)>max_r2:\n",
    "        x_train=tr_x\n",
    "        x_test=t_x\n",
    "        y_train=tr_y\n",
    "        y_test=t_y\n",
    "        r_state=i\n",
    "        max_r2=r2_score(t_y,pred)\n",
    "print(\"At random state\",i,\"max_r2 is\",max_r2)"
   ]
  },
  {
   "cell_type": "code",
   "execution_count": 40,
   "metadata": {},
   "outputs": [
    {
     "name": "stdout",
     "output_type": "stream",
     "text": [
      "(23, 14) (23,)\n"
     ]
    }
   ],
   "source": [
    "print(x_train.shape,y_train.shape)"
   ]
  },
  {
   "cell_type": "code",
   "execution_count": 41,
   "metadata": {},
   "outputs": [],
   "source": [
    "def fun(f):\n",
    "    f.fit(x_train,y_train)\n",
    "    pred=f.predict(x_test)\n",
    "    print(\"MSE=\",mean_squared_error(y_test,pred))\n",
    "    print(\"r2 score=\",r2_score(y_test,pred))"
   ]
  },
  {
   "cell_type": "code",
   "execution_count": 42,
   "metadata": {},
   "outputs": [],
   "source": [
    "from sklearn.model_selection import cross_val_score,KFold\n",
    "def cvs(m):\n",
    "    cv1=KFold(n_splits=5,shuffle=True)\n",
    "    score=cross_val_score(m,x,y,cv=cv1,scoring='r2')\n",
    "    print(\"Cross val score\",score)\n",
    "    print(score.mean())\n",
    "    "
   ]
  },
  {
   "cell_type": "code",
   "execution_count": 43,
   "metadata": {},
   "outputs": [],
   "source": [
    "from sklearn.model_selection import GridSearchCV\n",
    "def hypertuning(params,model):\n",
    "    gd=GridSearchCV(model,params,cv=5)\n",
    "    gd.fit(x,y)\n",
    "    print(gd.best_params_)"
   ]
  },
  {
   "cell_type": "code",
   "execution_count": 44,
   "metadata": {},
   "outputs": [
    {
     "name": "stdout",
     "output_type": "stream",
     "text": [
      "{'copy_X': True, 'fit_intercept': True, 'n_jobs': None, 'normalize': True}\n"
     ]
    }
   ],
   "source": [
    "lr_params={'fit_intercept':[True,False],'normalize':[True,False],'copy_X':[True,False],'n_jobs':[None,1,2,3]}\n",
    "hypertuning(lr_params,lr)"
   ]
  },
  {
   "cell_type": "code",
   "execution_count": 48,
   "metadata": {},
   "outputs": [
    {
     "name": "stdout",
     "output_type": "stream",
     "text": [
      "Cross val score [0.90142341 0.76991384 0.69603832 0.74546829 0.91696898]\n",
      "0.8059625705934194\n",
      "MSE= 1.6597426240551247\n",
      "r2 score= 0.9868506306192816\n"
     ]
    }
   ],
   "source": [
    "lr=LinearRegression(copy_X=True,fit_intercept=True,n_jobs=None,normalize=True)\n",
    "cvs(lr)\n",
    "fun(lr)"
   ]
  },
  {
   "cell_type": "code",
   "execution_count": 184,
   "metadata": {},
   "outputs": [],
   "source": [
    "model=['Linear Regression']\n",
    "CVS=[0.80]\n",
    "r2=[0.98]"
   ]
  },
  {
   "cell_type": "code",
   "execution_count": 50,
   "metadata": {},
   "outputs": [
    {
     "name": "stdout",
     "output_type": "stream",
     "text": [
      "{'alpha': 0.1, 'copy_X': True, 'fit_intercept': True, 'normalize': True}\n"
     ]
    }
   ],
   "source": [
    "l=Lasso()\n",
    "params_lasso={\n",
    "    'alpha':[0.001,0.01,0.1,1],\n",
    "    'fit_intercept':[True,False],\n",
    "    'normalize':[True,False],\n",
    "    'copy_X':[True,False]\n",
    "}\n",
    "hypertuning(params_lasso,l)"
   ]
  },
  {
   "cell_type": "code",
   "execution_count": 51,
   "metadata": {},
   "outputs": [],
   "source": [
    "l=Lasso(alpha=0.1,copy_X=True,fit_intercept=True,normalize=True)"
   ]
  },
  {
   "cell_type": "code",
   "execution_count": 186,
   "metadata": {},
   "outputs": [
    {
     "name": "stdout",
     "output_type": "stream",
     "text": [
      "MSE= 6.967261650089377\n",
      "r2 score= 0.9448016242510525\n",
      "Cross val score [0.67828231 0.95869568 0.80447105 0.8137726  0.81159957]\n",
      "0.8133642434124226\n"
     ]
    }
   ],
   "source": [
    "fun(l)\n",
    "cvs(l)"
   ]
  },
  {
   "cell_type": "code",
   "execution_count": 187,
   "metadata": {},
   "outputs": [],
   "source": [
    "model.append('Lasso')\n",
    "CVS.append(0.81)\n",
    "r2.append(0.94)"
   ]
  },
  {
   "cell_type": "code",
   "execution_count": 63,
   "metadata": {},
   "outputs": [
    {
     "name": "stdout",
     "output_type": "stream",
     "text": [
      "{'alpha': 1, 'copy_X': True, 'fit_intercept': True, 'normalize': False}\n"
     ]
    }
   ],
   "source": [
    "R=Ridge()\n",
    "params_ridge={\n",
    "    'alpha':[0.001,0.01,0.1,1],\n",
    "    'fit_intercept':[True,False],\n",
    "    'normalize':[True,False],\n",
    "    'copy_X':[True,False]\n",
    "}\n",
    "hypertuning(params_ridge,R)"
   ]
  },
  {
   "cell_type": "code",
   "execution_count": 164,
   "metadata": {},
   "outputs": [
    {
     "name": "stdout",
     "output_type": "stream",
     "text": [
      "MSE= 7.91256880556655\n",
      "r2 score= 0.9373123950263214\n",
      "Cross val score [0.55293088 0.77516828 0.85922415 0.51686495 0.90478878]\n",
      "0.721795407955423\n"
     ]
    }
   ],
   "source": [
    "R=Ridge(alpha=1,copy_X=True,fit_intercept=True,normalize=False)\n",
    "fun(R)\n",
    "cvs(R)"
   ]
  },
  {
   "cell_type": "code",
   "execution_count": 188,
   "metadata": {},
   "outputs": [],
   "source": [
    "model.append('Ridge')\n",
    "r2.append(0.93)\n",
    "CVS.append(0.72)"
   ]
  },
  {
   "cell_type": "code",
   "execution_count": 87,
   "metadata": {},
   "outputs": [
    {
     "name": "stdout",
     "output_type": "stream",
     "text": [
      "{'degree': 1, 'gamma': 'auto', 'kernel': 'linear', 'shrinking': True}\n"
     ]
    }
   ],
   "source": [
    "from sklearn.svm import SVR\n",
    "params_svr={\n",
    "    'kernel':['poly','linear','rbf','sigmoid'],'degree':[1,3,5,7],'gamma':['auto','scale'],'shrinking':[True,False]}\n",
    "hypertuning(params_svr,SVR())"
   ]
  },
  {
   "cell_type": "code",
   "execution_count": 166,
   "metadata": {},
   "outputs": [
    {
     "name": "stdout",
     "output_type": "stream",
     "text": [
      "MSE= 22.746237063214707\n",
      "r2 score= 0.8197921359428413\n",
      "Cross val score [0.53716976 0.57130488 0.44349918 0.83258228 0.88878123]\n",
      "0.654667466538784\n"
     ]
    }
   ],
   "source": [
    "svr=SVR(degree=1,gamma='auto',kernel='linear',shrinking=True)\n",
    "fun(svr)\n",
    "cvs(svr)"
   ]
  },
  {
   "cell_type": "code",
   "execution_count": 189,
   "metadata": {},
   "outputs": [],
   "source": [
    "model.append('SVR')\n",
    "r2.append(0.81)\n",
    "CVS.append(0.65)"
   ]
  },
  {
   "cell_type": "code",
   "execution_count": 96,
   "metadata": {},
   "outputs": [
    {
     "name": "stdout",
     "output_type": "stream",
     "text": [
      "{'criterion': 'mae', 'max_depth': 3, 'min_samples_split': 2, 'splitter': 'random'}\n"
     ]
    }
   ],
   "source": [
    "from sklearn.tree import DecisionTreeRegressor\n",
    "dtr=DecisionTreeRegressor()\n",
    "params_dtr={'criterion':['mse','friedman_mse','mae'],'splitter':['random','best'],'max_depth':[None,1,2,3],'min_samples_split':[2,3,4]}\n",
    "hypertuning(params_dtr,dtr)"
   ]
  },
  {
   "cell_type": "code",
   "execution_count": 169,
   "metadata": {},
   "outputs": [
    {
     "name": "stdout",
     "output_type": "stream",
     "text": [
      "MSE= 44.916666666666664\n",
      "r2 score= 0.6441461267605634\n",
      "Cross val score [0.11132346 0.53174206 0.28455791 0.28588098 0.32910839]\n",
      "0.30852256065015127\n"
     ]
    }
   ],
   "source": [
    "dtr=DecisionTreeRegressor(criterion='mae',max_depth=3,min_samples_split=2,splitter='random')\n",
    "fun(dtr)\n",
    "cvs(dtr)"
   ]
  },
  {
   "cell_type": "code",
   "execution_count": 190,
   "metadata": {},
   "outputs": [],
   "source": [
    "model.append('Decision Tree regressor')\n",
    "r2.append(0.64)\n",
    "CVS.append(0.30)"
   ]
  },
  {
   "cell_type": "code",
   "execution_count": 102,
   "metadata": {},
   "outputs": [
    {
     "name": "stdout",
     "output_type": "stream",
     "text": [
      "{'algorithm': 'auto', 'leaf_size': 30, 'n_neighbors': 5, 'weights': 'uniform'}\n"
     ]
    }
   ],
   "source": [
    "from sklearn.neighbors import KNeighborsRegressor\n",
    "knn=KNeighborsRegressor()\n",
    "params_knn={'n_neighbors':[5,7,9,11],'weights':['uniform','distance'],'algorithm':['auto','ball_tree','kd_tree','brute'],'leaf_size':[30,40,50]}\n",
    "hypertuning(params_knn,knn)"
   ]
  },
  {
   "cell_type": "code",
   "execution_count": 191,
   "metadata": {},
   "outputs": [
    {
     "name": "stdout",
     "output_type": "stream",
     "text": [
      "MSE= 64.96\n",
      "r2 score= 0.4853521126760564\n",
      "Cross val score [0.54021577 0.35116676 0.27461518 0.56897959 0.39917355]\n",
      "0.42683017172899246\n"
     ]
    }
   ],
   "source": [
    "knn=KNeighborsRegressor(algorithm='auto',leaf_size=30,n_neighbors=5,weights='uniform')\n",
    "fun(knn)\n",
    "cvs(knn)"
   ]
  },
  {
   "cell_type": "code",
   "execution_count": 183,
   "metadata": {},
   "outputs": [],
   "source": [
    "model.append('K Neighbors')\n",
    "r2.append(0.48)\n",
    "CVS.append(0.42)"
   ]
  },
  {
   "cell_type": "code",
   "execution_count": 106,
   "metadata": {},
   "outputs": [],
   "source": [
    "from sklearn.experimental import enable_hist_gradient_boosting\n",
    "from sklearn.ensemble import RandomForestRegressor,AdaBoostRegressor,GradientBoostingRegressor,HistGradientBoostingRegressor\n",
    "from sklearn.tree import ExtraTreeRegressor\n",
    "rf=RandomForestRegressor()\n",
    "etr=ExtraTreeRegressor()\n",
    "ada=AdaBoostRegressor()\n",
    "Gd=GradientBoostingRegressor()\n",
    "HGd=HistGradientBoostingRegressor()"
   ]
  },
  {
   "cell_type": "code",
   "execution_count": 107,
   "metadata": {},
   "outputs": [
    {
     "name": "stdout",
     "output_type": "stream",
     "text": [
      "{'criterion': 'mae', 'max_depth': None, 'min_samples_split': 2, 'n_estimators': 200}\n"
     ]
    }
   ],
   "source": [
    "params_rf={'n_estimators':[100,200,300,500],\n",
    "           'criterion':['mae','mse'],\n",
    "           'max_depth':[None,1,2,3],\n",
    "           'min_samples_split':[2,3,4]}\n",
    "hypertuning(params_rf,rf)"
   ]
  },
  {
   "cell_type": "code",
   "execution_count": 108,
   "metadata": {},
   "outputs": [],
   "source": [
    "rf=RandomForestRegressor(criterion='mae',max_depth=None,min_samples_split=2,n_estimators=200)"
   ]
  },
  {
   "cell_type": "code",
   "execution_count": 192,
   "metadata": {},
   "outputs": [
    {
     "name": "stdout",
     "output_type": "stream",
     "text": [
      "MSE= 35.38697916666665\n",
      "r2 score= 0.7196454115316904\n",
      "Cross val score [0.10270844 0.63783248 0.10715792 0.56807994 0.55162819]\n",
      "0.3934813925456315\n"
     ]
    }
   ],
   "source": [
    "fun(rf)\n",
    "cvs(rf)"
   ]
  },
  {
   "cell_type": "code",
   "execution_count": 193,
   "metadata": {},
   "outputs": [],
   "source": [
    "model.append('Random Forest')\n",
    "r2.append(0.71)\n",
    "CVS.append(0.39)"
   ]
  },
  {
   "cell_type": "code",
   "execution_count": 112,
   "metadata": {},
   "outputs": [
    {
     "name": "stdout",
     "output_type": "stream",
     "text": [
      "{'criterion': 'mse', 'max_depth': 1, 'min_samples_split': 4, 'splitter': 'random'}\n"
     ]
    }
   ],
   "source": [
    "params_etr={'criterion':['mse','friedman_mse','mae'],\n",
    "            'splitter':['random','best'],\n",
    "            'max_depth':[None,1,2,3],\n",
    "            'min_samples_split':[2,3,4]}\n",
    "hypertuning(params_etr,etr)"
   ]
  },
  {
   "cell_type": "code",
   "execution_count": 124,
   "metadata": {},
   "outputs": [
    {
     "name": "stdout",
     "output_type": "stream",
     "text": [
      "MSE= 89.44643085992568\n",
      "r2 score= 0.2913575019900254\n",
      "Cross val score [-0.03185     0.62069436  0.4499346  -0.20963837 -0.11918078]\n",
      "0.1419919626316087\n"
     ]
    }
   ],
   "source": [
    "etr=ExtraTreeRegressor(criterion='mse',max_depth=1,min_samples_split=4,splitter='random')\n",
    "fun(etr)\n",
    "cvs(etr)"
   ]
  },
  {
   "cell_type": "code",
   "execution_count": 194,
   "metadata": {},
   "outputs": [],
   "source": [
    "model.append('Extra Tree')\n",
    "r2.append(0.29)\n",
    "CVS.append(0.14)"
   ]
  },
  {
   "cell_type": "code",
   "execution_count": 126,
   "metadata": {},
   "outputs": [
    {
     "name": "stdout",
     "output_type": "stream",
     "text": [
      "{'learning_rate': 0.9, 'loss': 'linear', 'n_estimators': 30, 'random_state': 56}\n"
     ]
    }
   ],
   "source": [
    "params_ada={'n_estimators':[10,20,30,50],'learning_rate':[1,0.9,0.8],'loss':['linear', 'square', 'exponential'],'random_state':[43,33,56]}\n",
    "hypertuning(params_ada,ada)\n",
    "            "
   ]
  },
  {
   "cell_type": "code",
   "execution_count": 131,
   "metadata": {},
   "outputs": [
    {
     "name": "stdout",
     "output_type": "stream",
     "text": [
      "MSE= 45.17122543461829\n",
      "r2 score= 0.6421293759581297\n",
      "Cross val score [0.32196814 0.52607533 0.50414252 0.47930151 0.73965352]\n",
      "0.5142282031274992\n"
     ]
    }
   ],
   "source": [
    "ada=AdaBoostRegressor(learning_rate=0.9,loss='linear',n_estimators=30,random_state=56)\n",
    "fun(ada)\n",
    "cvs(ada)"
   ]
  },
  {
   "cell_type": "code",
   "execution_count": 195,
   "metadata": {},
   "outputs": [],
   "source": [
    "model.append('Ada Boost')\n",
    "r2.append(0.64)\n",
    "CVS.append(0.51)"
   ]
  },
  {
   "cell_type": "code",
   "execution_count": 133,
   "metadata": {},
   "outputs": [
    {
     "name": "stdout",
     "output_type": "stream",
     "text": [
      "{'criterion': 'friedman_mse', 'learning_rate': 0.9, 'loss': 'quantile', 'n_estimators': 50}\n"
     ]
    }
   ],
   "source": [
    "params_Gd={'n_estimators':[50,100,150],'learning_rate':[1,0.9,0.8],'loss':['ls', 'lad', 'huber', 'quantile'],'criterion':['friedman_mse', 'mse', 'mae']}\n",
    "hypertuning(params_Gd,Gd)\n",
    "            "
   ]
  },
  {
   "cell_type": "code",
   "execution_count": 142,
   "metadata": {},
   "outputs": [
    {
     "name": "stdout",
     "output_type": "stream",
     "text": [
      "MSE= 173.25569308820687\n",
      "r2 score= -0.3726243290438924\n",
      "Cross val score [ 0.02545023 -0.09282424 -0.93403099  0.44175991 -0.5289561 ]\n",
      "-0.21772023939934745\n"
     ]
    }
   ],
   "source": [
    "Gd=GradientBoostingRegressor(n_estimators=50,loss='quantile',learning_rate=0.9,criterion='friedman_mse')\n",
    "fun(Gd)\n",
    "cvs(Gd)"
   ]
  },
  {
   "cell_type": "code",
   "execution_count": 196,
   "metadata": {},
   "outputs": [],
   "source": [
    "model.append('Gradient Boosting')\n",
    "r2.append(-0.37)\n",
    "CVS.append(-0.21)"
   ]
  },
  {
   "cell_type": "code",
   "execution_count": 144,
   "metadata": {},
   "outputs": [],
   "source": [
    "params_hgd={'loss':['least_squares','least_absolute_deviation','poisson'],'learning_rate':[0.1,0.2,0.3],'max_iter':[100,50,70],'max_leaf_nodes':[None,1,21,31,41]}"
   ]
  },
  {
   "cell_type": "code",
   "execution_count": 145,
   "metadata": {},
   "outputs": [
    {
     "name": "stdout",
     "output_type": "stream",
     "text": [
      "{'learning_rate': 0.1, 'loss': 'least_squares', 'max_iter': 100, 'max_leaf_nodes': None}\n"
     ]
    }
   ],
   "source": [
    "hypertuning(params_hgd,HGd)"
   ]
  },
  {
   "cell_type": "code",
   "execution_count": 198,
   "metadata": {},
   "outputs": [
    {
     "name": "stdout",
     "output_type": "stream",
     "text": [
      "MSE= 128.5822306238185\n",
      "r2 score= -0.018697249660533988\n",
      "Cross val score [-0.117188   -0.69645376 -0.831085   -0.31499718 -0.5732146 ]\n",
      "-0.5065877076742581\n"
     ]
    }
   ],
   "source": [
    "HGd=HistGradientBoostingRegressor(learning_rate=0.1,loss='least_squares',max_iter=100,max_leaf_nodes=None)\n",
    "fun(HGd)\n",
    "cvs(HGd)"
   ]
  },
  {
   "cell_type": "code",
   "execution_count": 199,
   "metadata": {},
   "outputs": [],
   "source": [
    "model.append('Histogram Gradient Boosting')\n",
    "r2.append(-0.01)\n",
    "CVS.append(-0.5)"
   ]
  },
  {
   "cell_type": "code",
   "execution_count": 200,
   "metadata": {},
   "outputs": [
    {
     "data": {
      "text/html": [
       "<div>\n",
       "<style scoped>\n",
       "    .dataframe tbody tr th:only-of-type {\n",
       "        vertical-align: middle;\n",
       "    }\n",
       "\n",
       "    .dataframe tbody tr th {\n",
       "        vertical-align: top;\n",
       "    }\n",
       "\n",
       "    .dataframe thead th {\n",
       "        text-align: right;\n",
       "    }\n",
       "</style>\n",
       "<table border=\"1\" class=\"dataframe\">\n",
       "  <thead>\n",
       "    <tr style=\"text-align: right;\">\n",
       "      <th></th>\n",
       "      <th>Models</th>\n",
       "      <th>CVS</th>\n",
       "      <th>r2</th>\n",
       "      <th>diff</th>\n",
       "    </tr>\n",
       "  </thead>\n",
       "  <tbody>\n",
       "    <tr>\n",
       "      <th>0</th>\n",
       "      <td>Linear Regression</td>\n",
       "      <td>0.80</td>\n",
       "      <td>0.98</td>\n",
       "      <td>0.18</td>\n",
       "    </tr>\n",
       "    <tr>\n",
       "      <th>1</th>\n",
       "      <td>Lasso</td>\n",
       "      <td>0.81</td>\n",
       "      <td>0.94</td>\n",
       "      <td>0.13</td>\n",
       "    </tr>\n",
       "    <tr>\n",
       "      <th>2</th>\n",
       "      <td>Ridge</td>\n",
       "      <td>0.72</td>\n",
       "      <td>0.93</td>\n",
       "      <td>0.21</td>\n",
       "    </tr>\n",
       "    <tr>\n",
       "      <th>3</th>\n",
       "      <td>SVR</td>\n",
       "      <td>0.65</td>\n",
       "      <td>0.81</td>\n",
       "      <td>0.16</td>\n",
       "    </tr>\n",
       "    <tr>\n",
       "      <th>4</th>\n",
       "      <td>Decision Tree regressor</td>\n",
       "      <td>0.30</td>\n",
       "      <td>0.64</td>\n",
       "      <td>0.34</td>\n",
       "    </tr>\n",
       "    <tr>\n",
       "      <th>5</th>\n",
       "      <td>Random Forest</td>\n",
       "      <td>0.39</td>\n",
       "      <td>0.71</td>\n",
       "      <td>0.32</td>\n",
       "    </tr>\n",
       "    <tr>\n",
       "      <th>6</th>\n",
       "      <td>Extra Tree</td>\n",
       "      <td>0.14</td>\n",
       "      <td>0.29</td>\n",
       "      <td>0.15</td>\n",
       "    </tr>\n",
       "    <tr>\n",
       "      <th>7</th>\n",
       "      <td>Ada Boost</td>\n",
       "      <td>0.51</td>\n",
       "      <td>0.64</td>\n",
       "      <td>0.13</td>\n",
       "    </tr>\n",
       "    <tr>\n",
       "      <th>8</th>\n",
       "      <td>Gradient Boosting</td>\n",
       "      <td>-0.21</td>\n",
       "      <td>-0.37</td>\n",
       "      <td>-0.16</td>\n",
       "    </tr>\n",
       "    <tr>\n",
       "      <th>9</th>\n",
       "      <td>Histogram Gradient Boosting</td>\n",
       "      <td>-0.50</td>\n",
       "      <td>-0.01</td>\n",
       "      <td>0.49</td>\n",
       "    </tr>\n",
       "  </tbody>\n",
       "</table>\n",
       "</div>"
      ],
      "text/plain": [
       "                        Models   CVS    r2  diff\n",
       "0            Linear Regression  0.80  0.98  0.18\n",
       "1                        Lasso  0.81  0.94  0.13\n",
       "2                        Ridge  0.72  0.93  0.21\n",
       "3                          SVR  0.65  0.81  0.16\n",
       "4      Decision Tree regressor  0.30  0.64  0.34\n",
       "5                Random Forest  0.39  0.71  0.32\n",
       "6                   Extra Tree  0.14  0.29  0.15\n",
       "7                    Ada Boost  0.51  0.64  0.13\n",
       "8            Gradient Boosting -0.21 -0.37 -0.16\n",
       "9  Histogram Gradient Boosting -0.50 -0.01  0.49"
      ]
     },
     "execution_count": 200,
     "metadata": {},
     "output_type": "execute_result"
    }
   ],
   "source": [
    "res=pd.DataFrame()\n",
    "res['Models']=model\n",
    "res['CVS']=CVS\n",
    "res['r2']=r2\n",
    "diff=[]\n",
    "for i in range(0,len(r2)):\n",
    "    diff.append(r2[i]-CVS[i])\n",
    "res['diff']=diff\n",
    "res"
   ]
  },
  {
   "cell_type": "code",
   "execution_count": 201,
   "metadata": {},
   "outputs": [],
   "source": [
    "##Since difference between r2 score and cvs is least in Lasso hence saving the model"
   ]
  },
  {
   "cell_type": "code",
   "execution_count": 202,
   "metadata": {},
   "outputs": [],
   "source": [
    "import pickle\n",
    "filename='baseball_win_prediction.pkl'\n",
    "pickle.dump(l,open(filename,'wb'))"
   ]
  },
  {
   "cell_type": "code",
   "execution_count": 203,
   "metadata": {},
   "outputs": [],
   "source": [
    "predict=l.predict(x_test)"
   ]
  },
  {
   "cell_type": "code",
   "execution_count": 204,
   "metadata": {},
   "outputs": [
    {
     "data": {
      "text/html": [
       "<div>\n",
       "<style scoped>\n",
       "    .dataframe tbody tr th:only-of-type {\n",
       "        vertical-align: middle;\n",
       "    }\n",
       "\n",
       "    .dataframe tbody tr th {\n",
       "        vertical-align: top;\n",
       "    }\n",
       "\n",
       "    .dataframe thead th {\n",
       "        text-align: right;\n",
       "    }\n",
       "</style>\n",
       "<table border=\"1\" class=\"dataframe\">\n",
       "  <thead>\n",
       "    <tr style=\"text-align: right;\">\n",
       "      <th></th>\n",
       "      <th>Actual</th>\n",
       "      <th>Predicted</th>\n",
       "    </tr>\n",
       "  </thead>\n",
       "  <tbody>\n",
       "    <tr>\n",
       "      <th>15</th>\n",
       "      <td>100</td>\n",
       "      <td>97.433719</td>\n",
       "    </tr>\n",
       "    <tr>\n",
       "      <th>3</th>\n",
       "      <td>76</td>\n",
       "      <td>73.510874</td>\n",
       "    </tr>\n",
       "    <tr>\n",
       "      <th>28</th>\n",
       "      <td>74</td>\n",
       "      <td>74.582043</td>\n",
       "    </tr>\n",
       "    <tr>\n",
       "      <th>11</th>\n",
       "      <td>86</td>\n",
       "      <td>87.540818</td>\n",
       "    </tr>\n",
       "    <tr>\n",
       "      <th>13</th>\n",
       "      <td>76</td>\n",
       "      <td>78.352472</td>\n",
       "    </tr>\n",
       "    <tr>\n",
       "      <th>19</th>\n",
       "      <td>64</td>\n",
       "      <td>68.557960</td>\n",
       "    </tr>\n",
       "  </tbody>\n",
       "</table>\n",
       "</div>"
      ],
      "text/plain": [
       "    Actual  Predicted\n",
       "15     100  97.433719\n",
       "3       76  73.510874\n",
       "28      74  74.582043\n",
       "11      86  87.540818\n",
       "13      76  78.352472\n",
       "19      64  68.557960"
      ]
     },
     "execution_count": 204,
     "metadata": {},
     "output_type": "execute_result"
    }
   ],
   "source": [
    "output=pd.DataFrame()\n",
    "output['Actual']=y_test\n",
    "output['Predicted']=predict\n",
    "output"
   ]
  },
  {
   "cell_type": "code",
   "execution_count": null,
   "metadata": {},
   "outputs": [],
   "source": []
  },
  {
   "cell_type": "code",
   "execution_count": null,
   "metadata": {},
   "outputs": [],
   "source": []
  },
  {
   "cell_type": "code",
   "execution_count": null,
   "metadata": {},
   "outputs": [],
   "source": []
  },
  {
   "cell_type": "code",
   "execution_count": null,
   "metadata": {},
   "outputs": [],
   "source": []
  },
  {
   "cell_type": "code",
   "execution_count": null,
   "metadata": {},
   "outputs": [],
   "source": []
  },
  {
   "cell_type": "code",
   "execution_count": null,
   "metadata": {},
   "outputs": [],
   "source": []
  },
  {
   "cell_type": "code",
   "execution_count": null,
   "metadata": {},
   "outputs": [],
   "source": []
  },
  {
   "cell_type": "code",
   "execution_count": null,
   "metadata": {},
   "outputs": [],
   "source": []
  },
  {
   "cell_type": "code",
   "execution_count": null,
   "metadata": {},
   "outputs": [],
   "source": []
  },
  {
   "cell_type": "code",
   "execution_count": null,
   "metadata": {},
   "outputs": [],
   "source": []
  },
  {
   "cell_type": "code",
   "execution_count": null,
   "metadata": {},
   "outputs": [],
   "source": []
  },
  {
   "cell_type": "code",
   "execution_count": null,
   "metadata": {},
   "outputs": [],
   "source": []
  },
  {
   "cell_type": "code",
   "execution_count": null,
   "metadata": {},
   "outputs": [],
   "source": []
  },
  {
   "cell_type": "code",
   "execution_count": null,
   "metadata": {},
   "outputs": [],
   "source": []
  },
  {
   "cell_type": "code",
   "execution_count": null,
   "metadata": {},
   "outputs": [],
   "source": []
  },
  {
   "cell_type": "code",
   "execution_count": null,
   "metadata": {},
   "outputs": [],
   "source": []
  },
  {
   "cell_type": "code",
   "execution_count": null,
   "metadata": {},
   "outputs": [],
   "source": []
  }
 ],
 "metadata": {
  "kernelspec": {
   "display_name": "Python 3",
   "language": "python",
   "name": "python3"
  },
  "language_info": {
   "codemirror_mode": {
    "name": "ipython",
    "version": 3
   },
   "file_extension": ".py",
   "mimetype": "text/x-python",
   "name": "python",
   "nbconvert_exporter": "python",
   "pygments_lexer": "ipython3",
   "version": "3.8.5"
  }
 },
 "nbformat": 4,
 "nbformat_minor": 5
}
