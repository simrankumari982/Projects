{
 "cells": [
  {
   "cell_type": "code",
   "execution_count": 2,
   "metadata": {},
   "outputs": [],
   "source": [
    "import numpy as np\n",
    "import pandas as pd\n",
    "import matplotlib.pyplot as plt\n",
    "import seaborn as sns\n",
    "import warnings\n",
    "warnings.filterwarnings(\"ignore\")"
   ]
  },
  {
   "cell_type": "code",
   "execution_count": 4,
   "metadata": {},
   "outputs": [
    {
     "data": {
      "text/html": [
       "<div>\n",
       "<style scoped>\n",
       "    .dataframe tbody tr th:only-of-type {\n",
       "        vertical-align: middle;\n",
       "    }\n",
       "\n",
       "    .dataframe tbody tr th {\n",
       "        vertical-align: top;\n",
       "    }\n",
       "\n",
       "    .dataframe thead th {\n",
       "        text-align: right;\n",
       "    }\n",
       "</style>\n",
       "<table border=\"1\" class=\"dataframe\">\n",
       "  <thead>\n",
       "    <tr style=\"text-align: right;\">\n",
       "      <th></th>\n",
       "      <th>Unnamed: 0</th>\n",
       "      <th>Date</th>\n",
       "      <th>AveragePrice</th>\n",
       "      <th>Total Volume</th>\n",
       "      <th>4046</th>\n",
       "      <th>4225</th>\n",
       "      <th>4770</th>\n",
       "      <th>Total Bags</th>\n",
       "      <th>Small Bags</th>\n",
       "      <th>Large Bags</th>\n",
       "      <th>XLarge Bags</th>\n",
       "      <th>type</th>\n",
       "      <th>year</th>\n",
       "      <th>region</th>\n",
       "    </tr>\n",
       "  </thead>\n",
       "  <tbody>\n",
       "    <tr>\n",
       "      <th>0</th>\n",
       "      <td>0</td>\n",
       "      <td>2015-12-27</td>\n",
       "      <td>1.33</td>\n",
       "      <td>64236.62</td>\n",
       "      <td>1036.74</td>\n",
       "      <td>54454.85</td>\n",
       "      <td>48.16</td>\n",
       "      <td>8696.87</td>\n",
       "      <td>8603.62</td>\n",
       "      <td>93.25</td>\n",
       "      <td>0.0</td>\n",
       "      <td>conventional</td>\n",
       "      <td>2015</td>\n",
       "      <td>Albany</td>\n",
       "    </tr>\n",
       "    <tr>\n",
       "      <th>1</th>\n",
       "      <td>1</td>\n",
       "      <td>2015-12-20</td>\n",
       "      <td>1.35</td>\n",
       "      <td>54876.98</td>\n",
       "      <td>674.28</td>\n",
       "      <td>44638.81</td>\n",
       "      <td>58.33</td>\n",
       "      <td>9505.56</td>\n",
       "      <td>9408.07</td>\n",
       "      <td>97.49</td>\n",
       "      <td>0.0</td>\n",
       "      <td>conventional</td>\n",
       "      <td>2015</td>\n",
       "      <td>Albany</td>\n",
       "    </tr>\n",
       "    <tr>\n",
       "      <th>2</th>\n",
       "      <td>2</td>\n",
       "      <td>2015-12-13</td>\n",
       "      <td>0.93</td>\n",
       "      <td>118220.22</td>\n",
       "      <td>794.70</td>\n",
       "      <td>109149.67</td>\n",
       "      <td>130.50</td>\n",
       "      <td>8145.35</td>\n",
       "      <td>8042.21</td>\n",
       "      <td>103.14</td>\n",
       "      <td>0.0</td>\n",
       "      <td>conventional</td>\n",
       "      <td>2015</td>\n",
       "      <td>Albany</td>\n",
       "    </tr>\n",
       "    <tr>\n",
       "      <th>3</th>\n",
       "      <td>3</td>\n",
       "      <td>2015-12-06</td>\n",
       "      <td>1.08</td>\n",
       "      <td>78992.15</td>\n",
       "      <td>1132.00</td>\n",
       "      <td>71976.41</td>\n",
       "      <td>72.58</td>\n",
       "      <td>5811.16</td>\n",
       "      <td>5677.40</td>\n",
       "      <td>133.76</td>\n",
       "      <td>0.0</td>\n",
       "      <td>conventional</td>\n",
       "      <td>2015</td>\n",
       "      <td>Albany</td>\n",
       "    </tr>\n",
       "    <tr>\n",
       "      <th>4</th>\n",
       "      <td>4</td>\n",
       "      <td>2015-11-29</td>\n",
       "      <td>1.28</td>\n",
       "      <td>51039.60</td>\n",
       "      <td>941.48</td>\n",
       "      <td>43838.39</td>\n",
       "      <td>75.78</td>\n",
       "      <td>6183.95</td>\n",
       "      <td>5986.26</td>\n",
       "      <td>197.69</td>\n",
       "      <td>0.0</td>\n",
       "      <td>conventional</td>\n",
       "      <td>2015</td>\n",
       "      <td>Albany</td>\n",
       "    </tr>\n",
       "    <tr>\n",
       "      <th>...</th>\n",
       "      <td>...</td>\n",
       "      <td>...</td>\n",
       "      <td>...</td>\n",
       "      <td>...</td>\n",
       "      <td>...</td>\n",
       "      <td>...</td>\n",
       "      <td>...</td>\n",
       "      <td>...</td>\n",
       "      <td>...</td>\n",
       "      <td>...</td>\n",
       "      <td>...</td>\n",
       "      <td>...</td>\n",
       "      <td>...</td>\n",
       "      <td>...</td>\n",
       "    </tr>\n",
       "    <tr>\n",
       "      <th>18244</th>\n",
       "      <td>7</td>\n",
       "      <td>2018-02-04</td>\n",
       "      <td>1.63</td>\n",
       "      <td>17074.83</td>\n",
       "      <td>2046.96</td>\n",
       "      <td>1529.20</td>\n",
       "      <td>0.00</td>\n",
       "      <td>13498.67</td>\n",
       "      <td>13066.82</td>\n",
       "      <td>431.85</td>\n",
       "      <td>0.0</td>\n",
       "      <td>organic</td>\n",
       "      <td>2018</td>\n",
       "      <td>WestTexNewMexico</td>\n",
       "    </tr>\n",
       "    <tr>\n",
       "      <th>18245</th>\n",
       "      <td>8</td>\n",
       "      <td>2018-01-28</td>\n",
       "      <td>1.71</td>\n",
       "      <td>13888.04</td>\n",
       "      <td>1191.70</td>\n",
       "      <td>3431.50</td>\n",
       "      <td>0.00</td>\n",
       "      <td>9264.84</td>\n",
       "      <td>8940.04</td>\n",
       "      <td>324.80</td>\n",
       "      <td>0.0</td>\n",
       "      <td>organic</td>\n",
       "      <td>2018</td>\n",
       "      <td>WestTexNewMexico</td>\n",
       "    </tr>\n",
       "    <tr>\n",
       "      <th>18246</th>\n",
       "      <td>9</td>\n",
       "      <td>2018-01-21</td>\n",
       "      <td>1.87</td>\n",
       "      <td>13766.76</td>\n",
       "      <td>1191.92</td>\n",
       "      <td>2452.79</td>\n",
       "      <td>727.94</td>\n",
       "      <td>9394.11</td>\n",
       "      <td>9351.80</td>\n",
       "      <td>42.31</td>\n",
       "      <td>0.0</td>\n",
       "      <td>organic</td>\n",
       "      <td>2018</td>\n",
       "      <td>WestTexNewMexico</td>\n",
       "    </tr>\n",
       "    <tr>\n",
       "      <th>18247</th>\n",
       "      <td>10</td>\n",
       "      <td>2018-01-14</td>\n",
       "      <td>1.93</td>\n",
       "      <td>16205.22</td>\n",
       "      <td>1527.63</td>\n",
       "      <td>2981.04</td>\n",
       "      <td>727.01</td>\n",
       "      <td>10969.54</td>\n",
       "      <td>10919.54</td>\n",
       "      <td>50.00</td>\n",
       "      <td>0.0</td>\n",
       "      <td>organic</td>\n",
       "      <td>2018</td>\n",
       "      <td>WestTexNewMexico</td>\n",
       "    </tr>\n",
       "    <tr>\n",
       "      <th>18248</th>\n",
       "      <td>11</td>\n",
       "      <td>2018-01-07</td>\n",
       "      <td>1.62</td>\n",
       "      <td>17489.58</td>\n",
       "      <td>2894.77</td>\n",
       "      <td>2356.13</td>\n",
       "      <td>224.53</td>\n",
       "      <td>12014.15</td>\n",
       "      <td>11988.14</td>\n",
       "      <td>26.01</td>\n",
       "      <td>0.0</td>\n",
       "      <td>organic</td>\n",
       "      <td>2018</td>\n",
       "      <td>WestTexNewMexico</td>\n",
       "    </tr>\n",
       "  </tbody>\n",
       "</table>\n",
       "<p>18249 rows × 14 columns</p>\n",
       "</div>"
      ],
      "text/plain": [
       "       Unnamed: 0        Date  AveragePrice  Total Volume     4046       4225  \\\n",
       "0               0  2015-12-27          1.33      64236.62  1036.74   54454.85   \n",
       "1               1  2015-12-20          1.35      54876.98   674.28   44638.81   \n",
       "2               2  2015-12-13          0.93     118220.22   794.70  109149.67   \n",
       "3               3  2015-12-06          1.08      78992.15  1132.00   71976.41   \n",
       "4               4  2015-11-29          1.28      51039.60   941.48   43838.39   \n",
       "...           ...         ...           ...           ...      ...        ...   \n",
       "18244           7  2018-02-04          1.63      17074.83  2046.96    1529.20   \n",
       "18245           8  2018-01-28          1.71      13888.04  1191.70    3431.50   \n",
       "18246           9  2018-01-21          1.87      13766.76  1191.92    2452.79   \n",
       "18247          10  2018-01-14          1.93      16205.22  1527.63    2981.04   \n",
       "18248          11  2018-01-07          1.62      17489.58  2894.77    2356.13   \n",
       "\n",
       "         4770  Total Bags  Small Bags  Large Bags  XLarge Bags          type  \\\n",
       "0       48.16     8696.87     8603.62       93.25          0.0  conventional   \n",
       "1       58.33     9505.56     9408.07       97.49          0.0  conventional   \n",
       "2      130.50     8145.35     8042.21      103.14          0.0  conventional   \n",
       "3       72.58     5811.16     5677.40      133.76          0.0  conventional   \n",
       "4       75.78     6183.95     5986.26      197.69          0.0  conventional   \n",
       "...       ...         ...         ...         ...          ...           ...   \n",
       "18244    0.00    13498.67    13066.82      431.85          0.0       organic   \n",
       "18245    0.00     9264.84     8940.04      324.80          0.0       organic   \n",
       "18246  727.94     9394.11     9351.80       42.31          0.0       organic   \n",
       "18247  727.01    10969.54    10919.54       50.00          0.0       organic   \n",
       "18248  224.53    12014.15    11988.14       26.01          0.0       organic   \n",
       "\n",
       "       year            region  \n",
       "0      2015            Albany  \n",
       "1      2015            Albany  \n",
       "2      2015            Albany  \n",
       "3      2015            Albany  \n",
       "4      2015            Albany  \n",
       "...     ...               ...  \n",
       "18244  2018  WestTexNewMexico  \n",
       "18245  2018  WestTexNewMexico  \n",
       "18246  2018  WestTexNewMexico  \n",
       "18247  2018  WestTexNewMexico  \n",
       "18248  2018  WestTexNewMexico  \n",
       "\n",
       "[18249 rows x 14 columns]"
      ]
     },
     "execution_count": 4,
     "metadata": {},
     "output_type": "execute_result"
    }
   ],
   "source": [
    "df=pd.read_csv(\"avocado.csv\")\n",
    "df"
   ]
  },
  {
   "cell_type": "code",
   "execution_count": 5,
   "metadata": {},
   "outputs": [
    {
     "data": {
      "text/html": [
       "<div>\n",
       "<style scoped>\n",
       "    .dataframe tbody tr th:only-of-type {\n",
       "        vertical-align: middle;\n",
       "    }\n",
       "\n",
       "    .dataframe tbody tr th {\n",
       "        vertical-align: top;\n",
       "    }\n",
       "\n",
       "    .dataframe thead th {\n",
       "        text-align: right;\n",
       "    }\n",
       "</style>\n",
       "<table border=\"1\" class=\"dataframe\">\n",
       "  <thead>\n",
       "    <tr style=\"text-align: right;\">\n",
       "      <th></th>\n",
       "      <th>Date</th>\n",
       "      <th>AveragePrice</th>\n",
       "      <th>Total Volume</th>\n",
       "      <th>4046</th>\n",
       "      <th>4225</th>\n",
       "      <th>4770</th>\n",
       "      <th>Total Bags</th>\n",
       "      <th>Small Bags</th>\n",
       "      <th>Large Bags</th>\n",
       "      <th>XLarge Bags</th>\n",
       "      <th>type</th>\n",
       "      <th>year</th>\n",
       "      <th>region</th>\n",
       "    </tr>\n",
       "  </thead>\n",
       "  <tbody>\n",
       "    <tr>\n",
       "      <th>0</th>\n",
       "      <td>2015-12-27</td>\n",
       "      <td>1.33</td>\n",
       "      <td>64236.62</td>\n",
       "      <td>1036.74</td>\n",
       "      <td>54454.85</td>\n",
       "      <td>48.16</td>\n",
       "      <td>8696.87</td>\n",
       "      <td>8603.62</td>\n",
       "      <td>93.25</td>\n",
       "      <td>0.0</td>\n",
       "      <td>conventional</td>\n",
       "      <td>2015</td>\n",
       "      <td>Albany</td>\n",
       "    </tr>\n",
       "    <tr>\n",
       "      <th>1</th>\n",
       "      <td>2015-12-20</td>\n",
       "      <td>1.35</td>\n",
       "      <td>54876.98</td>\n",
       "      <td>674.28</td>\n",
       "      <td>44638.81</td>\n",
       "      <td>58.33</td>\n",
       "      <td>9505.56</td>\n",
       "      <td>9408.07</td>\n",
       "      <td>97.49</td>\n",
       "      <td>0.0</td>\n",
       "      <td>conventional</td>\n",
       "      <td>2015</td>\n",
       "      <td>Albany</td>\n",
       "    </tr>\n",
       "    <tr>\n",
       "      <th>2</th>\n",
       "      <td>2015-12-13</td>\n",
       "      <td>0.93</td>\n",
       "      <td>118220.22</td>\n",
       "      <td>794.70</td>\n",
       "      <td>109149.67</td>\n",
       "      <td>130.50</td>\n",
       "      <td>8145.35</td>\n",
       "      <td>8042.21</td>\n",
       "      <td>103.14</td>\n",
       "      <td>0.0</td>\n",
       "      <td>conventional</td>\n",
       "      <td>2015</td>\n",
       "      <td>Albany</td>\n",
       "    </tr>\n",
       "    <tr>\n",
       "      <th>3</th>\n",
       "      <td>2015-12-06</td>\n",
       "      <td>1.08</td>\n",
       "      <td>78992.15</td>\n",
       "      <td>1132.00</td>\n",
       "      <td>71976.41</td>\n",
       "      <td>72.58</td>\n",
       "      <td>5811.16</td>\n",
       "      <td>5677.40</td>\n",
       "      <td>133.76</td>\n",
       "      <td>0.0</td>\n",
       "      <td>conventional</td>\n",
       "      <td>2015</td>\n",
       "      <td>Albany</td>\n",
       "    </tr>\n",
       "    <tr>\n",
       "      <th>4</th>\n",
       "      <td>2015-11-29</td>\n",
       "      <td>1.28</td>\n",
       "      <td>51039.60</td>\n",
       "      <td>941.48</td>\n",
       "      <td>43838.39</td>\n",
       "      <td>75.78</td>\n",
       "      <td>6183.95</td>\n",
       "      <td>5986.26</td>\n",
       "      <td>197.69</td>\n",
       "      <td>0.0</td>\n",
       "      <td>conventional</td>\n",
       "      <td>2015</td>\n",
       "      <td>Albany</td>\n",
       "    </tr>\n",
       "    <tr>\n",
       "      <th>...</th>\n",
       "      <td>...</td>\n",
       "      <td>...</td>\n",
       "      <td>...</td>\n",
       "      <td>...</td>\n",
       "      <td>...</td>\n",
       "      <td>...</td>\n",
       "      <td>...</td>\n",
       "      <td>...</td>\n",
       "      <td>...</td>\n",
       "      <td>...</td>\n",
       "      <td>...</td>\n",
       "      <td>...</td>\n",
       "      <td>...</td>\n",
       "    </tr>\n",
       "    <tr>\n",
       "      <th>18244</th>\n",
       "      <td>2018-02-04</td>\n",
       "      <td>1.63</td>\n",
       "      <td>17074.83</td>\n",
       "      <td>2046.96</td>\n",
       "      <td>1529.20</td>\n",
       "      <td>0.00</td>\n",
       "      <td>13498.67</td>\n",
       "      <td>13066.82</td>\n",
       "      <td>431.85</td>\n",
       "      <td>0.0</td>\n",
       "      <td>organic</td>\n",
       "      <td>2018</td>\n",
       "      <td>WestTexNewMexico</td>\n",
       "    </tr>\n",
       "    <tr>\n",
       "      <th>18245</th>\n",
       "      <td>2018-01-28</td>\n",
       "      <td>1.71</td>\n",
       "      <td>13888.04</td>\n",
       "      <td>1191.70</td>\n",
       "      <td>3431.50</td>\n",
       "      <td>0.00</td>\n",
       "      <td>9264.84</td>\n",
       "      <td>8940.04</td>\n",
       "      <td>324.80</td>\n",
       "      <td>0.0</td>\n",
       "      <td>organic</td>\n",
       "      <td>2018</td>\n",
       "      <td>WestTexNewMexico</td>\n",
       "    </tr>\n",
       "    <tr>\n",
       "      <th>18246</th>\n",
       "      <td>2018-01-21</td>\n",
       "      <td>1.87</td>\n",
       "      <td>13766.76</td>\n",
       "      <td>1191.92</td>\n",
       "      <td>2452.79</td>\n",
       "      <td>727.94</td>\n",
       "      <td>9394.11</td>\n",
       "      <td>9351.80</td>\n",
       "      <td>42.31</td>\n",
       "      <td>0.0</td>\n",
       "      <td>organic</td>\n",
       "      <td>2018</td>\n",
       "      <td>WestTexNewMexico</td>\n",
       "    </tr>\n",
       "    <tr>\n",
       "      <th>18247</th>\n",
       "      <td>2018-01-14</td>\n",
       "      <td>1.93</td>\n",
       "      <td>16205.22</td>\n",
       "      <td>1527.63</td>\n",
       "      <td>2981.04</td>\n",
       "      <td>727.01</td>\n",
       "      <td>10969.54</td>\n",
       "      <td>10919.54</td>\n",
       "      <td>50.00</td>\n",
       "      <td>0.0</td>\n",
       "      <td>organic</td>\n",
       "      <td>2018</td>\n",
       "      <td>WestTexNewMexico</td>\n",
       "    </tr>\n",
       "    <tr>\n",
       "      <th>18248</th>\n",
       "      <td>2018-01-07</td>\n",
       "      <td>1.62</td>\n",
       "      <td>17489.58</td>\n",
       "      <td>2894.77</td>\n",
       "      <td>2356.13</td>\n",
       "      <td>224.53</td>\n",
       "      <td>12014.15</td>\n",
       "      <td>11988.14</td>\n",
       "      <td>26.01</td>\n",
       "      <td>0.0</td>\n",
       "      <td>organic</td>\n",
       "      <td>2018</td>\n",
       "      <td>WestTexNewMexico</td>\n",
       "    </tr>\n",
       "  </tbody>\n",
       "</table>\n",
       "<p>18249 rows × 13 columns</p>\n",
       "</div>"
      ],
      "text/plain": [
       "             Date  AveragePrice  Total Volume     4046       4225    4770  \\\n",
       "0      2015-12-27          1.33      64236.62  1036.74   54454.85   48.16   \n",
       "1      2015-12-20          1.35      54876.98   674.28   44638.81   58.33   \n",
       "2      2015-12-13          0.93     118220.22   794.70  109149.67  130.50   \n",
       "3      2015-12-06          1.08      78992.15  1132.00   71976.41   72.58   \n",
       "4      2015-11-29          1.28      51039.60   941.48   43838.39   75.78   \n",
       "...           ...           ...           ...      ...        ...     ...   \n",
       "18244  2018-02-04          1.63      17074.83  2046.96    1529.20    0.00   \n",
       "18245  2018-01-28          1.71      13888.04  1191.70    3431.50    0.00   \n",
       "18246  2018-01-21          1.87      13766.76  1191.92    2452.79  727.94   \n",
       "18247  2018-01-14          1.93      16205.22  1527.63    2981.04  727.01   \n",
       "18248  2018-01-07          1.62      17489.58  2894.77    2356.13  224.53   \n",
       "\n",
       "       Total Bags  Small Bags  Large Bags  XLarge Bags          type  year  \\\n",
       "0         8696.87     8603.62       93.25          0.0  conventional  2015   \n",
       "1         9505.56     9408.07       97.49          0.0  conventional  2015   \n",
       "2         8145.35     8042.21      103.14          0.0  conventional  2015   \n",
       "3         5811.16     5677.40      133.76          0.0  conventional  2015   \n",
       "4         6183.95     5986.26      197.69          0.0  conventional  2015   \n",
       "...           ...         ...         ...          ...           ...   ...   \n",
       "18244    13498.67    13066.82      431.85          0.0       organic  2018   \n",
       "18245     9264.84     8940.04      324.80          0.0       organic  2018   \n",
       "18246     9394.11     9351.80       42.31          0.0       organic  2018   \n",
       "18247    10969.54    10919.54       50.00          0.0       organic  2018   \n",
       "18248    12014.15    11988.14       26.01          0.0       organic  2018   \n",
       "\n",
       "                 region  \n",
       "0                Albany  \n",
       "1                Albany  \n",
       "2                Albany  \n",
       "3                Albany  \n",
       "4                Albany  \n",
       "...                 ...  \n",
       "18244  WestTexNewMexico  \n",
       "18245  WestTexNewMexico  \n",
       "18246  WestTexNewMexico  \n",
       "18247  WestTexNewMexico  \n",
       "18248  WestTexNewMexico  \n",
       "\n",
       "[18249 rows x 13 columns]"
      ]
     },
     "execution_count": 5,
     "metadata": {},
     "output_type": "execute_result"
    }
   ],
   "source": [
    "df.drop(df.columns[0],inplace=True,axis=1)\n",
    "df"
   ]
  },
  {
   "cell_type": "code",
   "execution_count": 6,
   "metadata": {},
   "outputs": [
    {
     "name": "stdout",
     "output_type": "stream",
     "text": [
      "<class 'pandas.core.frame.DataFrame'>\n",
      "RangeIndex: 18249 entries, 0 to 18248\n",
      "Data columns (total 13 columns):\n",
      " #   Column        Non-Null Count  Dtype  \n",
      "---  ------        --------------  -----  \n",
      " 0   Date          18249 non-null  object \n",
      " 1   AveragePrice  18249 non-null  float64\n",
      " 2   Total Volume  18249 non-null  float64\n",
      " 3   4046          18249 non-null  float64\n",
      " 4   4225          18249 non-null  float64\n",
      " 5   4770          18249 non-null  float64\n",
      " 6   Total Bags    18249 non-null  float64\n",
      " 7   Small Bags    18249 non-null  float64\n",
      " 8   Large Bags    18249 non-null  float64\n",
      " 9   XLarge Bags   18249 non-null  float64\n",
      " 10  type          18249 non-null  object \n",
      " 11  year          18249 non-null  int64  \n",
      " 12  region        18249 non-null  object \n",
      "dtypes: float64(9), int64(1), object(3)\n",
      "memory usage: 1.8+ MB\n"
     ]
    }
   ],
   "source": [
    "df.info()"
   ]
  },
  {
   "cell_type": "code",
   "execution_count": 7,
   "metadata": {},
   "outputs": [
    {
     "data": {
      "text/plain": [
       "Date            0\n",
       "AveragePrice    0\n",
       "Total Volume    0\n",
       "4046            0\n",
       "4225            0\n",
       "4770            0\n",
       "Total Bags      0\n",
       "Small Bags      0\n",
       "Large Bags      0\n",
       "XLarge Bags     0\n",
       "type            0\n",
       "year            0\n",
       "region          0\n",
       "dtype: int64"
      ]
     },
     "execution_count": 7,
     "metadata": {},
     "output_type": "execute_result"
    }
   ],
   "source": [
    "df.isnull().sum()"
   ]
  },
  {
   "cell_type": "code",
   "execution_count": 8,
   "metadata": {},
   "outputs": [],
   "source": [
    "#no null values"
   ]
  },
  {
   "cell_type": "code",
   "execution_count": 9,
   "metadata": {},
   "outputs": [
    {
     "data": {
      "text/plain": [
       "Date             object\n",
       "AveragePrice    float64\n",
       "Total Volume    float64\n",
       "4046            float64\n",
       "4225            float64\n",
       "4770            float64\n",
       "Total Bags      float64\n",
       "Small Bags      float64\n",
       "Large Bags      float64\n",
       "XLarge Bags     float64\n",
       "type             object\n",
       "year              int64\n",
       "region           object\n",
       "dtype: object"
      ]
     },
     "execution_count": 9,
     "metadata": {},
     "output_type": "execute_result"
    }
   ],
   "source": [
    "df.dtypes"
   ]
  },
  {
   "cell_type": "code",
   "execution_count": 10,
   "metadata": {},
   "outputs": [
    {
     "data": {
      "text/html": [
       "<div>\n",
       "<style scoped>\n",
       "    .dataframe tbody tr th:only-of-type {\n",
       "        vertical-align: middle;\n",
       "    }\n",
       "\n",
       "    .dataframe tbody tr th {\n",
       "        vertical-align: top;\n",
       "    }\n",
       "\n",
       "    .dataframe thead th {\n",
       "        text-align: right;\n",
       "    }\n",
       "</style>\n",
       "<table border=\"1\" class=\"dataframe\">\n",
       "  <thead>\n",
       "    <tr style=\"text-align: right;\">\n",
       "      <th></th>\n",
       "      <th>AveragePrice</th>\n",
       "      <th>Total Volume</th>\n",
       "      <th>4046</th>\n",
       "      <th>4225</th>\n",
       "      <th>4770</th>\n",
       "      <th>Total Bags</th>\n",
       "      <th>Small Bags</th>\n",
       "      <th>Large Bags</th>\n",
       "      <th>XLarge Bags</th>\n",
       "      <th>year</th>\n",
       "    </tr>\n",
       "  </thead>\n",
       "  <tbody>\n",
       "    <tr>\n",
       "      <th>count</th>\n",
       "      <td>18249.000000</td>\n",
       "      <td>1.824900e+04</td>\n",
       "      <td>1.824900e+04</td>\n",
       "      <td>1.824900e+04</td>\n",
       "      <td>1.824900e+04</td>\n",
       "      <td>1.824900e+04</td>\n",
       "      <td>1.824900e+04</td>\n",
       "      <td>1.824900e+04</td>\n",
       "      <td>18249.000000</td>\n",
       "      <td>18249.000000</td>\n",
       "    </tr>\n",
       "    <tr>\n",
       "      <th>mean</th>\n",
       "      <td>1.405978</td>\n",
       "      <td>8.506440e+05</td>\n",
       "      <td>2.930084e+05</td>\n",
       "      <td>2.951546e+05</td>\n",
       "      <td>2.283974e+04</td>\n",
       "      <td>2.396392e+05</td>\n",
       "      <td>1.821947e+05</td>\n",
       "      <td>5.433809e+04</td>\n",
       "      <td>3106.426507</td>\n",
       "      <td>2016.147899</td>\n",
       "    </tr>\n",
       "    <tr>\n",
       "      <th>std</th>\n",
       "      <td>0.402677</td>\n",
       "      <td>3.453545e+06</td>\n",
       "      <td>1.264989e+06</td>\n",
       "      <td>1.204120e+06</td>\n",
       "      <td>1.074641e+05</td>\n",
       "      <td>9.862424e+05</td>\n",
       "      <td>7.461785e+05</td>\n",
       "      <td>2.439660e+05</td>\n",
       "      <td>17692.894652</td>\n",
       "      <td>0.939938</td>\n",
       "    </tr>\n",
       "    <tr>\n",
       "      <th>min</th>\n",
       "      <td>0.440000</td>\n",
       "      <td>8.456000e+01</td>\n",
       "      <td>0.000000e+00</td>\n",
       "      <td>0.000000e+00</td>\n",
       "      <td>0.000000e+00</td>\n",
       "      <td>0.000000e+00</td>\n",
       "      <td>0.000000e+00</td>\n",
       "      <td>0.000000e+00</td>\n",
       "      <td>0.000000</td>\n",
       "      <td>2015.000000</td>\n",
       "    </tr>\n",
       "    <tr>\n",
       "      <th>25%</th>\n",
       "      <td>1.100000</td>\n",
       "      <td>1.083858e+04</td>\n",
       "      <td>8.540700e+02</td>\n",
       "      <td>3.008780e+03</td>\n",
       "      <td>0.000000e+00</td>\n",
       "      <td>5.088640e+03</td>\n",
       "      <td>2.849420e+03</td>\n",
       "      <td>1.274700e+02</td>\n",
       "      <td>0.000000</td>\n",
       "      <td>2015.000000</td>\n",
       "    </tr>\n",
       "    <tr>\n",
       "      <th>50%</th>\n",
       "      <td>1.370000</td>\n",
       "      <td>1.073768e+05</td>\n",
       "      <td>8.645300e+03</td>\n",
       "      <td>2.906102e+04</td>\n",
       "      <td>1.849900e+02</td>\n",
       "      <td>3.974383e+04</td>\n",
       "      <td>2.636282e+04</td>\n",
       "      <td>2.647710e+03</td>\n",
       "      <td>0.000000</td>\n",
       "      <td>2016.000000</td>\n",
       "    </tr>\n",
       "    <tr>\n",
       "      <th>75%</th>\n",
       "      <td>1.660000</td>\n",
       "      <td>4.329623e+05</td>\n",
       "      <td>1.110202e+05</td>\n",
       "      <td>1.502069e+05</td>\n",
       "      <td>6.243420e+03</td>\n",
       "      <td>1.107834e+05</td>\n",
       "      <td>8.333767e+04</td>\n",
       "      <td>2.202925e+04</td>\n",
       "      <td>132.500000</td>\n",
       "      <td>2017.000000</td>\n",
       "    </tr>\n",
       "    <tr>\n",
       "      <th>max</th>\n",
       "      <td>3.250000</td>\n",
       "      <td>6.250565e+07</td>\n",
       "      <td>2.274362e+07</td>\n",
       "      <td>2.047057e+07</td>\n",
       "      <td>2.546439e+06</td>\n",
       "      <td>1.937313e+07</td>\n",
       "      <td>1.338459e+07</td>\n",
       "      <td>5.719097e+06</td>\n",
       "      <td>551693.650000</td>\n",
       "      <td>2018.000000</td>\n",
       "    </tr>\n",
       "  </tbody>\n",
       "</table>\n",
       "</div>"
      ],
      "text/plain": [
       "       AveragePrice  Total Volume          4046          4225          4770  \\\n",
       "count  18249.000000  1.824900e+04  1.824900e+04  1.824900e+04  1.824900e+04   \n",
       "mean       1.405978  8.506440e+05  2.930084e+05  2.951546e+05  2.283974e+04   \n",
       "std        0.402677  3.453545e+06  1.264989e+06  1.204120e+06  1.074641e+05   \n",
       "min        0.440000  8.456000e+01  0.000000e+00  0.000000e+00  0.000000e+00   \n",
       "25%        1.100000  1.083858e+04  8.540700e+02  3.008780e+03  0.000000e+00   \n",
       "50%        1.370000  1.073768e+05  8.645300e+03  2.906102e+04  1.849900e+02   \n",
       "75%        1.660000  4.329623e+05  1.110202e+05  1.502069e+05  6.243420e+03   \n",
       "max        3.250000  6.250565e+07  2.274362e+07  2.047057e+07  2.546439e+06   \n",
       "\n",
       "         Total Bags    Small Bags    Large Bags    XLarge Bags          year  \n",
       "count  1.824900e+04  1.824900e+04  1.824900e+04   18249.000000  18249.000000  \n",
       "mean   2.396392e+05  1.821947e+05  5.433809e+04    3106.426507   2016.147899  \n",
       "std    9.862424e+05  7.461785e+05  2.439660e+05   17692.894652      0.939938  \n",
       "min    0.000000e+00  0.000000e+00  0.000000e+00       0.000000   2015.000000  \n",
       "25%    5.088640e+03  2.849420e+03  1.274700e+02       0.000000   2015.000000  \n",
       "50%    3.974383e+04  2.636282e+04  2.647710e+03       0.000000   2016.000000  \n",
       "75%    1.107834e+05  8.333767e+04  2.202925e+04     132.500000   2017.000000  \n",
       "max    1.937313e+07  1.338459e+07  5.719097e+06  551693.650000   2018.000000  "
      ]
     },
     "execution_count": 10,
     "metadata": {},
     "output_type": "execute_result"
    }
   ],
   "source": [
    "df.describe()"
   ]
  },
  {
   "cell_type": "markdown",
   "metadata": {},
   "source": [
    "# Virtualization"
   ]
  },
  {
   "cell_type": "code",
   "execution_count": 11,
   "metadata": {},
   "outputs": [
    {
     "data": {
      "image/png": "[encoded data removed]",
      "text/plain": [
       "<Figure size 1440x720 with 10 Axes>"
      ]
     },
     "metadata": {
      "needs_background": "light"
     },
     "output_type": "display_data"
    }
   ],
   "source": [
    "plt.figure(figsize=(20,10))\n",
    "for i in range(len(df.columns)):\n",
    "    if df.dtypes[i]!='object':\n",
    "        plt.subplot(3,5,i+1)\n",
    "        plt.boxplot(df[df.columns[i]],vert=False)\n",
    "plt.show()"
   ]
  },
  {
   "cell_type": "code",
   "execution_count": 12,
   "metadata": {},
   "outputs": [],
   "source": [
    "##data is having a lot of outliers"
   ]
  },
  {
   "cell_type": "code",
   "execution_count": 13,
   "metadata": {},
   "outputs": [
    {
     "data": {
      "text/plain": [
       "<AxesSubplot:xlabel='year', ylabel='count'>"
      ]
     },
     "execution_count": 13,
     "metadata": {},
     "output_type": "execute_result"
    },
    {
     "data": {
      "image/png": "[encoded data removed]",
      "text/plain": [
       "<Figure size 432x288 with 1 Axes>"
      ]
     },
     "metadata": {
      "needs_background": "light"
     },
     "output_type": "display_data"
    }
   ],
   "source": [
    "sns.countplot(df['year'])"
   ]
  },
  {
   "cell_type": "code",
   "execution_count": 14,
   "metadata": {},
   "outputs": [
    {
     "data": {
      "text/plain": [
       "<AxesSubplot:xlabel='type', ylabel='count'>"
      ]
     },
     "execution_count": 14,
     "metadata": {},
     "output_type": "execute_result"
    },
    {
     "data": {
      "image/png": "[encoded data removed]",
      "text/plain": [
       "<Figure size 432x288 with 1 Axes>"
      ]
     },
     "metadata": {
      "needs_background": "light"
     },
     "output_type": "display_data"
    }
   ],
   "source": [
    "sns.countplot(df['type'])"
   ]
  },
  {
   "cell_type": "code",
   "execution_count": 15,
   "metadata": {},
   "outputs": [
    {
     "data": {
      "image/png": "[encoded data removed]",
      "text/plain": [
       "<Figure size 1440x720 with 1 Axes>"
      ]
     },
     "metadata": {
      "needs_background": "light"
     },
     "output_type": "display_data"
    }
   ],
   "source": [
    "plt.figure(figsize=(20,10))\n",
    "sns.countplot(df['region'])\n",
    "plt.show()"
   ]
  },
  {
   "cell_type": "code",
   "execution_count": 16,
   "metadata": {},
   "outputs": [],
   "source": [
    "def get_unique(df,columns):\n",
    "    return {column: list(df[column].unique()) for column in columns}"
   ]
  },
  {
   "cell_type": "code",
   "execution_count": 17,
   "metadata": {},
   "outputs": [
    {
     "data": {
      "text/plain": [
       "{'region': ['Albany',\n",
       "  'Atlanta',\n",
       "  'BaltimoreWashington',\n",
       "  'Boise',\n",
       "  'Boston',\n",
       "  'BuffaloRochester',\n",
       "  'California',\n",
       "  'Charlotte',\n",
       "  'Chicago',\n",
       "  'CincinnatiDayton',\n",
       "  'Columbus',\n",
       "  'DallasFtWorth',\n",
       "  'Denver',\n",
       "  'Detroit',\n",
       "  'GrandRapids',\n",
       "  'GreatLakes',\n",
       "  'HarrisburgScranton',\n",
       "  'HartfordSpringfield',\n",
       "  'Houston',\n",
       "  'Indianapolis',\n",
       "  'Jacksonville',\n",
       "  'LasVegas',\n",
       "  'LosAngeles',\n",
       "  'Louisville',\n",
       "  'MiamiFtLauderdale',\n",
       "  'Midsouth',\n",
       "  'Nashville',\n",
       "  'NewOrleansMobile',\n",
       "  'NewYork',\n",
       "  'Northeast',\n",
       "  'NorthernNewEngland',\n",
       "  'Orlando',\n",
       "  'Philadelphia',\n",
       "  'PhoenixTucson',\n",
       "  'Pittsburgh',\n",
       "  'Plains',\n",
       "  'Portland',\n",
       "  'RaleighGreensboro',\n",
       "  'RichmondNorfolk',\n",
       "  'Roanoke',\n",
       "  'Sacramento',\n",
       "  'SanDiego',\n",
       "  'SanFrancisco',\n",
       "  'Seattle',\n",
       "  'SouthCarolina',\n",
       "  'SouthCentral',\n",
       "  'Southeast',\n",
       "  'Spokane',\n",
       "  'StLouis',\n",
       "  'Syracuse',\n",
       "  'Tampa',\n",
       "  'TotalUS',\n",
       "  'West',\n",
       "  'WestTexNewMexico'],\n",
       " 'Date': ['2015-12-27',\n",
       "  '2015-12-20',\n",
       "  '2015-12-13',\n",
       "  '2015-12-06',\n",
       "  '2015-11-29',\n",
       "  '2015-11-22',\n",
       "  '2015-11-15',\n",
       "  '2015-11-08',\n",
       "  '2015-11-01',\n",
       "  '2015-10-25',\n",
       "  '2015-10-18',\n",
       "  '2015-10-11',\n",
       "  '2015-10-04',\n",
       "  '2015-09-27',\n",
       "  '2015-09-20',\n",
       "  '2015-09-13',\n",
       "  '2015-09-06',\n",
       "  '2015-08-30',\n",
       "  '2015-08-23',\n",
       "  '2015-08-16',\n",
       "  '2015-08-09',\n",
       "  '2015-08-02',\n",
       "  '2015-07-26',\n",
       "  '2015-07-19',\n",
       "  '2015-07-12',\n",
       "  '2015-07-05',\n",
       "  '2015-06-28',\n",
       "  '2015-06-21',\n",
       "  '2015-06-14',\n",
       "  '2015-06-07',\n",
       "  '2015-05-31',\n",
       "  '2015-05-24',\n",
       "  '2015-05-17',\n",
       "  '2015-05-10',\n",
       "  '2015-05-03',\n",
       "  '2015-04-26',\n",
       "  '2015-04-19',\n",
       "  '2015-04-12',\n",
       "  '2015-04-05',\n",
       "  '2015-03-29',\n",
       "  '2015-03-22',\n",
       "  '2015-03-15',\n",
       "  '2015-03-08',\n",
       "  '2015-03-01',\n",
       "  '2015-02-22',\n",
       "  '2015-02-15',\n",
       "  '2015-02-08',\n",
       "  '2015-02-01',\n",
       "  '2015-01-25',\n",
       "  '2015-01-18',\n",
       "  '2015-01-11',\n",
       "  '2015-01-04',\n",
       "  '2016-12-25',\n",
       "  '2016-12-18',\n",
       "  '2016-12-11',\n",
       "  '2016-12-04',\n",
       "  '2016-11-27',\n",
       "  '2016-11-20',\n",
       "  '2016-11-13',\n",
       "  '2016-11-06',\n",
       "  '2016-10-30',\n",
       "  '2016-10-23',\n",
       "  '2016-10-16',\n",
       "  '2016-10-09',\n",
       "  '2016-10-02',\n",
       "  '2016-09-25',\n",
       "  '2016-09-18',\n",
       "  '2016-09-11',\n",
       "  '2016-09-04',\n",
       "  '2016-08-28',\n",
       "  '2016-08-21',\n",
       "  '2016-08-14',\n",
       "  '2016-08-07',\n",
       "  '2016-07-31',\n",
       "  '2016-07-24',\n",
       "  '2016-07-17',\n",
       "  '2016-07-10',\n",
       "  '2016-07-03',\n",
       "  '2016-06-26',\n",
       "  '2016-06-19',\n",
       "  '2016-06-12',\n",
       "  '2016-06-05',\n",
       "  '2016-05-29',\n",
       "  '2016-05-22',\n",
       "  '2016-05-15',\n",
       "  '2016-05-08',\n",
       "  '2016-05-01',\n",
       "  '2016-04-24',\n",
       "  '2016-04-17',\n",
       "  '2016-04-10',\n",
       "  '2016-04-03',\n",
       "  '2016-03-27',\n",
       "  '2016-03-20',\n",
       "  '2016-03-13',\n",
       "  '2016-03-06',\n",
       "  '2016-02-28',\n",
       "  '2016-02-21',\n",
       "  '2016-02-14',\n",
       "  '2016-02-07',\n",
       "  '2016-01-31',\n",
       "  '2016-01-24',\n",
       "  '2016-01-17',\n",
       "  '2016-01-10',\n",
       "  '2016-01-03',\n",
       "  '2017-12-31',\n",
       "  '2017-12-24',\n",
       "  '2017-12-17',\n",
       "  '2017-12-10',\n",
       "  '2017-12-03',\n",
       "  '2017-11-26',\n",
       "  '2017-11-19',\n",
       "  '2017-11-12',\n",
       "  '2017-11-05',\n",
       "  '2017-10-29',\n",
       "  '2017-10-22',\n",
       "  '2017-10-15',\n",
       "  '2017-10-08',\n",
       "  '2017-10-01',\n",
       "  '2017-09-24',\n",
       "  '2017-09-17',\n",
       "  '2017-09-10',\n",
       "  '2017-09-03',\n",
       "  '2017-08-27',\n",
       "  '2017-08-20',\n",
       "  '2017-08-13',\n",
       "  '2017-08-06',\n",
       "  '2017-07-30',\n",
       "  '2017-07-23',\n",
       "  '2017-07-16',\n",
       "  '2017-07-09',\n",
       "  '2017-07-02',\n",
       "  '2017-06-25',\n",
       "  '2017-06-18',\n",
       "  '2017-06-11',\n",
       "  '2017-06-04',\n",
       "  '2017-05-28',\n",
       "  '2017-05-21',\n",
       "  '2017-05-14',\n",
       "  '2017-05-07',\n",
       "  '2017-04-30',\n",
       "  '2017-04-23',\n",
       "  '2017-04-16',\n",
       "  '2017-04-09',\n",
       "  '2017-04-02',\n",
       "  '2017-03-26',\n",
       "  '2017-03-19',\n",
       "  '2017-03-12',\n",
       "  '2017-03-05',\n",
       "  '2017-02-26',\n",
       "  '2017-02-19',\n",
       "  '2017-02-12',\n",
       "  '2017-02-05',\n",
       "  '2017-01-29',\n",
       "  '2017-01-22',\n",
       "  '2017-01-15',\n",
       "  '2017-01-08',\n",
       "  '2017-01-01',\n",
       "  '2018-03-25',\n",
       "  '2018-03-18',\n",
       "  '2018-03-11',\n",
       "  '2018-03-04',\n",
       "  '2018-02-25',\n",
       "  '2018-02-18',\n",
       "  '2018-02-11',\n",
       "  '2018-02-04',\n",
       "  '2018-01-28',\n",
       "  '2018-01-21',\n",
       "  '2018-01-14',\n",
       "  '2018-01-07'],\n",
       " 'type': ['conventional', 'organic']}"
      ]
     },
     "execution_count": 17,
     "metadata": {},
     "output_type": "execute_result"
    }
   ],
   "source": [
    "cat_cols=['region','Date','type']\n",
    "get_unique(df,cat_cols)"
   ]
  },
  {
   "cell_type": "code",
   "execution_count": 18,
   "metadata": {},
   "outputs": [],
   "source": [
    "from sklearn.preprocessing import LabelEncoder,StandardScaler"
   ]
  },
  {
   "cell_type": "code",
   "execution_count": 19,
   "metadata": {},
   "outputs": [],
   "source": [
    "from sklearn.model_selection import train_test_split"
   ]
  },
  {
   "cell_type": "code",
   "execution_count": 20,
   "metadata": {},
   "outputs": [],
   "source": [
    "le=LabelEncoder()\n",
    "for i in ['region','type','Date']:\n",
    "    df[i]=le.fit_transform(df[i])"
   ]
  },
  {
   "cell_type": "code",
   "execution_count": 21,
   "metadata": {},
   "outputs": [],
   "source": [
    "from scipy.stats import zscore"
   ]
  },
  {
   "cell_type": "code",
   "execution_count": 22,
   "metadata": {},
   "outputs": [
    {
     "data": {
      "text/plain": [
       "(array([  346,   359,   780, ..., 17304, 17402, 17428], dtype=int64),\n",
       " array([3, 3, 9, ..., 1, 1, 1], dtype=int64))"
      ]
     },
     "execution_count": 22,
     "metadata": {},
     "output_type": "execute_result"
    }
   ],
   "source": [
    "z=zscore(df)\n",
    "np.where(z>3)"
   ]
  },
  {
   "cell_type": "code",
   "execution_count": 23,
   "metadata": {},
   "outputs": [],
   "source": [
    "df=df[(z<3).all(axis=1)]"
   ]
  },
  {
   "cell_type": "code",
   "execution_count": 24,
   "metadata": {},
   "outputs": [
    {
     "data": {
      "text/html": [
       "<div>\n",
       "<style scoped>\n",
       "    .dataframe tbody tr th:only-of-type {\n",
       "        vertical-align: middle;\n",
       "    }\n",
       "\n",
       "    .dataframe tbody tr th {\n",
       "        vertical-align: top;\n",
       "    }\n",
       "\n",
       "    .dataframe thead th {\n",
       "        text-align: right;\n",
       "    }\n",
       "</style>\n",
       "<table border=\"1\" class=\"dataframe\">\n",
       "  <thead>\n",
       "    <tr style=\"text-align: right;\">\n",
       "      <th></th>\n",
       "      <th>Date</th>\n",
       "      <th>AveragePrice</th>\n",
       "      <th>Total Volume</th>\n",
       "      <th>4046</th>\n",
       "      <th>4225</th>\n",
       "      <th>4770</th>\n",
       "      <th>Total Bags</th>\n",
       "      <th>Small Bags</th>\n",
       "      <th>Large Bags</th>\n",
       "      <th>XLarge Bags</th>\n",
       "      <th>type</th>\n",
       "      <th>year</th>\n",
       "      <th>region</th>\n",
       "    </tr>\n",
       "  </thead>\n",
       "  <tbody>\n",
       "    <tr>\n",
       "      <th>Date</th>\n",
       "      <td>1.000000</td>\n",
       "      <td>0.139899</td>\n",
       "      <td>-0.010925</td>\n",
       "      <td>-0.040006</td>\n",
       "      <td>-0.046940</td>\n",
       "      <td>-0.091056</td>\n",
       "      <td>0.100644</td>\n",
       "      <td>0.083133</td>\n",
       "      <td>0.119637</td>\n",
       "      <td>0.109885</td>\n",
       "      <td>0.000830</td>\n",
       "      <td>0.950162</td>\n",
       "      <td>-0.004408</td>\n",
       "    </tr>\n",
       "    <tr>\n",
       "      <th>AveragePrice</th>\n",
       "      <td>0.139899</td>\n",
       "      <td>1.000000</td>\n",
       "      <td>-0.332056</td>\n",
       "      <td>-0.333577</td>\n",
       "      <td>-0.243988</td>\n",
       "      <td>-0.243465</td>\n",
       "      <td>-0.297323</td>\n",
       "      <td>-0.275771</td>\n",
       "      <td>-0.270915</td>\n",
       "      <td>-0.152669</td>\n",
       "      <td>0.613150</td>\n",
       "      <td>0.091704</td>\n",
       "      <td>-0.003242</td>\n",
       "    </tr>\n",
       "    <tr>\n",
       "      <th>Total Volume</th>\n",
       "      <td>-0.010925</td>\n",
       "      <td>-0.332056</td>\n",
       "      <td>1.000000</td>\n",
       "      <td>0.876307</td>\n",
       "      <td>0.871592</td>\n",
       "      <td>0.647518</td>\n",
       "      <td>0.912184</td>\n",
       "      <td>0.905648</td>\n",
       "      <td>0.640642</td>\n",
       "      <td>0.513741</td>\n",
       "      <td>-0.415476</td>\n",
       "      <td>-0.004866</td>\n",
       "      <td>0.076676</td>\n",
       "    </tr>\n",
       "    <tr>\n",
       "      <th>4046</th>\n",
       "      <td>-0.040006</td>\n",
       "      <td>-0.333577</td>\n",
       "      <td>0.876307</td>\n",
       "      <td>1.000000</td>\n",
       "      <td>0.565118</td>\n",
       "      <td>0.492127</td>\n",
       "      <td>0.727981</td>\n",
       "      <td>0.706800</td>\n",
       "      <td>0.561060</td>\n",
       "      <td>0.415432</td>\n",
       "      <td>-0.341376</td>\n",
       "      <td>-0.034636</td>\n",
       "      <td>0.119067</td>\n",
       "    </tr>\n",
       "    <tr>\n",
       "      <th>4225</th>\n",
       "      <td>-0.046940</td>\n",
       "      <td>-0.243988</td>\n",
       "      <td>0.871592</td>\n",
       "      <td>0.565118</td>\n",
       "      <td>1.000000</td>\n",
       "      <td>0.620221</td>\n",
       "      <td>0.757786</td>\n",
       "      <td>0.778761</td>\n",
       "      <td>0.451711</td>\n",
       "      <td>0.392030</td>\n",
       "      <td>-0.383138</td>\n",
       "      <td>-0.040234</td>\n",
       "      <td>0.011002</td>\n",
       "    </tr>\n",
       "    <tr>\n",
       "      <th>4770</th>\n",
       "      <td>-0.091056</td>\n",
       "      <td>-0.243465</td>\n",
       "      <td>0.647518</td>\n",
       "      <td>0.492127</td>\n",
       "      <td>0.620221</td>\n",
       "      <td>1.000000</td>\n",
       "      <td>0.557980</td>\n",
       "      <td>0.571512</td>\n",
       "      <td>0.323747</td>\n",
       "      <td>0.495976</td>\n",
       "      <td>-0.321809</td>\n",
       "      <td>-0.082054</td>\n",
       "      <td>-0.095972</td>\n",
       "    </tr>\n",
       "    <tr>\n",
       "      <th>Total Bags</th>\n",
       "      <td>0.100644</td>\n",
       "      <td>-0.297323</td>\n",
       "      <td>0.912184</td>\n",
       "      <td>0.727981</td>\n",
       "      <td>0.757786</td>\n",
       "      <td>0.557980</td>\n",
       "      <td>1.000000</td>\n",
       "      <td>0.978213</td>\n",
       "      <td>0.746946</td>\n",
       "      <td>0.581690</td>\n",
       "      <td>-0.378205</td>\n",
       "      <td>0.103442</td>\n",
       "      <td>0.085892</td>\n",
       "    </tr>\n",
       "    <tr>\n",
       "      <th>Small Bags</th>\n",
       "      <td>0.083133</td>\n",
       "      <td>-0.275771</td>\n",
       "      <td>0.905648</td>\n",
       "      <td>0.706800</td>\n",
       "      <td>0.778761</td>\n",
       "      <td>0.571512</td>\n",
       "      <td>0.978213</td>\n",
       "      <td>1.000000</td>\n",
       "      <td>0.593155</td>\n",
       "      <td>0.597700</td>\n",
       "      <td>-0.367593</td>\n",
       "      <td>0.086639</td>\n",
       "      <td>0.065976</td>\n",
       "    </tr>\n",
       "    <tr>\n",
       "      <th>Large Bags</th>\n",
       "      <td>0.119637</td>\n",
       "      <td>-0.270915</td>\n",
       "      <td>0.640642</td>\n",
       "      <td>0.561060</td>\n",
       "      <td>0.451711</td>\n",
       "      <td>0.323747</td>\n",
       "      <td>0.746946</td>\n",
       "      <td>0.593155</td>\n",
       "      <td>1.000000</td>\n",
       "      <td>0.296864</td>\n",
       "      <td>-0.286813</td>\n",
       "      <td>0.119543</td>\n",
       "      <td>0.127635</td>\n",
       "    </tr>\n",
       "    <tr>\n",
       "      <th>XLarge Bags</th>\n",
       "      <td>0.109885</td>\n",
       "      <td>-0.152669</td>\n",
       "      <td>0.513741</td>\n",
       "      <td>0.415432</td>\n",
       "      <td>0.392030</td>\n",
       "      <td>0.495976</td>\n",
       "      <td>0.581690</td>\n",
       "      <td>0.597700</td>\n",
       "      <td>0.296864</td>\n",
       "      <td>1.000000</td>\n",
       "      <td>-0.263734</td>\n",
       "      <td>0.108209</td>\n",
       "      <td>-0.044338</td>\n",
       "    </tr>\n",
       "    <tr>\n",
       "      <th>type</th>\n",
       "      <td>0.000830</td>\n",
       "      <td>0.613150</td>\n",
       "      <td>-0.415476</td>\n",
       "      <td>-0.341376</td>\n",
       "      <td>-0.383138</td>\n",
       "      <td>-0.321809</td>\n",
       "      <td>-0.378205</td>\n",
       "      <td>-0.367593</td>\n",
       "      <td>-0.286813</td>\n",
       "      <td>-0.263734</td>\n",
       "      <td>1.000000</td>\n",
       "      <td>0.003867</td>\n",
       "      <td>0.018409</td>\n",
       "    </tr>\n",
       "    <tr>\n",
       "      <th>year</th>\n",
       "      <td>0.950162</td>\n",
       "      <td>0.091704</td>\n",
       "      <td>-0.004866</td>\n",
       "      <td>-0.034636</td>\n",
       "      <td>-0.040234</td>\n",
       "      <td>-0.082054</td>\n",
       "      <td>0.103442</td>\n",
       "      <td>0.086639</td>\n",
       "      <td>0.119543</td>\n",
       "      <td>0.108209</td>\n",
       "      <td>0.003867</td>\n",
       "      <td>1.000000</td>\n",
       "      <td>-0.004417</td>\n",
       "    </tr>\n",
       "    <tr>\n",
       "      <th>region</th>\n",
       "      <td>-0.004408</td>\n",
       "      <td>-0.003242</td>\n",
       "      <td>0.076676</td>\n",
       "      <td>0.119067</td>\n",
       "      <td>0.011002</td>\n",
       "      <td>-0.095972</td>\n",
       "      <td>0.085892</td>\n",
       "      <td>0.065976</td>\n",
       "      <td>0.127635</td>\n",
       "      <td>-0.044338</td>\n",
       "      <td>0.018409</td>\n",
       "      <td>-0.004417</td>\n",
       "      <td>1.000000</td>\n",
       "    </tr>\n",
       "  </tbody>\n",
       "</table>\n",
       "</div>"
      ],
      "text/plain": [
       "                  Date  AveragePrice  Total Volume      4046      4225  \\\n",
       "Date          1.000000      0.139899     -0.010925 -0.040006 -0.046940   \n",
       "AveragePrice  0.139899      1.000000     -0.332056 -0.333577 -0.243988   \n",
       "Total Volume -0.010925     -0.332056      1.000000  0.876307  0.871592   \n",
       "4046         -0.040006     -0.333577      0.876307  1.000000  0.565118   \n",
       "4225         -0.046940     -0.243988      0.871592  0.565118  1.000000   \n",
       "4770         -0.091056     -0.243465      0.647518  0.492127  0.620221   \n",
       "Total Bags    0.100644     -0.297323      0.912184  0.727981  0.757786   \n",
       "Small Bags    0.083133     -0.275771      0.905648  0.706800  0.778761   \n",
       "Large Bags    0.119637     -0.270915      0.640642  0.561060  0.451711   \n",
       "XLarge Bags   0.109885     -0.152669      0.513741  0.415432  0.392030   \n",
       "type          0.000830      0.613150     -0.415476 -0.341376 -0.383138   \n",
       "year          0.950162      0.091704     -0.004866 -0.034636 -0.040234   \n",
       "region       -0.004408     -0.003242      0.076676  0.119067  0.011002   \n",
       "\n",
       "                  4770  Total Bags  Small Bags  Large Bags  XLarge Bags  \\\n",
       "Date         -0.091056    0.100644    0.083133    0.119637     0.109885   \n",
       "AveragePrice -0.243465   -0.297323   -0.275771   -0.270915    -0.152669   \n",
       "Total Volume  0.647518    0.912184    0.905648    0.640642     0.513741   \n",
       "4046          0.492127    0.727981    0.706800    0.561060     0.415432   \n",
       "4225          0.620221    0.757786    0.778761    0.451711     0.392030   \n",
       "4770          1.000000    0.557980    0.571512    0.323747     0.495976   \n",
       "Total Bags    0.557980    1.000000    0.978213    0.746946     0.581690   \n",
       "Small Bags    0.571512    0.978213    1.000000    0.593155     0.597700   \n",
       "Large Bags    0.323747    0.746946    0.593155    1.000000     0.296864   \n",
       "XLarge Bags   0.495976    0.581690    0.597700    0.296864     1.000000   \n",
       "type         -0.321809   -0.378205   -0.367593   -0.286813    -0.263734   \n",
       "year         -0.082054    0.103442    0.086639    0.119543     0.108209   \n",
       "region       -0.095972    0.085892    0.065976    0.127635    -0.044338   \n",
       "\n",
       "                  type      year    region  \n",
       "Date          0.000830  0.950162 -0.004408  \n",
       "AveragePrice  0.613150  0.091704 -0.003242  \n",
       "Total Volume -0.415476 -0.004866  0.076676  \n",
       "4046         -0.341376 -0.034636  0.119067  \n",
       "4225         -0.383138 -0.040234  0.011002  \n",
       "4770         -0.321809 -0.082054 -0.095972  \n",
       "Total Bags   -0.378205  0.103442  0.085892  \n",
       "Small Bags   -0.367593  0.086639  0.065976  \n",
       "Large Bags   -0.286813  0.119543  0.127635  \n",
       "XLarge Bags  -0.263734  0.108209 -0.044338  \n",
       "type          1.000000  0.003867  0.018409  \n",
       "year          0.003867  1.000000 -0.004417  \n",
       "region        0.018409 -0.004417  1.000000  "
      ]
     },
     "execution_count": 24,
     "metadata": {},
     "output_type": "execute_result"
    }
   ],
   "source": [
    "df.corr()"
   ]
  },
  {
   "cell_type": "code",
   "execution_count": 25,
   "metadata": {},
   "outputs": [
    {
     "data": {
      "image/png": "[encoded data removed]",
      "text/plain": [
       "<Figure size 720x720 with 2 Axes>"
      ]
     },
     "metadata": {
      "needs_background": "light"
     },
     "output_type": "display_data"
    }
   ],
   "source": [
    "plt.figure(figsize=(10,10))\n",
    "sns.heatmap(df.corr(),annot=True)\n",
    "plt.show()"
   ]
  },
  {
   "cell_type": "code",
   "execution_count": 26,
   "metadata": {},
   "outputs": [
    {
     "data": {
      "image/png": "[encoded data removed]",
      "text/plain": [
       "<Figure size 432x288 with 1 Axes>"
      ]
     },
     "metadata": {
      "needs_background": "light"
     },
     "output_type": "display_data"
    },
    {
     "data": {
      "image/png": "[encoded data removed]",
      "text/plain": [
       "<Figure size 432x288 with 1 Axes>"
      ]
     },
     "metadata": {
      "needs_background": "light"
     },
     "output_type": "display_data"
    },
    {
     "data": {
      "image/png": "[encoded data removed]",
      "text/plain": [
       "<Figure size 432x288 with 1 Axes>"
      ]
     },
     "metadata": {
      "needs_background": "light"
     },
     "output_type": "display_data"
    },
    {
     "data": {
      "image/png": "[encoded data removed]",
      "text/plain": [
       "<Figure size 432x288 with 1 Axes>"
      ]
     },
     "metadata": {
      "needs_background": "light"
     },
     "output_type": "display_data"
    },
    {
     "data": {
      "image/png": "[encoded data removed]",
      "text/plain": [
       "<Figure size 432x288 with 1 Axes>"
      ]
     },
     "metadata": {
      "needs_background": "light"
     },
     "output_type": "display_data"
    },
    {
     "data": {
      "image/png": "[encoded data removed]",
      "text/plain": [
       "<Figure size 432x288 with 1 Axes>"
      ]
     },
     "metadata": {
      "needs_background": "light"
     },
     "output_type": "display_data"
    },
    {
     "data": {
      "image/png": "[encoded data removed]",
      "text/plain": [
       "<Figure size 432x288 with 1 Axes>"
      ]
     },
     "metadata": {
      "needs_background": "light"
     },
     "output_type": "display_data"
    },
    {
     "data": {
      "image/png": "[encoded data removed]",
      "text/plain": [
       "<Figure size 432x288 with 1 Axes>"
      ]
     },
     "metadata": {
      "needs_background": "light"
     },
     "output_type": "display_data"
    },
    {
     "data": {
      "image/png": "[encoded data removed]",
      "text/plain": [
       "<Figure size 432x288 with 1 Axes>"
      ]
     },
     "metadata": {
      "needs_background": "light"
     },
     "output_type": "display_data"
    },
    {
     "data": {
      "image/png": "[encoded data removed]",
      "text/plain": [
       "<Figure size 432x288 with 1 Axes>"
      ]
     },
     "metadata": {
      "needs_background": "light"
     },
     "output_type": "display_data"
    },
    {
     "data": {
      "image/png": "[encoded data removed]",
      "text/plain": [
       "<Figure size 432x288 with 1 Axes>"
      ]
     },
     "metadata": {
      "needs_background": "light"
     },
     "output_type": "display_data"
    },
    {
     "data": {
      "image/png": "[encoded data removed]",
      "text/plain": [
       "<Figure size 432x288 with 1 Axes>"
      ]
     },
     "metadata": {
      "needs_background": "light"
     },
     "output_type": "display_data"
    },
    {
     "data": {
      "image/png": "[encoded data removed]",
      "text/plain": [
       "<Figure size 432x288 with 1 Axes>"
      ]
     },
     "metadata": {
      "needs_background": "light"
     },
     "output_type": "display_data"
    }
   ],
   "source": [
    "for i in df.columns:\n",
    "    sns.distplot(df[i])\n",
    "    plt.show()"
   ]
  },
  {
   "cell_type": "code",
   "execution_count": 27,
   "metadata": {},
   "outputs": [],
   "source": [
    "##From correlation we can see only Large bags is a little correlated to region"
   ]
  },
  {
   "cell_type": "code",
   "execution_count": 28,
   "metadata": {},
   "outputs": [],
   "source": [
    "df.drop(['Small Bags','Total Bags','XLarge Bags'],axis=1,inplace=True)"
   ]
  },
  {
   "cell_type": "code",
   "execution_count": 29,
   "metadata": {},
   "outputs": [
    {
     "data": {
      "text/plain": [
       "Date            0.013714\n",
       "AveragePrice    0.377432\n",
       "Total Volume    3.767138\n",
       "4046            4.909848\n",
       "4225            4.455745\n",
       "4770            5.117170\n",
       "Large Bags      5.053434\n",
       "type           -0.037741\n",
       "year            0.229976\n",
       "region          0.012798\n",
       "dtype: float64"
      ]
     },
     "execution_count": 29,
     "metadata": {},
     "output_type": "execute_result"
    }
   ],
   "source": [
    "df.skew()"
   ]
  },
  {
   "cell_type": "code",
   "execution_count": 30,
   "metadata": {},
   "outputs": [],
   "source": [
    "x=df.iloc[:,:-1]\n",
    "y=df.iloc[:,-1]"
   ]
  },
  {
   "cell_type": "code",
   "execution_count": 31,
   "metadata": {},
   "outputs": [],
   "source": [
    "from sklearn.preprocessing import power_transform\n",
    "x=power_transform(x,method='yeo-johnson')"
   ]
  },
  {
   "cell_type": "code",
   "execution_count": 32,
   "metadata": {},
   "outputs": [],
   "source": [
    "import scipy.stats as st\n",
    "import statsmodels.api as sm\n",
    "from statsmodels.stats.outliers_influence import variance_inflation_factor as viff\n",
    "def calc_vif(x1):\n",
    "    vif=pd.DataFrame()\n",
    "    vif[\"variables\"]=x1.columns\n",
    "    vif['VIF Factor']=[viff(x1.values,i) for i in range(x1.shape[1])]\n",
    "    return(vif)"
   ]
  },
  {
   "cell_type": "code",
   "execution_count": 33,
   "metadata": {},
   "outputs": [
    {
     "data": {
      "text/html": [
       "<div>\n",
       "<style scoped>\n",
       "    .dataframe tbody tr th:only-of-type {\n",
       "        vertical-align: middle;\n",
       "    }\n",
       "\n",
       "    .dataframe tbody tr th {\n",
       "        vertical-align: top;\n",
       "    }\n",
       "\n",
       "    .dataframe thead th {\n",
       "        text-align: right;\n",
       "    }\n",
       "</style>\n",
       "<table border=\"1\" class=\"dataframe\">\n",
       "  <thead>\n",
       "    <tr style=\"text-align: right;\">\n",
       "      <th></th>\n",
       "      <th>variables</th>\n",
       "      <th>VIF Factor</th>\n",
       "    </tr>\n",
       "  </thead>\n",
       "  <tbody>\n",
       "    <tr>\n",
       "      <th>0</th>\n",
       "      <td>Date</td>\n",
       "      <td>4.428014</td>\n",
       "    </tr>\n",
       "    <tr>\n",
       "      <th>1</th>\n",
       "      <td>AveragePrice</td>\n",
       "      <td>24.689214</td>\n",
       "    </tr>\n",
       "    <tr>\n",
       "      <th>2</th>\n",
       "      <td>Total Volume</td>\n",
       "      <td>89.694895</td>\n",
       "    </tr>\n",
       "    <tr>\n",
       "      <th>3</th>\n",
       "      <td>4046</td>\n",
       "      <td>23.355238</td>\n",
       "    </tr>\n",
       "    <tr>\n",
       "      <th>4</th>\n",
       "      <td>4225</td>\n",
       "      <td>24.665399</td>\n",
       "    </tr>\n",
       "    <tr>\n",
       "      <th>5</th>\n",
       "      <td>4770</td>\n",
       "      <td>2.193102</td>\n",
       "    </tr>\n",
       "    <tr>\n",
       "      <th>6</th>\n",
       "      <td>Large Bags</td>\n",
       "      <td>2.848255</td>\n",
       "    </tr>\n",
       "    <tr>\n",
       "      <th>7</th>\n",
       "      <td>type</td>\n",
       "      <td>3.671021</td>\n",
       "    </tr>\n",
       "    <tr>\n",
       "      <th>8</th>\n",
       "      <td>year</td>\n",
       "      <td>22.913887</td>\n",
       "    </tr>\n",
       "    <tr>\n",
       "      <th>9</th>\n",
       "      <td>region</td>\n",
       "      <td>4.105268</td>\n",
       "    </tr>\n",
       "  </tbody>\n",
       "</table>\n",
       "</div>"
      ],
      "text/plain": [
       "      variables  VIF Factor\n",
       "0          Date    4.428014\n",
       "1  AveragePrice   24.689214\n",
       "2  Total Volume   89.694895\n",
       "3          4046   23.355238\n",
       "4          4225   24.665399\n",
       "5          4770    2.193102\n",
       "6    Large Bags    2.848255\n",
       "7          type    3.671021\n",
       "8          year   22.913887\n",
       "9        region    4.105268"
      ]
     },
     "execution_count": 33,
     "metadata": {},
     "output_type": "execute_result"
    }
   ],
   "source": [
    "calc_vif(df)"
   ]
  },
  {
   "cell_type": "code",
   "execution_count": 43,
   "metadata": {},
   "outputs": [],
   "source": [
    "sc=StandardScaler()\n",
    "x=sc.fit_transform(x)"
   ]
  },
  {
   "cell_type": "code",
   "execution_count": 44,
   "metadata": {},
   "outputs": [
    {
     "data": {
      "text/plain": [
       "array([[ 0.77394187,  0.8421342 , -0.8276731 , ...,  0.47533899,\n",
       "        -0.40004449,  0.89772778],\n",
       "       [ 0.68640109,  1.28286222, -1.10789184, ...,  0.1558825 ,\n",
       "        -0.40004449,  0.89772778],\n",
       "       [ 0.79132312,  1.69859541, -1.06942092, ..., -0.10270543,\n",
       "        -0.40004449,  0.89772778],\n",
       "       ...,\n",
       "       [ 0.15473356, -1.8303613 ,  1.03180684, ...,  1.02778397,\n",
       "        -0.40004449, -0.17590826],\n",
       "       [-0.11995075,  0.2757675 , -2.28272247, ..., -0.40476005,\n",
       "         2.49972199, -0.17590826],\n",
       "       [ 1.52034526, -1.2047065 ,  0.87911515, ...,  1.1264996 ,\n",
       "        -0.40004449,  1.96948373]])"
      ]
     },
     "execution_count": 44,
     "metadata": {},
     "output_type": "execute_result"
    }
   ],
   "source": [
    "x"
   ]
  },
  {
   "cell_type": "code",
   "execution_count": 45,
   "metadata": {},
   "outputs": [
    {
     "data": {
      "text/plain": [
       "0        0\n",
       "1        0\n",
       "2        0\n",
       "3        0\n",
       "4        0\n",
       "        ..\n",
       "9121    53\n",
       "9122    53\n",
       "9123    53\n",
       "9124    53\n",
       "9125    53\n",
       "Name: region, Length: 9126, dtype: int32"
      ]
     },
     "execution_count": 45,
     "metadata": {},
     "output_type": "execute_result"
    }
   ],
   "source": [
    "y"
   ]
  },
  {
   "cell_type": "code",
   "execution_count": 46,
   "metadata": {},
   "outputs": [],
   "source": [
    "from sklearn.model_selection import train_test_split"
   ]
  },
  {
   "cell_type": "code",
   "execution_count": 47,
   "metadata": {},
   "outputs": [],
   "source": [
    "from imblearn.under_sampling import NearMiss\n",
    "x,y=NearMiss().fit_resample(x,y)"
   ]
  },
  {
   "cell_type": "code",
   "execution_count": 48,
   "metadata": {},
   "outputs": [],
   "source": [
    "x_train,x_test,y_train,y_test=train_test_split(x,y,random_state=43,test_size=0.20)"
   ]
  },
  {
   "cell_type": "code",
   "execution_count": 49,
   "metadata": {},
   "outputs": [
    {
     "data": {
      "text/plain": [
       "(7300, 9)"
      ]
     },
     "execution_count": 49,
     "metadata": {},
     "output_type": "execute_result"
    }
   ],
   "source": [
    "x_train.shape"
   ]
  },
  {
   "cell_type": "code",
   "execution_count": 50,
   "metadata": {},
   "outputs": [
    {
     "data": {
      "text/plain": [
       "(7300,)"
      ]
     },
     "execution_count": 50,
     "metadata": {},
     "output_type": "execute_result"
    }
   ],
   "source": [
    "y_train.shape"
   ]
  },
  {
   "cell_type": "code",
   "execution_count": 56,
   "metadata": {},
   "outputs": [],
   "source": [
    "from sklearn.metrics import accuracy_score,classification_report,confusion_matrix\n",
    "def fun(f):\n",
    "    f.fit(x_train,y_train)\n",
    "    pred=f.predict(x_test)\n",
    "    print(\"Accuracy score\",accuracy_score(y_test,pred))\n",
    "    print(\"Confusion matrix \\n\",confusion_matrix(y_test,pred))\n",
    "    print(\"Classification report \\n\",classification_report(y_test,pred))"
   ]
  },
  {
   "cell_type": "code",
   "execution_count": 52,
   "metadata": {},
   "outputs": [],
   "source": [
    "from sklearn.model_selection import cross_val_score,KFold\n",
    "def cvs(m):\n",
    "    cv1=KFold(n_splits=5,shuffle=True)\n",
    "    score=cross_val_score(m,x,y,cv=cv1,scoring='accuracy')\n",
    "    print(\"Cross val score\",score)\n",
    "    print(score.mean())"
   ]
  },
  {
   "cell_type": "code",
   "execution_count": 53,
   "metadata": {},
   "outputs": [],
   "source": [
    "from sklearn.model_selection import GridSearchCV\n",
    "def hypertuning(params,model):\n",
    "    gd=GridSearchCV(model,params,cv=5)\n",
    "    gd.fit(x,y)\n",
    "    print(gd.best_params_)"
   ]
  },
  {
   "cell_type": "code",
   "execution_count": 54,
   "metadata": {},
   "outputs": [
    {
     "name": "stdout",
     "output_type": "stream",
     "text": [
      "{'degree': 1, 'gamma': 'auto', 'kernel': 'rbf', 'shrinking': True}\n"
     ]
    }
   ],
   "source": [
    "from sklearn.svm import SVC\n",
    "params_svc={\n",
    "    'kernel':['poly','linear','rbf','sigmoid'],'degree':[1,3,5,7],'gamma':['auto','scale'],'shrinking':[True,False]}\n",
    "hypertuning(params_svc,SVC())"
   ]
  },
  {
   "cell_type": "code",
   "execution_count": 58,
   "metadata": {},
   "outputs": [
    {
     "name": "stdout",
     "output_type": "stream",
     "text": [
      "Accuracy score 0.8943044906900328\n",
      "Confusion matrix \n",
      " [[33  0  0 ...  0  0  0]\n",
      " [ 0 32  0 ...  0  0  0]\n",
      " [ 0  0 36 ...  0  0  0]\n",
      " ...\n",
      " [ 0  0  0 ... 25  0  0]\n",
      " [ 0  0  0 ...  1 30  0]\n",
      " [ 0  0  0 ...  0  0 40]]\n",
      "Classification report \n",
      "               precision    recall  f1-score   support\n",
      "\n",
      "           0       0.92      0.97      0.94        34\n",
      "           1       0.80      0.97      0.88        33\n",
      "           2       0.92      0.92      0.92        39\n",
      "           3       1.00      0.97      0.99        35\n",
      "           4       1.00      0.79      0.88        38\n",
      "           5       0.90      0.86      0.88        22\n",
      "           6       0.89      1.00      0.94        32\n",
      "           7       0.91      1.00      0.95        31\n",
      "           8       0.96      0.98      0.97        45\n",
      "           9       0.94      0.78      0.85        40\n",
      "          10       0.82      0.93      0.87        43\n",
      "          11       0.89      0.85      0.87        39\n",
      "          12       0.92      0.92      0.92        37\n",
      "          13       0.94      0.97      0.96        33\n",
      "          14       1.00      1.00      1.00        27\n",
      "          15       0.97      0.94      0.95        33\n",
      "          16       0.97      0.97      0.97        38\n",
      "          17       0.96      0.93      0.95        29\n",
      "          18       0.72      0.93      0.81        28\n",
      "          19       0.86      0.91      0.89        35\n",
      "          20       0.71      0.91      0.80        33\n",
      "          21       0.76      0.79      0.77        28\n",
      "          22       0.97      1.00      0.99        38\n",
      "          23       0.74      0.91      0.82        32\n",
      "          24       0.93      0.93      0.93        28\n",
      "          25       1.00      0.97      0.98        31\n",
      "          26       0.82      0.90      0.86        30\n",
      "          27       0.94      0.94      0.94        36\n",
      "          28       1.00      0.95      0.97        38\n",
      "          29       1.00      1.00      1.00        31\n",
      "          30       0.88      0.94      0.91        32\n",
      "          31       0.56      0.77      0.65        26\n",
      "          32       0.96      0.96      0.96        28\n",
      "          33       0.81      0.67      0.73        33\n",
      "          34       0.82      0.82      0.82        33\n",
      "          35       0.97      0.91      0.94        32\n",
      "          36       0.77      0.73      0.75        37\n",
      "          37       0.88      0.88      0.88        33\n",
      "          38       0.90      0.88      0.89        42\n",
      "          39       0.96      1.00      0.98        27\n",
      "          40       0.97      1.00      0.98        29\n",
      "          41       0.86      0.94      0.90        33\n",
      "          42       0.91      0.97      0.94        32\n",
      "          43       0.75      0.75      0.75        32\n",
      "          44       0.84      0.79      0.82        34\n",
      "          45       0.94      0.91      0.92        32\n",
      "          46       0.88      0.97      0.93        39\n",
      "          47       0.93      0.80      0.86        50\n",
      "          48       0.96      0.59      0.73        41\n",
      "          49       1.00      0.94      0.97        31\n",
      "          50       0.81      0.49      0.61        35\n",
      "          51       0.96      1.00      0.98        25\n",
      "          52       1.00      0.97      0.98        31\n",
      "          53       0.95      0.93      0.94        43\n",
      "\n",
      "    accuracy                           0.89      1826\n",
      "   macro avg       0.90      0.90      0.89      1826\n",
      "weighted avg       0.90      0.89      0.89      1826\n",
      "\n",
      "Cross val score [0.88006572 0.88328767 0.89369863 0.87561644 0.88547945]\n",
      "0.8836295818391873\n"
     ]
    }
   ],
   "source": [
    "svc=SVC(degree=1,gamma='auto',kernel='rbf',shrinking=True)\n",
    "fun(svc)\n",
    "cvs(svc)"
   ]
  },
  {
   "cell_type": "code",
   "execution_count": 59,
   "metadata": {},
   "outputs": [],
   "source": [
    "acc=[0.89]\n",
    "cross_vall=[0.88]\n",
    "model=['SVC']"
   ]
  },
  {
   "cell_type": "code",
   "execution_count": 61,
   "metadata": {},
   "outputs": [
    {
     "name": "stdout",
     "output_type": "stream",
     "text": [
      "{'criterion': 'entropy', 'max_depth': None, 'min_samples_split': 2, 'splitter': 'best'}\n"
     ]
    }
   ],
   "source": [
    "from sklearn.tree import DecisionTreeClassifier\n",
    "dtc=DecisionTreeClassifier()\n",
    "params_dtc={'criterion':['gini','entropy'],'splitter':['random','best'],'max_depth':[None,1,2,3],'min_samples_split':[2,3,4]}\n",
    "hypertuning(params_dtc,dtc)"
   ]
  },
  {
   "cell_type": "code",
   "execution_count": 62,
   "metadata": {},
   "outputs": [
    {
     "name": "stdout",
     "output_type": "stream",
     "text": [
      "Accuracy score 0.8242059145673604\n",
      "Confusion matrix \n",
      " [[32  0  0 ...  0  0  0]\n",
      " [ 0 21  0 ...  0  0  0]\n",
      " [ 0  0 37 ...  0  0  0]\n",
      " ...\n",
      " [ 0  0  0 ... 25  0  0]\n",
      " [ 0  0  0 ...  0 28  0]\n",
      " [ 0  1  0 ...  0  0 33]]\n",
      "Classification report \n",
      "               precision    recall  f1-score   support\n",
      "\n",
      "           0       0.91      0.94      0.93        34\n",
      "           1       0.78      0.64      0.70        33\n",
      "           2       0.86      0.95      0.90        39\n",
      "           3       0.81      0.97      0.88        35\n",
      "           4       0.85      0.76      0.81        38\n",
      "           5       0.76      0.86      0.81        22\n",
      "           6       0.91      0.97      0.94        32\n",
      "           7       0.91      0.94      0.92        31\n",
      "           8       1.00      0.89      0.94        45\n",
      "           9       0.88      0.70      0.78        40\n",
      "          10       0.81      0.81      0.81        43\n",
      "          11       0.91      0.77      0.83        39\n",
      "          12       0.89      0.89      0.89        37\n",
      "          13       0.79      0.82      0.81        33\n",
      "          14       0.96      0.93      0.94        27\n",
      "          15       0.97      0.94      0.95        33\n",
      "          16       0.94      0.89      0.92        38\n",
      "          17       0.87      0.93      0.90        29\n",
      "          18       0.63      0.79      0.70        28\n",
      "          19       0.72      0.83      0.77        35\n",
      "          20       0.72      0.79      0.75        33\n",
      "          21       0.74      0.61      0.67        28\n",
      "          22       0.97      0.92      0.95        38\n",
      "          23       0.63      0.81      0.71        32\n",
      "          24       0.77      0.86      0.81        28\n",
      "          25       0.97      0.97      0.97        31\n",
      "          26       0.57      0.67      0.62        30\n",
      "          27       0.83      0.81      0.82        36\n",
      "          28       0.97      0.92      0.95        38\n",
      "          29       0.93      0.87      0.90        31\n",
      "          30       0.76      0.78      0.77        32\n",
      "          31       0.55      0.81      0.66        26\n",
      "          32       0.83      0.89      0.86        28\n",
      "          33       0.71      0.67      0.69        33\n",
      "          34       0.66      0.76      0.70        33\n",
      "          35       0.82      0.88      0.85        32\n",
      "          36       0.72      0.62      0.67        37\n",
      "          37       0.82      0.85      0.84        33\n",
      "          38       0.83      0.81      0.82        42\n",
      "          39       1.00      0.63      0.77        27\n",
      "          40       0.92      0.83      0.87        29\n",
      "          41       0.88      0.85      0.86        33\n",
      "          42       0.85      0.88      0.86        32\n",
      "          43       0.56      0.84      0.68        32\n",
      "          44       0.82      0.82      0.82        34\n",
      "          45       0.91      0.94      0.92        32\n",
      "          46       0.95      0.90      0.92        39\n",
      "          47       0.89      0.66      0.76        50\n",
      "          48       0.82      0.66      0.73        41\n",
      "          49       0.88      0.90      0.89        31\n",
      "          50       0.64      0.60      0.62        35\n",
      "          51       0.96      1.00      0.98        25\n",
      "          52       0.97      0.90      0.93        31\n",
      "          53       0.80      0.77      0.79        43\n",
      "\n",
      "    accuracy                           0.82      1826\n",
      "   macro avg       0.83      0.83      0.82      1826\n",
      "weighted avg       0.83      0.82      0.83      1826\n",
      "\n",
      "Cross val score [0.83023001 0.84164384 0.83671233 0.83068493 0.81041096]\n",
      "0.8299364131494846\n"
     ]
    }
   ],
   "source": [
    "dtc=DecisionTreeClassifier(criterion='entropy',max_depth=None,min_samples_split=2,splitter='best')\n",
    "fun(dtc)\n",
    "cvs(dtc)"
   ]
  },
  {
   "cell_type": "code",
   "execution_count": 64,
   "metadata": {},
   "outputs": [],
   "source": [
    "acc.append(0.82)\n",
    "cross_vall.append(0.82)\n",
    "model.append('Decision Tree Regressor')"
   ]
  },
  {
   "cell_type": "code",
   "execution_count": 69,
   "metadata": {},
   "outputs": [
    {
     "name": "stdout",
     "output_type": "stream",
     "text": [
      "{'algorithm': 'auto', 'leaf_size': 30, 'n_neighbors': 5, 'weights': 'distance'}\n"
     ]
    }
   ],
   "source": [
    "from sklearn.neighbors import KNeighborsClassifier\n",
    "knn=KNeighborsClassifier()\n",
    "params_knn={'n_neighbors':[5,7,9,11],'weights':['uniform','distance'],'algorithm':['auto','ball_tree','kd_tree','brute'],'leaf_size':[30,40,50]}\n",
    "hypertuning(params_knn,knn)"
   ]
  },
  {
   "cell_type": "code",
   "execution_count": 70,
   "metadata": {},
   "outputs": [
    {
     "name": "stdout",
     "output_type": "stream",
     "text": [
      "Accuracy score 0.9156626506024096\n",
      "Confusion matrix \n",
      " [[34  0  0 ...  0  0  0]\n",
      " [ 0 29  0 ...  0  0  0]\n",
      " [ 0  0 37 ...  0  0  0]\n",
      " ...\n",
      " [ 0  0  0 ... 25  0  0]\n",
      " [ 0  0  0 ...  1 30  0]\n",
      " [ 0  0  0 ...  0  0 42]]\n",
      "Classification report \n",
      "               precision    recall  f1-score   support\n",
      "\n",
      "           0       0.94      1.00      0.97        34\n",
      "           1       0.81      0.88      0.84        33\n",
      "           2       0.95      0.95      0.95        39\n",
      "           3       1.00      0.97      0.99        35\n",
      "           4       0.94      0.84      0.89        38\n",
      "           5       1.00      0.86      0.93        22\n",
      "           6       0.86      0.97      0.91        32\n",
      "           7       0.97      0.97      0.97        31\n",
      "           8       0.98      0.98      0.98        45\n",
      "           9       0.94      0.82      0.88        40\n",
      "          10       0.91      0.93      0.92        43\n",
      "          11       0.88      0.95      0.91        39\n",
      "          12       0.95      1.00      0.97        37\n",
      "          13       0.86      0.97      0.91        33\n",
      "          14       1.00      1.00      1.00        27\n",
      "          15       0.97      0.97      0.97        33\n",
      "          16       0.97      0.95      0.96        38\n",
      "          17       1.00      0.93      0.96        29\n",
      "          18       0.88      0.82      0.85        28\n",
      "          19       0.89      0.94      0.92        35\n",
      "          20       0.89      0.94      0.91        33\n",
      "          21       1.00      1.00      1.00        28\n",
      "          22       1.00      0.97      0.99        38\n",
      "          23       0.94      0.91      0.92        32\n",
      "          24       0.96      0.86      0.91        28\n",
      "          25       0.86      0.97      0.91        31\n",
      "          26       0.74      0.97      0.84        30\n",
      "          27       0.94      0.94      0.94        36\n",
      "          28       1.00      0.95      0.97        38\n",
      "          29       1.00      0.90      0.95        31\n",
      "          30       0.88      0.94      0.91        32\n",
      "          31       0.55      0.81      0.66        26\n",
      "          32       0.96      0.96      0.96        28\n",
      "          33       0.88      0.85      0.86        33\n",
      "          34       0.91      0.97      0.94        33\n",
      "          35       0.91      0.91      0.91        32\n",
      "          36       0.86      0.65      0.74        37\n",
      "          37       0.91      0.88      0.89        33\n",
      "          38       0.87      0.98      0.92        42\n",
      "          39       0.93      1.00      0.96        27\n",
      "          40       0.93      0.93      0.93        29\n",
      "          41       0.91      0.91      0.91        33\n",
      "          42       0.88      0.94      0.91        32\n",
      "          43       0.77      0.75      0.76        32\n",
      "          44       0.97      1.00      0.99        34\n",
      "          45       0.97      0.91      0.94        32\n",
      "          46       0.90      0.97      0.94        39\n",
      "          47       0.94      0.90      0.92        50\n",
      "          48       0.96      0.66      0.78        41\n",
      "          49       1.00      1.00      1.00        31\n",
      "          50       0.83      0.54      0.66        35\n",
      "          51       0.96      1.00      0.98        25\n",
      "          52       0.97      0.97      0.97        31\n",
      "          53       0.91      0.98      0.94        43\n",
      "\n",
      "    accuracy                           0.92      1826\n",
      "   macro avg       0.92      0.92      0.91      1826\n",
      "weighted avg       0.92      0.92      0.91      1826\n",
      "\n",
      "Cross val score [0.9101862  0.90849315 0.91342466 0.91945205 0.91342466]\n",
      "0.9129961439781542\n"
     ]
    }
   ],
   "source": [
    "knn=KNeighborsClassifier(algorithm='auto',leaf_size=30,n_neighbors=5,weights='distance')\n",
    "fun(knn)\n",
    "cvs(knn)"
   ]
  },
  {
   "cell_type": "code",
   "execution_count": 71,
   "metadata": {},
   "outputs": [],
   "source": [
    "acc.append(0.91)\n",
    "cross_vall.append(0.91)\n",
    "model.append('K Neighbors')"
   ]
  },
  {
   "cell_type": "code",
   "execution_count": 75,
   "metadata": {},
   "outputs": [],
   "source": [
    "from sklearn.experimental import enable_hist_gradient_boosting\n",
    "from sklearn.ensemble import RandomForestClassifier,AdaBoostClassifier,GradientBoostingClassifier,HistGradientBoostingClassifier\n",
    "from sklearn.tree import ExtraTreeClassifier\n",
    "rf=RandomForestClassifier()\n",
    "etc=ExtraTreeClassifier()\n",
    "ada=AdaBoostClassifier()\n",
    "Gd=GradientBoostingClassifier()\n",
    "HGd=HistGradientBoostingClassifier()"
   ]
  },
  {
   "cell_type": "code",
   "execution_count": 78,
   "metadata": {},
   "outputs": [
    {
     "name": "stdout",
     "output_type": "stream",
     "text": [
      "{'criterion': 'entropy', 'max_depth': None, 'min_samples_split': 2, 'n_estimators': 50}\n"
     ]
    }
   ],
   "source": [
    "params_rf={'n_estimators':[10,20,30,50],\n",
    "           'criterion':['gini', 'entropy'],\n",
    "           'max_depth':[None,1,2,3],\n",
    "           'min_samples_split':[2,3,4]}\n",
    "hypertuning(params_rf,rf)"
   ]
  },
  {
   "cell_type": "code",
   "execution_count": 79,
   "metadata": {},
   "outputs": [
    {
     "name": "stdout",
     "output_type": "stream",
     "text": [
      "{'criterion': 'gini', 'max_depth': None, 'min_samples_split': 2, 'splitter': 'best'}\n"
     ]
    }
   ],
   "source": [
    "params_etc={'criterion':['gini','entropy'],\n",
    "            'splitter':['random','best'],\n",
    "            'max_depth':[None,1,2,3],\n",
    "            'min_samples_split':[2,3,4]}\n",
    "hypertuning(params_etc,etc)"
   ]
  },
  {
   "cell_type": "code",
   "execution_count": 80,
   "metadata": {},
   "outputs": [],
   "source": [
    "rf=RandomForestClassifier(criterion='entropy',max_depth=None,min_samples_split=2,n_estimators=50)"
   ]
  },
  {
   "cell_type": "code",
   "execution_count": 81,
   "metadata": {},
   "outputs": [
    {
     "name": "stdout",
     "output_type": "stream",
     "text": [
      "Accuracy score 0.9211391018619934\n",
      "Confusion matrix \n",
      " [[34  0  0 ...  0  0  0]\n",
      " [ 0 32  0 ...  0  0  0]\n",
      " [ 0  0 38 ...  0  0  0]\n",
      " ...\n",
      " [ 0  0  0 ... 25  0  0]\n",
      " [ 0  0  0 ...  1 30  0]\n",
      " [ 0  0  0 ...  0  0 39]]\n",
      "Classification report \n",
      "               precision    recall  f1-score   support\n",
      "\n",
      "           0       0.97      1.00      0.99        34\n",
      "           1       0.89      0.97      0.93        33\n",
      "           2       0.86      0.97      0.92        39\n",
      "           3       0.97      1.00      0.99        35\n",
      "           4       0.97      0.87      0.92        38\n",
      "           5       1.00      0.91      0.95        22\n",
      "           6       0.91      0.94      0.92        32\n",
      "           7       0.94      1.00      0.97        31\n",
      "           8       1.00      0.96      0.98        45\n",
      "           9       0.88      0.90      0.89        40\n",
      "          10       0.93      0.95      0.94        43\n",
      "          11       1.00      0.92      0.96        39\n",
      "          12       0.95      0.95      0.95        37\n",
      "          13       0.87      1.00      0.93        33\n",
      "          14       1.00      1.00      1.00        27\n",
      "          15       1.00      0.97      0.98        33\n",
      "          16       0.97      0.97      0.97        38\n",
      "          17       0.96      0.93      0.95        29\n",
      "          18       0.82      0.96      0.89        28\n",
      "          19       0.97      0.86      0.91        35\n",
      "          20       0.85      0.88      0.87        33\n",
      "          21       0.92      0.86      0.89        28\n",
      "          22       0.97      1.00      0.99        38\n",
      "          23       0.85      0.91      0.88        32\n",
      "          24       0.88      1.00      0.93        28\n",
      "          25       0.97      0.97      0.97        31\n",
      "          26       0.86      0.83      0.85        30\n",
      "          27       0.91      0.89      0.90        36\n",
      "          28       1.00      0.95      0.97        38\n",
      "          29       0.97      0.97      0.97        31\n",
      "          30       0.91      0.91      0.91        32\n",
      "          31       0.56      0.73      0.63        26\n",
      "          32       1.00      0.96      0.98        28\n",
      "          33       0.90      0.79      0.84        33\n",
      "          34       0.91      0.94      0.93        33\n",
      "          35       0.91      0.97      0.94        32\n",
      "          36       0.85      0.76      0.80        37\n",
      "          37       0.94      0.91      0.92        33\n",
      "          38       1.00      0.95      0.98        42\n",
      "          39       0.96      1.00      0.98        27\n",
      "          40       0.90      0.93      0.92        29\n",
      "          41       0.89      0.94      0.91        33\n",
      "          42       0.86      0.94      0.90        32\n",
      "          43       0.88      0.91      0.89        32\n",
      "          44       0.94      0.91      0.93        34\n",
      "          45       0.94      0.94      0.94        32\n",
      "          46       0.95      0.97      0.96        39\n",
      "          47       0.98      0.92      0.95        50\n",
      "          48       0.91      0.78      0.84        41\n",
      "          49       0.94      0.94      0.94        31\n",
      "          50       0.76      0.54      0.63        35\n",
      "          51       0.96      1.00      0.98        25\n",
      "          52       0.94      0.97      0.95        31\n",
      "          53       0.91      0.91      0.91        43\n",
      "\n",
      "    accuracy                           0.92      1826\n",
      "   macro avg       0.92      0.92      0.92      1826\n",
      "weighted avg       0.92      0.92      0.92      1826\n",
      "\n",
      "Cross val score [0.90142388 0.91945205 0.92657534 0.91452055 0.93260274]\n",
      "0.9189149124517997\n"
     ]
    }
   ],
   "source": [
    "fun(rf)\n",
    "cvs(rf)"
   ]
  },
  {
   "cell_type": "code",
   "execution_count": 82,
   "metadata": {},
   "outputs": [
    {
     "name": "stdout",
     "output_type": "stream",
     "text": [
      "Accuracy score 0.7929901423877328\n",
      "Confusion matrix \n",
      " [[31  0  0 ...  0  0  0]\n",
      " [ 0 22  0 ...  0  0  0]\n",
      " [ 0  0 36 ...  0  0  0]\n",
      " ...\n",
      " [ 0  0  0 ... 25  0  0]\n",
      " [ 0  0  0 ...  0 29  0]\n",
      " [ 0  1  0 ...  0  0 33]]\n",
      "Classification report \n",
      "               precision    recall  f1-score   support\n",
      "\n",
      "           0       0.82      0.91      0.86        34\n",
      "           1       0.59      0.67      0.63        33\n",
      "           2       0.78      0.92      0.85        39\n",
      "           3       0.97      0.97      0.97        35\n",
      "           4       0.91      0.84      0.88        38\n",
      "           5       0.70      0.86      0.78        22\n",
      "           6       0.91      0.97      0.94        32\n",
      "           7       0.78      0.94      0.85        31\n",
      "           8       0.96      0.98      0.97        45\n",
      "           9       0.84      0.80      0.82        40\n",
      "          10       0.84      0.72      0.77        43\n",
      "          11       0.82      0.79      0.81        39\n",
      "          12       0.86      0.81      0.83        37\n",
      "          13       0.79      0.91      0.85        33\n",
      "          14       0.86      0.89      0.87        27\n",
      "          15       0.94      0.91      0.92        33\n",
      "          16       0.97      0.84      0.90        38\n",
      "          17       0.75      0.83      0.79        29\n",
      "          18       0.67      0.86      0.75        28\n",
      "          19       0.62      0.57      0.60        35\n",
      "          20       0.69      0.73      0.71        33\n",
      "          21       0.56      0.68      0.61        28\n",
      "          22       0.85      0.87      0.86        38\n",
      "          23       0.69      0.78      0.74        32\n",
      "          24       0.88      0.79      0.83        28\n",
      "          25       0.94      0.94      0.94        31\n",
      "          26       0.58      0.60      0.59        30\n",
      "          27       0.75      0.67      0.71        36\n",
      "          28       0.89      0.84      0.86        38\n",
      "          29       0.90      0.84      0.87        31\n",
      "          30       0.77      0.84      0.81        32\n",
      "          31       0.47      0.62      0.53        26\n",
      "          32       0.79      0.82      0.81        28\n",
      "          33       0.83      0.73      0.77        33\n",
      "          34       0.81      0.64      0.71        33\n",
      "          35       0.68      0.84      0.75        32\n",
      "          36       0.60      0.41      0.48        37\n",
      "          37       0.78      0.76      0.77        33\n",
      "          38       0.80      0.76      0.78        42\n",
      "          39       0.89      0.93      0.91        27\n",
      "          40       0.78      0.62      0.69        29\n",
      "          41       0.77      0.82      0.79        33\n",
      "          42       0.75      0.75      0.75        32\n",
      "          43       0.54      0.69      0.60        32\n",
      "          44       0.82      0.79      0.81        34\n",
      "          45       0.90      0.84      0.87        32\n",
      "          46       0.79      0.69      0.74        39\n",
      "          47       0.91      0.84      0.87        50\n",
      "          48       0.79      0.66      0.72        41\n",
      "          49       0.96      0.81      0.88        31\n",
      "          50       0.58      0.63      0.60        35\n",
      "          51       1.00      1.00      1.00        25\n",
      "          52       0.94      0.94      0.94        31\n",
      "          53       0.87      0.77      0.81        43\n",
      "\n",
      "    accuracy                           0.79      1826\n",
      "   macro avg       0.79      0.79      0.79      1826\n",
      "weighted avg       0.80      0.79      0.79      1826\n",
      "\n",
      "Cross val score [0.79572837 0.8        0.82630137 0.7890411  0.78191781]\n",
      "0.7985977283980255\n"
     ]
    }
   ],
   "source": [
    "etc=ExtraTreeClassifier(criterion='gini',max_depth=None,min_samples_split=2,splitter='best')\n",
    "fun(etc)\n",
    "cvs(etc)"
   ]
  },
  {
   "cell_type": "code",
   "execution_count": 83,
   "metadata": {},
   "outputs": [],
   "source": [
    "cross_vall.append(0.79)\n",
    "acc.append(0.79)\n",
    "model.append('Extra tree')"
   ]
  },
  {
   "cell_type": "code",
   "execution_count": 84,
   "metadata": {},
   "outputs": [],
   "source": [
    "cross_vall.append(0.92)\n",
    "acc.append(0.92)\n",
    "model.append('Random Forest')"
   ]
  },
  {
   "cell_type": "code",
   "execution_count": 86,
   "metadata": {},
   "outputs": [
    {
     "name": "stdout",
     "output_type": "stream",
     "text": [
      "{'algorithm': 'SAMME.R', 'learning_rate': 0.8, 'n_estimators': 50, 'random_state': 43}\n"
     ]
    }
   ],
   "source": [
    "params_ada={'n_estimators':[10,20,30,50],'learning_rate':[1,0.9,0.8],'algorithm':['SAMME', 'SAMME.R'],'random_state':[43,33,56]}\n",
    "hypertuning(params_ada,ada)"
   ]
  },
  {
   "cell_type": "code",
   "execution_count": 87,
   "metadata": {},
   "outputs": [],
   "source": [
    "ada=AdaBoostClassifier(algorithm='SAMME.R',learning_rate=0.8,n_estimators=50,random_state=43)"
   ]
  },
  {
   "cell_type": "code",
   "execution_count": 88,
   "metadata": {},
   "outputs": [
    {
     "name": "stdout",
     "output_type": "stream",
     "text": [
      "Accuracy score 0.21412924424972618\n",
      "Confusion matrix \n",
      " [[28  0  0 ...  0  0  0]\n",
      " [ 0  0  0 ...  0  0  0]\n",
      " [ 0  0  0 ...  0  0  0]\n",
      " ...\n",
      " [ 0  0  0 ...  0  0  0]\n",
      " [ 0  0  0 ...  0 14  0]\n",
      " [ 0  7  0 ...  0  0  0]]\n",
      "Classification report \n",
      "               precision    recall  f1-score   support\n",
      "\n",
      "           0       0.29      0.82      0.43        34\n",
      "           1       0.00      0.00      0.00        33\n",
      "           2       0.00      0.00      0.00        39\n",
      "           3       0.00      0.00      0.00        35\n",
      "           4       0.00      0.00      0.00        38\n",
      "           5       0.00      0.00      0.00        22\n",
      "           6       0.00      0.00      0.00        32\n",
      "           7       0.24      0.77      0.36        31\n",
      "           8       0.00      0.00      0.00        45\n",
      "           9       0.26      0.62      0.36        40\n",
      "          10       0.00      0.00      0.00        43\n",
      "          11       0.16      0.90      0.27        39\n",
      "          12       0.32      0.46      0.38        37\n",
      "          13       0.24      0.36      0.29        33\n",
      "          14       0.00      0.00      0.00        27\n",
      "          15       0.00      0.00      0.00        33\n",
      "          16       0.83      0.66      0.74        38\n",
      "          17       0.25      0.55      0.34        29\n",
      "          18       0.00      0.00      0.00        28\n",
      "          19       0.89      0.23      0.36        35\n",
      "          20       0.30      0.76      0.43        33\n",
      "          21       0.17      0.07      0.10        28\n",
      "          22       0.00      0.00      0.00        38\n",
      "          23       0.00      0.00      0.00        32\n",
      "          24       0.41      0.61      0.49        28\n",
      "          25       0.60      0.10      0.17        31\n",
      "          26       0.25      0.03      0.06        30\n",
      "          27       0.26      0.17      0.20        36\n",
      "          28       0.00      0.00      0.00        38\n",
      "          29       0.05      0.03      0.04        31\n",
      "          30       0.00      0.00      0.00        32\n",
      "          31       0.18      0.46      0.26        26\n",
      "          32       0.16      0.43      0.23        28\n",
      "          33       0.00      0.00      0.00        33\n",
      "          34       0.00      0.00      0.00        33\n",
      "          35       1.00      0.03      0.06        32\n",
      "          36       0.00      0.00      0.00        37\n",
      "          37       0.18      0.97      0.30        33\n",
      "          38       0.00      0.00      0.00        42\n",
      "          39       0.24      0.63      0.35        27\n",
      "          40       0.13      0.34      0.19        29\n",
      "          41       0.18      0.55      0.27        33\n",
      "          42       1.00      0.03      0.06        32\n",
      "          43       0.07      0.03      0.04        32\n",
      "          44       0.20      0.65      0.30        34\n",
      "          45       0.00      0.00      0.00        32\n",
      "          46       0.00      0.00      0.00        39\n",
      "          47       0.25      0.04      0.07        50\n",
      "          48       0.00      0.00      0.00        41\n",
      "          49       0.00      0.00      0.00        31\n",
      "          50       0.31      0.11      0.17        35\n",
      "          51       0.00      0.00      0.00        25\n",
      "          52       0.29      0.45      0.35        31\n",
      "          53       0.00      0.00      0.00        43\n",
      "\n",
      "    accuracy                           0.21      1826\n",
      "   macro avg       0.18      0.22      0.14      1826\n",
      "weighted avg       0.18      0.21      0.14      1826\n",
      "\n",
      "Cross val score [0.17086528 0.18575342 0.19671233 0.21534247 0.19561644]\n",
      "0.19285798736665216\n"
     ]
    }
   ],
   "source": [
    "fun(ada)\n",
    "cvs(ada)"
   ]
  },
  {
   "cell_type": "code",
   "execution_count": 89,
   "metadata": {},
   "outputs": [],
   "source": [
    "cross_vall.append(0.19)\n",
    "acc.append(0.21)\n",
    "model.append('Ada boost')"
   ]
  },
  {
   "cell_type": "code",
   "execution_count": 93,
   "metadata": {},
   "outputs": [
    {
     "data": {
      "text/html": [
       "<div>\n",
       "<style scoped>\n",
       "    .dataframe tbody tr th:only-of-type {\n",
       "        vertical-align: middle;\n",
       "    }\n",
       "\n",
       "    .dataframe tbody tr th {\n",
       "        vertical-align: top;\n",
       "    }\n",
       "\n",
       "    .dataframe thead th {\n",
       "        text-align: right;\n",
       "    }\n",
       "</style>\n",
       "<table border=\"1\" class=\"dataframe\">\n",
       "  <thead>\n",
       "    <tr style=\"text-align: right;\">\n",
       "      <th></th>\n",
       "      <th>Models</th>\n",
       "      <th>CVS</th>\n",
       "      <th>r2</th>\n",
       "      <th>diff</th>\n",
       "    </tr>\n",
       "  </thead>\n",
       "  <tbody>\n",
       "    <tr>\n",
       "      <th>0</th>\n",
       "      <td>SVC</td>\n",
       "      <td>0.88</td>\n",
       "      <td>0.89</td>\n",
       "      <td>0.01</td>\n",
       "    </tr>\n",
       "    <tr>\n",
       "      <th>1</th>\n",
       "      <td>Decision Tree Regressor</td>\n",
       "      <td>0.82</td>\n",
       "      <td>0.82</td>\n",
       "      <td>0.00</td>\n",
       "    </tr>\n",
       "    <tr>\n",
       "      <th>2</th>\n",
       "      <td>K Neighbors</td>\n",
       "      <td>0.91</td>\n",
       "      <td>0.91</td>\n",
       "      <td>0.00</td>\n",
       "    </tr>\n",
       "    <tr>\n",
       "      <th>3</th>\n",
       "      <td>Extra tree</td>\n",
       "      <td>0.79</td>\n",
       "      <td>0.79</td>\n",
       "      <td>0.00</td>\n",
       "    </tr>\n",
       "    <tr>\n",
       "      <th>4</th>\n",
       "      <td>Random Forest</td>\n",
       "      <td>0.92</td>\n",
       "      <td>0.92</td>\n",
       "      <td>0.00</td>\n",
       "    </tr>\n",
       "    <tr>\n",
       "      <th>5</th>\n",
       "      <td>Ada boost</td>\n",
       "      <td>0.19</td>\n",
       "      <td>0.21</td>\n",
       "      <td>0.02</td>\n",
       "    </tr>\n",
       "  </tbody>\n",
       "</table>\n",
       "</div>"
      ],
      "text/plain": [
       "                    Models   CVS    r2  diff\n",
       "0                      SVC  0.88  0.89  0.01\n",
       "1  Decision Tree Regressor  0.82  0.82  0.00\n",
       "2              K Neighbors  0.91  0.91  0.00\n",
       "3               Extra tree  0.79  0.79  0.00\n",
       "4            Random Forest  0.92  0.92  0.00\n",
       "5                Ada boost  0.19  0.21  0.02"
      ]
     },
     "execution_count": 93,
     "metadata": {},
     "output_type": "execute_result"
    }
   ],
   "source": [
    "res=pd.DataFrame()\n",
    "res['Models']=model\n",
    "res['CVS']=cross_vall\n",
    "res['r2']=acc\n",
    "diff=[]\n",
    "for i in range(0,len(acc)):\n",
    "    diff.append(acc[i]-cross_vall[i])\n",
    "res['diff']=diff\n",
    "res"
   ]
  },
  {
   "cell_type": "code",
   "execution_count": 94,
   "metadata": {},
   "outputs": [],
   "source": [
    "#best model=rf\n",
    "import pickle\n",
    "filename='avocado_classification.pkl'\n",
    "pickle.dump(rf,open(filename,'wb'))"
   ]
  },
  {
   "cell_type": "code",
   "execution_count": 95,
   "metadata": {},
   "outputs": [],
   "source": [
    "predict=rf.predict(x_test)"
   ]
  },
  {
   "cell_type": "code",
   "execution_count": 96,
   "metadata": {},
   "outputs": [
    {
     "data": {
      "text/html": [
       "<div>\n",
       "<style scoped>\n",
       "    .dataframe tbody tr th:only-of-type {\n",
       "        vertical-align: middle;\n",
       "    }\n",
       "\n",
       "    .dataframe tbody tr th {\n",
       "        vertical-align: top;\n",
       "    }\n",
       "\n",
       "    .dataframe thead th {\n",
       "        text-align: right;\n",
       "    }\n",
       "</style>\n",
       "<table border=\"1\" class=\"dataframe\">\n",
       "  <thead>\n",
       "    <tr style=\"text-align: right;\">\n",
       "      <th></th>\n",
       "      <th>Actual</th>\n",
       "      <th>Predicted</th>\n",
       "    </tr>\n",
       "  </thead>\n",
       "  <tbody>\n",
       "    <tr>\n",
       "      <th>7787</th>\n",
       "      <td>46</td>\n",
       "      <td>46</td>\n",
       "    </tr>\n",
       "    <tr>\n",
       "      <th>1785</th>\n",
       "      <td>10</td>\n",
       "      <td>10</td>\n",
       "    </tr>\n",
       "    <tr>\n",
       "      <th>1556</th>\n",
       "      <td>9</td>\n",
       "      <td>9</td>\n",
       "    </tr>\n",
       "    <tr>\n",
       "      <th>788</th>\n",
       "      <td>4</td>\n",
       "      <td>4</td>\n",
       "    </tr>\n",
       "    <tr>\n",
       "      <th>281</th>\n",
       "      <td>1</td>\n",
       "      <td>1</td>\n",
       "    </tr>\n",
       "    <tr>\n",
       "      <th>...</th>\n",
       "      <td>...</td>\n",
       "      <td>...</td>\n",
       "    </tr>\n",
       "    <tr>\n",
       "      <th>1211</th>\n",
       "      <td>7</td>\n",
       "      <td>7</td>\n",
       "    </tr>\n",
       "    <tr>\n",
       "      <th>7886</th>\n",
       "      <td>46</td>\n",
       "      <td>46</td>\n",
       "    </tr>\n",
       "    <tr>\n",
       "      <th>6278</th>\n",
       "      <td>37</td>\n",
       "      <td>37</td>\n",
       "    </tr>\n",
       "    <tr>\n",
       "      <th>7964</th>\n",
       "      <td>47</td>\n",
       "      <td>47</td>\n",
       "    </tr>\n",
       "    <tr>\n",
       "      <th>4811</th>\n",
       "      <td>28</td>\n",
       "      <td>28</td>\n",
       "    </tr>\n",
       "  </tbody>\n",
       "</table>\n",
       "<p>1826 rows × 2 columns</p>\n",
       "</div>"
      ],
      "text/plain": [
       "      Actual  Predicted\n",
       "7787      46         46\n",
       "1785      10         10\n",
       "1556       9          9\n",
       "788        4          4\n",
       "281        1          1\n",
       "...      ...        ...\n",
       "1211       7          7\n",
       "7886      46         46\n",
       "6278      37         37\n",
       "7964      47         47\n",
       "4811      28         28\n",
       "\n",
       "[1826 rows x 2 columns]"
      ]
     },
     "execution_count": 96,
     "metadata": {},
     "output_type": "execute_result"
    }
   ],
   "source": [
    "output=pd.DataFrame()\n",
    "output['Actual']=y_test\n",
    "output['Predicted']=predict\n",
    "output"
   ]
  },
  {
   "cell_type": "markdown",
   "metadata": {},
   "source": [
    "# Regression"
   ]
  },
  {
   "cell_type": "code",
   "execution_count": 97,
   "metadata": {},
   "outputs": [
    {
     "data": {
      "text/html": [
       "<div>\n",
       "<style scoped>\n",
       "    .dataframe tbody tr th:only-of-type {\n",
       "        vertical-align: middle;\n",
       "    }\n",
       "\n",
       "    .dataframe tbody tr th {\n",
       "        vertical-align: top;\n",
       "    }\n",
       "\n",
       "    .dataframe thead th {\n",
       "        text-align: right;\n",
       "    }\n",
       "</style>\n",
       "<table border=\"1\" class=\"dataframe\">\n",
       "  <thead>\n",
       "    <tr style=\"text-align: right;\">\n",
       "      <th></th>\n",
       "      <th>Date</th>\n",
       "      <th>AveragePrice</th>\n",
       "      <th>Total Volume</th>\n",
       "      <th>4046</th>\n",
       "      <th>4225</th>\n",
       "      <th>4770</th>\n",
       "      <th>Large Bags</th>\n",
       "      <th>type</th>\n",
       "      <th>year</th>\n",
       "      <th>region</th>\n",
       "    </tr>\n",
       "  </thead>\n",
       "  <tbody>\n",
       "    <tr>\n",
       "      <th>0</th>\n",
       "      <td>51</td>\n",
       "      <td>1.33</td>\n",
       "      <td>64236.62</td>\n",
       "      <td>1036.74</td>\n",
       "      <td>54454.85</td>\n",
       "      <td>48.16</td>\n",
       "      <td>93.25</td>\n",
       "      <td>0</td>\n",
       "      <td>2015</td>\n",
       "      <td>0</td>\n",
       "    </tr>\n",
       "    <tr>\n",
       "      <th>1</th>\n",
       "      <td>50</td>\n",
       "      <td>1.35</td>\n",
       "      <td>54876.98</td>\n",
       "      <td>674.28</td>\n",
       "      <td>44638.81</td>\n",
       "      <td>58.33</td>\n",
       "      <td>97.49</td>\n",
       "      <td>0</td>\n",
       "      <td>2015</td>\n",
       "      <td>0</td>\n",
       "    </tr>\n",
       "    <tr>\n",
       "      <th>2</th>\n",
       "      <td>49</td>\n",
       "      <td>0.93</td>\n",
       "      <td>118220.22</td>\n",
       "      <td>794.70</td>\n",
       "      <td>109149.67</td>\n",
       "      <td>130.50</td>\n",
       "      <td>103.14</td>\n",
       "      <td>0</td>\n",
       "      <td>2015</td>\n",
       "      <td>0</td>\n",
       "    </tr>\n",
       "    <tr>\n",
       "      <th>3</th>\n",
       "      <td>48</td>\n",
       "      <td>1.08</td>\n",
       "      <td>78992.15</td>\n",
       "      <td>1132.00</td>\n",
       "      <td>71976.41</td>\n",
       "      <td>72.58</td>\n",
       "      <td>133.76</td>\n",
       "      <td>0</td>\n",
       "      <td>2015</td>\n",
       "      <td>0</td>\n",
       "    </tr>\n",
       "    <tr>\n",
       "      <th>4</th>\n",
       "      <td>47</td>\n",
       "      <td>1.28</td>\n",
       "      <td>51039.60</td>\n",
       "      <td>941.48</td>\n",
       "      <td>43838.39</td>\n",
       "      <td>75.78</td>\n",
       "      <td>197.69</td>\n",
       "      <td>0</td>\n",
       "      <td>2015</td>\n",
       "      <td>0</td>\n",
       "    </tr>\n",
       "    <tr>\n",
       "      <th>...</th>\n",
       "      <td>...</td>\n",
       "      <td>...</td>\n",
       "      <td>...</td>\n",
       "      <td>...</td>\n",
       "      <td>...</td>\n",
       "      <td>...</td>\n",
       "      <td>...</td>\n",
       "      <td>...</td>\n",
       "      <td>...</td>\n",
       "      <td>...</td>\n",
       "    </tr>\n",
       "    <tr>\n",
       "      <th>18244</th>\n",
       "      <td>161</td>\n",
       "      <td>1.63</td>\n",
       "      <td>17074.83</td>\n",
       "      <td>2046.96</td>\n",
       "      <td>1529.20</td>\n",
       "      <td>0.00</td>\n",
       "      <td>431.85</td>\n",
       "      <td>1</td>\n",
       "      <td>2018</td>\n",
       "      <td>53</td>\n",
       "    </tr>\n",
       "    <tr>\n",
       "      <th>18245</th>\n",
       "      <td>160</td>\n",
       "      <td>1.71</td>\n",
       "      <td>13888.04</td>\n",
       "      <td>1191.70</td>\n",
       "      <td>3431.50</td>\n",
       "      <td>0.00</td>\n",
       "      <td>324.80</td>\n",
       "      <td>1</td>\n",
       "      <td>2018</td>\n",
       "      <td>53</td>\n",
       "    </tr>\n",
       "    <tr>\n",
       "      <th>18246</th>\n",
       "      <td>159</td>\n",
       "      <td>1.87</td>\n",
       "      <td>13766.76</td>\n",
       "      <td>1191.92</td>\n",
       "      <td>2452.79</td>\n",
       "      <td>727.94</td>\n",
       "      <td>42.31</td>\n",
       "      <td>1</td>\n",
       "      <td>2018</td>\n",
       "      <td>53</td>\n",
       "    </tr>\n",
       "    <tr>\n",
       "      <th>18247</th>\n",
       "      <td>158</td>\n",
       "      <td>1.93</td>\n",
       "      <td>16205.22</td>\n",
       "      <td>1527.63</td>\n",
       "      <td>2981.04</td>\n",
       "      <td>727.01</td>\n",
       "      <td>50.00</td>\n",
       "      <td>1</td>\n",
       "      <td>2018</td>\n",
       "      <td>53</td>\n",
       "    </tr>\n",
       "    <tr>\n",
       "      <th>18248</th>\n",
       "      <td>157</td>\n",
       "      <td>1.62</td>\n",
       "      <td>17489.58</td>\n",
       "      <td>2894.77</td>\n",
       "      <td>2356.13</td>\n",
       "      <td>224.53</td>\n",
       "      <td>26.01</td>\n",
       "      <td>1</td>\n",
       "      <td>2018</td>\n",
       "      <td>53</td>\n",
       "    </tr>\n",
       "  </tbody>\n",
       "</table>\n",
       "<p>17651 rows × 10 columns</p>\n",
       "</div>"
      ],
      "text/plain": [
       "       Date  AveragePrice  Total Volume     4046       4225    4770  \\\n",
       "0        51          1.33      64236.62  1036.74   54454.85   48.16   \n",
       "1        50          1.35      54876.98   674.28   44638.81   58.33   \n",
       "2        49          0.93     118220.22   794.70  109149.67  130.50   \n",
       "3        48          1.08      78992.15  1132.00   71976.41   72.58   \n",
       "4        47          1.28      51039.60   941.48   43838.39   75.78   \n",
       "...     ...           ...           ...      ...        ...     ...   \n",
       "18244   161          1.63      17074.83  2046.96    1529.20    0.00   \n",
       "18245   160          1.71      13888.04  1191.70    3431.50    0.00   \n",
       "18246   159          1.87      13766.76  1191.92    2452.79  727.94   \n",
       "18247   158          1.93      16205.22  1527.63    2981.04  727.01   \n",
       "18248   157          1.62      17489.58  2894.77    2356.13  224.53   \n",
       "\n",
       "       Large Bags  type  year  region  \n",
       "0           93.25     0  2015       0  \n",
       "1           97.49     0  2015       0  \n",
       "2          103.14     0  2015       0  \n",
       "3          133.76     0  2015       0  \n",
       "4          197.69     0  2015       0  \n",
       "...           ...   ...   ...     ...  \n",
       "18244      431.85     1  2018      53  \n",
       "18245      324.80     1  2018      53  \n",
       "18246       42.31     1  2018      53  \n",
       "18247       50.00     1  2018      53  \n",
       "18248       26.01     1  2018      53  \n",
       "\n",
       "[17651 rows x 10 columns]"
      ]
     },
     "execution_count": 97,
     "metadata": {},
     "output_type": "execute_result"
    }
   ],
   "source": [
    "df"
   ]
  },
  {
   "cell_type": "code",
   "execution_count": 99,
   "metadata": {},
   "outputs": [],
   "source": [
    "x=df.drop(['AveragePrice'],axis=1)"
   ]
  },
  {
   "cell_type": "code",
   "execution_count": 100,
   "metadata": {},
   "outputs": [],
   "source": [
    "y=df['AveragePrice']"
   ]
  },
  {
   "cell_type": "code",
   "execution_count": 101,
   "metadata": {},
   "outputs": [
    {
     "name": "stdout",
     "output_type": "stream",
     "text": [
      "At random state 999 max_r2 is 0.47326385430248097\n"
     ]
    }
   ],
   "source": [
    "from sklearn.model_selection import train_test_split\n",
    "from sklearn.linear_model import LinearRegression,Lasso,Ridge\n",
    "from sklearn.metrics import mean_squared_error,r2_score\n",
    "x_train=x\n",
    "y_train=y\n",
    "x_test=x\n",
    "y_test=y\n",
    "r_state=0\n",
    "max_r2=0\n",
    "lr=LinearRegression()\n",
    "for i in range(0,1000):\n",
    "    tr_x,t_x,tr_y,t_y=train_test_split(x,y,random_state=i,test_size=0.20)\n",
    "    lr.fit(tr_x,tr_y)\n",
    "    pred=lr.predict(t_x)\n",
    "    if r2_score(t_y,pred)>max_r2:\n",
    "        x_train=tr_x\n",
    "        x_test=t_x\n",
    "        y_train=tr_y\n",
    "        y_test=t_y\n",
    "        r_state=i\n",
    "        max_r2=r2_score(t_y,pred)\n",
    "print(\"At random state\",i,\"max_r2 is\",max_r2)"
   ]
  },
  {
   "cell_type": "code",
   "execution_count": 102,
   "metadata": {},
   "outputs": [],
   "source": [
    "def fun(f):\n",
    "    f.fit(x_train,y_train)\n",
    "    pred=f.predict(x_test)\n",
    "    print(\"MSE=\",mean_squared_error(y_test,pred))\n",
    "    print(\"r2 score=\",r2_score(y_test,pred))"
   ]
  },
  {
   "cell_type": "code",
   "execution_count": 103,
   "metadata": {},
   "outputs": [],
   "source": [
    "from sklearn.model_selection import cross_val_score,KFold\n",
    "def cvs(m):\n",
    "    cv1=KFold(n_splits=5,shuffle=True)\n",
    "    score=cross_val_score(m,x,y,cv=cv1,scoring='r2')\n",
    "    print(\"Cross val score\",score)\n",
    "    print(score.mean())\n",
    "    "
   ]
  },
  {
   "cell_type": "code",
   "execution_count": 104,
   "metadata": {},
   "outputs": [],
   "source": [
    "from sklearn.model_selection import GridSearchCV\n",
    "def hypertuning(params,model):\n",
    "    gd=GridSearchCV(model,params,cv=5)\n",
    "    gd.fit(x,y)\n",
    "    print(gd.best_params_)"
   ]
  },
  {
   "cell_type": "code",
   "execution_count": 105,
   "metadata": {},
   "outputs": [
    {
     "name": "stdout",
     "output_type": "stream",
     "text": [
      "{'copy_X': True, 'fit_intercept': False, 'n_jobs': None, 'normalize': True}\n"
     ]
    }
   ],
   "source": [
    "lr_params={'fit_intercept':[True,False],'normalize':[True,False],'copy_X':[True,False],'n_jobs':[None,1,2,3]}\n",
    "hypertuning(lr_params,lr)"
   ]
  },
  {
   "cell_type": "code",
   "execution_count": 107,
   "metadata": {},
   "outputs": [
    {
     "name": "stdout",
     "output_type": "stream",
     "text": [
      "Cross val score [0.43510754 0.43905245 0.4494829  0.45049094 0.42370096]\n",
      "0.4395669572584951\n",
      "MSE= 0.07951342847118492\n",
      "r2 score= 0.4732638543024812\n"
     ]
    }
   ],
   "source": [
    "lr=LinearRegression(copy_X=True,fit_intercept=True,n_jobs=None,normalize=True)\n",
    "cvs(lr)\n",
    "fun(lr)"
   ]
  },
  {
   "cell_type": "code",
   "execution_count": 108,
   "metadata": {},
   "outputs": [],
   "source": [
    "model=['Linear Regression']\n",
    "CVS=[0.47]\n",
    "r2=[0.43]"
   ]
  },
  {
   "cell_type": "code",
   "execution_count": 109,
   "metadata": {},
   "outputs": [
    {
     "name": "stdout",
     "output_type": "stream",
     "text": [
      "{'alpha': 0.001, 'copy_X': True, 'fit_intercept': False, 'normalize': True}\n"
     ]
    }
   ],
   "source": [
    "l=Lasso()\n",
    "params_lasso={\n",
    "    'alpha':[0.001,0.01,0.1,1],\n",
    "    'fit_intercept':[True,False],\n",
    "    'normalize':[True,False],\n",
    "    'copy_X':[True,False]\n",
    "}\n",
    "hypertuning(params_lasso,l)"
   ]
  },
  {
   "cell_type": "code",
   "execution_count": 111,
   "metadata": {},
   "outputs": [
    {
     "name": "stdout",
     "output_type": "stream",
     "text": [
      "MSE= 0.08203032432732847\n",
      "r2 score= 0.4565906954678379\n",
      "Cross val score [0.42209671 0.42364924 0.41627332 0.42850766 0.41682092]\n",
      "0.4214695699739218\n"
     ]
    }
   ],
   "source": [
    "l=Lasso(alpha=0.001,copy_X=True,fit_intercept=False,normalize=True)\n",
    "fun(l)\n",
    "cvs(l)"
   ]
  },
  {
   "cell_type": "code",
   "execution_count": 112,
   "metadata": {},
   "outputs": [],
   "source": [
    "model.append('Lasso')\n",
    "CVS.append(0.45)\n",
    "r2.append(0.42)"
   ]
  },
  {
   "cell_type": "code",
   "execution_count": 113,
   "metadata": {},
   "outputs": [
    {
     "name": "stdout",
     "output_type": "stream",
     "text": [
      "{'alpha': 0.01, 'copy_X': True, 'fit_intercept': True, 'normalize': True}\n"
     ]
    }
   ],
   "source": [
    "R=Ridge()\n",
    "params_ridge={\n",
    "    'alpha':[0.001,0.01,0.1,1],\n",
    "    'fit_intercept':[True,False],\n",
    "    'normalize':[True,False],\n",
    "    'copy_X':[True,False]\n",
    "}\n",
    "hypertuning(params_ridge,R)"
   ]
  },
  {
   "cell_type": "code",
   "execution_count": 115,
   "metadata": {},
   "outputs": [
    {
     "name": "stdout",
     "output_type": "stream",
     "text": [
      "MSE= 0.07963368513077206\n",
      "r2 score= 0.4724672149098239\n",
      "Cross val score [0.45291764 0.4283138  0.44640074 0.42631076 0.44246235]\n",
      "0.4392810576988597\n"
     ]
    }
   ],
   "source": [
    "R=Ridge(alpha=0.01,copy_X=True,fit_intercept=True,normalize=True)\n",
    "fun(R)\n",
    "cvs(R)"
   ]
  },
  {
   "cell_type": "code",
   "execution_count": 116,
   "metadata": {},
   "outputs": [],
   "source": [
    "model.append('Ridge')\n",
    "r2.append(0.47)\n",
    "CVS.append(0.43)"
   ]
  },
  {
   "cell_type": "code",
   "execution_count": null,
   "metadata": {},
   "outputs": [],
   "source": [
    "from sklearn.svm import SVR\n",
    "params_svr={\n",
    "    'kernel':['poly','linear','rbf','sigmoid'],'degree':[1,3,5,7],'gamma':['auto','scale'],'shrinking':[True,False]}\n",
    "hypertuning(params_svr,SVR())"
   ]
  },
  {
   "cell_type": "code",
   "execution_count": null,
   "metadata": {},
   "outputs": [],
   "source": [
    "svr=SVR(degree=1,gamma='auto',kernel='linear',shrinking=True)\n",
    "fun(svr)\n",
    "cvs(svr)"
   ]
  },
  {
   "cell_type": "code",
   "execution_count": null,
   "metadata": {},
   "outputs": [],
   "source": [
    "\n"
   ]
  },
  {
   "cell_type": "code",
   "execution_count": null,
   "metadata": {},
   "outputs": [],
   "source": []
  },
  {
   "cell_type": "code",
   "execution_count": null,
   "metadata": {},
   "outputs": [],
   "source": []
  },
  {
   "cell_type": "code",
   "execution_count": null,
   "metadata": {},
   "outputs": [],
   "source": []
  },
  {
   "cell_type": "code",
   "execution_count": null,
   "metadata": {},
   "outputs": [],
   "source": []
  },
  {
   "cell_type": "code",
   "execution_count": null,
   "metadata": {},
   "outputs": [],
   "source": []
  },
  {
   "cell_type": "code",
   "execution_count": null,
   "metadata": {},
   "outputs": [],
   "source": []
  },
  {
   "cell_type": "code",
   "execution_count": null,
   "metadata": {},
   "outputs": [],
   "source": []
  },
  {
   "cell_type": "code",
   "execution_count": null,
   "metadata": {},
   "outputs": [],
   "source": []
  },
  {
   "cell_type": "code",
   "execution_count": null,
   "metadata": {},
   "outputs": [],
   "source": []
  },
  {
   "cell_type": "code",
   "execution_count": null,
   "metadata": {},
   "outputs": [],
   "source": []
  },
  {
   "cell_type": "code",
   "execution_count": null,
   "metadata": {},
   "outputs": [],
   "source": []
  },
  {
   "cell_type": "code",
   "execution_count": null,
   "metadata": {},
   "outputs": [],
   "source": []
  },
  {
   "cell_type": "code",
   "execution_count": null,
   "metadata": {},
   "outputs": [],
   "source": []
  },
  {
   "cell_type": "code",
   "execution_count": null,
   "metadata": {},
   "outputs": [],
   "source": []
  },
  {
   "cell_type": "code",
   "execution_count": null,
   "metadata": {},
   "outputs": [],
   "source": []
  },
  {
   "cell_type": "code",
   "execution_count": null,
   "metadata": {},
   "outputs": [],
   "source": []
  },
  {
   "cell_type": "code",
   "execution_count": null,
   "metadata": {},
   "outputs": [],
   "source": []
  },
  {
   "cell_type": "code",
   "execution_count": null,
   "metadata": {},
   "outputs": [],
   "source": []
  },
  {
   "cell_type": "code",
   "execution_count": null,
   "metadata": {},
   "outputs": [],
   "source": []
  },
  {
   "cell_type": "code",
   "execution_count": null,
   "metadata": {},
   "outputs": [],
   "source": []
  },
  {
   "cell_type": "code",
   "execution_count": null,
   "metadata": {},
   "outputs": [],
   "source": []
  },
  {
   "cell_type": "code",
   "execution_count": null,
   "metadata": {},
   "outputs": [],
   "source": []
  },
  {
   "cell_type": "code",
   "execution_count": null,
   "metadata": {},
   "outputs": [],
   "source": []
  },
  {
   "cell_type": "code",
   "execution_count": null,
   "metadata": {},
   "outputs": [],
   "source": []
  },
  {
   "cell_type": "code",
   "execution_count": null,
   "metadata": {},
   "outputs": [],
   "source": []
  },
  {
   "cell_type": "code",
   "execution_count": null,
   "metadata": {},
   "outputs": [],
   "source": []
  },
  {
   "cell_type": "code",
   "execution_count": null,
   "metadata": {},
   "outputs": [],
   "source": []
  },
  {
   "cell_type": "code",
   "execution_count": null,
   "metadata": {},
   "outputs": [],
   "source": []
  },
  {
   "cell_type": "code",
   "execution_count": null,
   "metadata": {},
   "outputs": [],
   "source": []
  },
  {
   "cell_type": "code",
   "execution_count": null,
   "metadata": {},
   "outputs": [],
   "source": []
  },
  {
   "cell_type": "code",
   "execution_count": null,
   "metadata": {},
   "outputs": [],
   "source": []
  },
  {
   "cell_type": "code",
   "execution_count": null,
   "metadata": {},
   "outputs": [],
   "source": []
  },
  {
   "cell_type": "code",
   "execution_count": null,
   "metadata": {},
   "outputs": [],
   "source": []
  },
  {
   "cell_type": "code",
   "execution_count": null,
   "metadata": {},
   "outputs": [],
   "source": []
  },
  {
   "cell_type": "code",
   "execution_count": null,
   "metadata": {},
   "outputs": [],
   "source": []
  },
  {
   "cell_type": "code",
   "execution_count": null,
   "metadata": {},
   "outputs": [],
   "source": []
  },
  {
   "cell_type": "code",
   "execution_count": null,
   "metadata": {},
   "outputs": [],
   "source": []
  },
  {
   "cell_type": "code",
   "execution_count": null,
   "metadata": {},
   "outputs": [],
   "source": []
  },
  {
   "cell_type": "code",
   "execution_count": null,
   "metadata": {},
   "outputs": [],
   "source": []
  }
 ],
 "metadata": {
  "kernelspec": {
   "display_name": "Python 3",
   "language": "python",
   "name": "python3"
  },
  "language_info": {
   "codemirror_mode": {
    "name": "ipython",
    "version": 3
   },
   "file_extension": ".py",
   "mimetype": "text/x-python",
   "name": "python",
   "nbconvert_exporter": "python",
   "pygments_lexer": "ipython3",
   "version": "3.8.5"
  }
 },
 "nbformat": 4,
 "nbformat_minor": 4
}
